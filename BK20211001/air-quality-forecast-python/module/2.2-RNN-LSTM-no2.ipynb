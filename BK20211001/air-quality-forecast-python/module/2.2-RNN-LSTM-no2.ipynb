{
 "cells": [
  {
   "cell_type": "code",
   "execution_count": 1,
   "source": [
    "# Time Series Prediction with LSTM\n",
    "import numpy\n",
    "import matplotlib.pyplot as plt\n",
    "import pandas as pd\n",
    "import math\n",
    "from keras.models import Sequential\n",
    "from keras.layers import Dense\n",
    "from keras.layers import LSTM\n",
    "from sklearn.preprocessing import MinMaxScaler\n",
    "from sklearn.metrics import mean_squared_error\n",
    "\n",
    "from pickle import dump"
   ],
   "outputs": [],
   "metadata": {}
  },
  {
   "cell_type": "code",
   "execution_count": 2,
   "source": [
    "#convert an array of values into a dataset matrix\n",
    "def create_dataset(dataset, look_back=1):\n",
    " dataX, dataY = [], []\n",
    " for i in range(len(dataset)-look_back-1):\n",
    "  a = dataset[i:(i+look_back), 0]\n",
    "  dataX.append(a)\n",
    "  dataY.append(dataset[i + look_back, 0])\n",
    " return numpy.array(dataX), numpy.array(dataY)"
   ],
   "outputs": [],
   "metadata": {}
  },
  {
   "cell_type": "code",
   "execution_count": 3,
   "source": [
    "# fix random seed for reproducibility\n",
    "numpy.random.seed(7)"
   ],
   "outputs": [],
   "metadata": {}
  },
  {
   "cell_type": "code",
   "execution_count": 4,
   "source": [
    "# load the dataset\n",
    "dataset_name = \"q1\"\n",
    "product_name = \"no2\"\n",
    "file_path = 'dataset/'+dataset_name+'.csv'\n",
    "dataframe = pd.read_csv(file_path)\n",
    "print(\"Dataframe: \\n\", dataframe)\n",
    "dataset = numpy.asarray(dataframe[product_name]).reshape(-1,1)\n",
    "print(\"Dataset: \\n\", dataset)\n"
   ],
   "outputs": [
    {
     "output_type": "stream",
     "name": "stdout",
     "text": [
      "Dataframe: \n",
      "             date dist        co       no2        o3  so2  ch4      hcho\n",
      "0     2018-04-30   q1  0.036519  0.000059  0.127509  0.0    0  0.000000\n",
      "1     2018-05-01   q1  0.035765  0.000053  0.128756  0.0    0  0.000000\n",
      "2     2018-05-02   q1  0.037218  0.000051  0.127053  0.0    0  0.000000\n",
      "3     2018-05-03   q1  0.000000  0.000000  0.120879  0.0    0  0.000000\n",
      "4     2018-05-04   q1  0.000000  0.000000  0.121712  0.0    0  0.000000\n",
      "...          ...  ...       ...       ...       ...  ...  ...       ...\n",
      "1194  2021-08-06   q1  0.000000  0.000000  0.120559  0.0    0  0.000000\n",
      "1195  2021-08-07   q1  0.020865  0.000000  0.119257  0.0    0  0.000000\n",
      "1196  2021-08-08   q1  0.025278  0.000000  0.118261  0.0    0  0.000000\n",
      "1197  2021-08-09   q1  0.000000  0.000000  0.120582  0.0    0  0.000295\n",
      "1198  2021-08-10   q1  0.026092  0.000000  0.120392  0.0    0  0.000000\n",
      "\n",
      "[1199 rows x 8 columns]\n",
      "Dataset: \n",
      " [[5.89875090e-05]\n",
      " [5.31632941e-05]\n",
      " [5.09173915e-05]\n",
      " ...\n",
      " [0.00000000e+00]\n",
      " [0.00000000e+00]\n",
      " [0.00000000e+00]]\n"
     ]
    }
   ],
   "metadata": {}
  },
  {
   "cell_type": "code",
   "execution_count": 5,
   "source": [
    "# normalize the dataset\n",
    "scaler = MinMaxScaler(feature_range=(0, 1))\n",
    "dataset = scaler.fit_transform(dataset)\n",
    "print(\"Dataset after scale: \\n\", dataset)"
   ],
   "outputs": [
    {
     "output_type": "stream",
     "name": "stdout",
     "text": [
      "Dataset after scale: \n",
      " [[0.30101245]\n",
      " [0.27129156]\n",
      " [0.25983075]\n",
      " ...\n",
      " [0.        ]\n",
      " [0.        ]\n",
      " [0.        ]]\n"
     ]
    }
   ],
   "metadata": {}
  },
  {
   "cell_type": "code",
   "execution_count": 6,
   "source": [
    "# split into train and test sets\n",
    "train_size = int(len(dataset) * 0.9)\n",
    "test_size = len(dataset) - train_size\n",
    "train, test = dataset[0:train_size,:], dataset[train_size:len(dataset),:]"
   ],
   "outputs": [],
   "metadata": {}
  },
  {
   "cell_type": "code",
   "execution_count": 7,
   "source": [
    "# reshape into X=t and Y=t+1\n",
    "look_back = 1\n",
    "trainX, trainY = create_dataset(train, look_back)\n",
    "testX, testY = create_dataset(test, look_back)\n",
    "print(\"TrainX shape: \", trainX.shape)\n",
    "print(\"TrainY shape: \", trainY.shape)"
   ],
   "outputs": [
    {
     "output_type": "stream",
     "name": "stdout",
     "text": [
      "TrainX shape:  (1077, 1)\n",
      "TrainY shape:  (1077,)\n"
     ]
    }
   ],
   "metadata": {}
  },
  {
   "cell_type": "code",
   "execution_count": 8,
   "source": [
    "# reshape input to be [samples, time steps, features]\n",
    "trainX = numpy.reshape(trainX, (trainX.shape[0], 1, trainX.shape[1]))\n",
    "testX = numpy.reshape(testX, (testX.shape[0], 1, testX.shape[1]))"
   ],
   "outputs": [],
   "metadata": {}
  },
  {
   "cell_type": "code",
   "execution_count": 9,
   "source": [
    "# create and fit the LSTM network\n",
    "model = Sequential()\n",
    "model.add(LSTM(4, input_shape=(1, look_back)))\n",
    "model.add(Dense(1))\n",
    "#model.compile(loss='mean_squared_error', optimizer='adam', metrics=['accuracy'])\n",
    "model.compile(loss='mean_squared_error', optimizer='adam')\n",
    "print(model.summary())\n",
    "history = model.fit(trainX, trainY, epochs=100, batch_size=10, verbose=2,\n",
    "          validation_data=(testX, testY))\n",
    "\n",
    "score = model.evaluate(testX, testY, verbose=0)\n",
    "print('score: test score = ', score)\n",
    "\n",
    "# save the model\n",
    "model.save('models/rnn-lstm-'+product_name)\n",
    "# save the scaler\n",
    "dump(scaler, open('models/rnn-lstm-'+product_name+'/scaler.pkl', 'wb'))"
   ],
   "outputs": [
    {
     "output_type": "stream",
     "name": "stdout",
     "text": [
      "Model: \"sequential\"\n",
      "_________________________________________________________________\n",
      "Layer (type)                 Output Shape              Param #   \n",
      "=================================================================\n",
      "lstm (LSTM)                  (None, 4)                 96        \n",
      "_________________________________________________________________\n",
      "dense (Dense)                (None, 1)                 5         \n",
      "=================================================================\n",
      "Total params: 101\n",
      "Trainable params: 101\n",
      "Non-trainable params: 0\n",
      "_________________________________________________________________\n",
      "None\n",
      "Epoch 1/100\n",
      "108/108 - 4s - loss: 0.0395 - val_loss: 0.0162\n",
      "Epoch 2/100\n",
      "108/108 - 0s - loss: 0.0374 - val_loss: 0.0169\n",
      "Epoch 3/100\n",
      "108/108 - 0s - loss: 0.0373 - val_loss: 0.0159\n",
      "Epoch 4/100\n",
      "108/108 - 0s - loss: 0.0373 - val_loss: 0.0164\n",
      "Epoch 5/100\n",
      "108/108 - 0s - loss: 0.0373 - val_loss: 0.0166\n",
      "Epoch 6/100\n",
      "108/108 - 0s - loss: 0.0372 - val_loss: 0.0166\n",
      "Epoch 7/100\n",
      "108/108 - 0s - loss: 0.0373 - val_loss: 0.0167\n",
      "Epoch 8/100\n",
      "108/108 - 0s - loss: 0.0372 - val_loss: 0.0163\n",
      "Epoch 9/100\n",
      "108/108 - 0s - loss: 0.0373 - val_loss: 0.0169\n",
      "Epoch 10/100\n",
      "108/108 - 0s - loss: 0.0373 - val_loss: 0.0173\n",
      "Epoch 11/100\n",
      "108/108 - 0s - loss: 0.0372 - val_loss: 0.0161\n",
      "Epoch 12/100\n",
      "108/108 - 0s - loss: 0.0373 - val_loss: 0.0164\n",
      "Epoch 13/100\n",
      "108/108 - 0s - loss: 0.0373 - val_loss: 0.0164\n",
      "Epoch 14/100\n",
      "108/108 - 0s - loss: 0.0372 - val_loss: 0.0170\n",
      "Epoch 15/100\n",
      "108/108 - 0s - loss: 0.0373 - val_loss: 0.0172\n",
      "Epoch 16/100\n",
      "108/108 - 0s - loss: 0.0373 - val_loss: 0.0166\n",
      "Epoch 17/100\n",
      "108/108 - 0s - loss: 0.0372 - val_loss: 0.0164\n",
      "Epoch 18/100\n",
      "108/108 - 0s - loss: 0.0373 - val_loss: 0.0163\n",
      "Epoch 19/100\n",
      "108/108 - 0s - loss: 0.0373 - val_loss: 0.0166\n",
      "Epoch 20/100\n",
      "108/108 - 0s - loss: 0.0373 - val_loss: 0.0161\n",
      "Epoch 21/100\n",
      "108/108 - 0s - loss: 0.0373 - val_loss: 0.0158\n",
      "Epoch 22/100\n",
      "108/108 - 0s - loss: 0.0373 - val_loss: 0.0159\n",
      "Epoch 23/100\n",
      "108/108 - 0s - loss: 0.0372 - val_loss: 0.0158\n",
      "Epoch 24/100\n",
      "108/108 - 0s - loss: 0.0372 - val_loss: 0.0160\n",
      "Epoch 25/100\n",
      "108/108 - 0s - loss: 0.0373 - val_loss: 0.0162\n",
      "Epoch 26/100\n",
      "108/108 - 0s - loss: 0.0373 - val_loss: 0.0168\n",
      "Epoch 27/100\n",
      "108/108 - 0s - loss: 0.0372 - val_loss: 0.0159\n",
      "Epoch 28/100\n",
      "108/108 - 0s - loss: 0.0373 - val_loss: 0.0167\n",
      "Epoch 29/100\n",
      "108/108 - 0s - loss: 0.0373 - val_loss: 0.0164\n",
      "Epoch 30/100\n",
      "108/108 - 0s - loss: 0.0373 - val_loss: 0.0165\n",
      "Epoch 31/100\n",
      "108/108 - 0s - loss: 0.0373 - val_loss: 0.0161\n",
      "Epoch 32/100\n",
      "108/108 - 0s - loss: 0.0372 - val_loss: 0.0172\n",
      "Epoch 33/100\n",
      "108/108 - 0s - loss: 0.0372 - val_loss: 0.0166\n",
      "Epoch 34/100\n",
      "108/108 - 0s - loss: 0.0372 - val_loss: 0.0167\n",
      "Epoch 35/100\n",
      "108/108 - 0s - loss: 0.0372 - val_loss: 0.0158\n",
      "Epoch 36/100\n",
      "108/108 - 0s - loss: 0.0373 - val_loss: 0.0160\n",
      "Epoch 37/100\n",
      "108/108 - 0s - loss: 0.0373 - val_loss: 0.0161\n",
      "Epoch 38/100\n",
      "108/108 - 0s - loss: 0.0373 - val_loss: 0.0165\n",
      "Epoch 39/100\n",
      "108/108 - 0s - loss: 0.0372 - val_loss: 0.0163\n",
      "Epoch 40/100\n",
      "108/108 - 0s - loss: 0.0372 - val_loss: 0.0172\n",
      "Epoch 41/100\n",
      "108/108 - 0s - loss: 0.0372 - val_loss: 0.0161\n",
      "Epoch 42/100\n",
      "108/108 - 0s - loss: 0.0373 - val_loss: 0.0170\n",
      "Epoch 43/100\n",
      "108/108 - 0s - loss: 0.0372 - val_loss: 0.0161\n",
      "Epoch 44/100\n",
      "108/108 - 0s - loss: 0.0373 - val_loss: 0.0157\n",
      "Epoch 45/100\n",
      "108/108 - 0s - loss: 0.0373 - val_loss: 0.0165\n",
      "Epoch 46/100\n",
      "108/108 - 0s - loss: 0.0374 - val_loss: 0.0161\n",
      "Epoch 47/100\n",
      "108/108 - 0s - loss: 0.0374 - val_loss: 0.0167\n",
      "Epoch 48/100\n",
      "108/108 - 0s - loss: 0.0372 - val_loss: 0.0172\n",
      "Epoch 49/100\n",
      "108/108 - 0s - loss: 0.0373 - val_loss: 0.0162\n",
      "Epoch 50/100\n",
      "108/108 - 0s - loss: 0.0372 - val_loss: 0.0167\n",
      "Epoch 51/100\n",
      "108/108 - 0s - loss: 0.0372 - val_loss: 0.0168\n",
      "Epoch 52/100\n",
      "108/108 - 0s - loss: 0.0373 - val_loss: 0.0168\n",
      "Epoch 53/100\n",
      "108/108 - 0s - loss: 0.0372 - val_loss: 0.0167\n",
      "Epoch 54/100\n",
      "108/108 - 0s - loss: 0.0372 - val_loss: 0.0174\n",
      "Epoch 55/100\n",
      "108/108 - 0s - loss: 0.0373 - val_loss: 0.0166\n",
      "Epoch 56/100\n",
      "108/108 - 0s - loss: 0.0372 - val_loss: 0.0172\n",
      "Epoch 57/100\n",
      "108/108 - 0s - loss: 0.0373 - val_loss: 0.0167\n",
      "Epoch 58/100\n",
      "108/108 - 0s - loss: 0.0373 - val_loss: 0.0163\n",
      "Epoch 59/100\n",
      "108/108 - 0s - loss: 0.0372 - val_loss: 0.0160\n",
      "Epoch 60/100\n",
      "108/108 - 0s - loss: 0.0373 - val_loss: 0.0162\n",
      "Epoch 61/100\n",
      "108/108 - 0s - loss: 0.0372 - val_loss: 0.0155\n",
      "Epoch 62/100\n",
      "108/108 - 0s - loss: 0.0372 - val_loss: 0.0167\n",
      "Epoch 63/100\n",
      "108/108 - 0s - loss: 0.0372 - val_loss: 0.0164\n",
      "Epoch 64/100\n",
      "108/108 - 0s - loss: 0.0373 - val_loss: 0.0167\n",
      "Epoch 65/100\n",
      "108/108 - 0s - loss: 0.0372 - val_loss: 0.0172\n",
      "Epoch 66/100\n",
      "108/108 - 0s - loss: 0.0372 - val_loss: 0.0160\n",
      "Epoch 67/100\n",
      "108/108 - 0s - loss: 0.0372 - val_loss: 0.0155\n",
      "Epoch 68/100\n",
      "108/108 - 0s - loss: 0.0373 - val_loss: 0.0163\n",
      "Epoch 69/100\n",
      "108/108 - 0s - loss: 0.0372 - val_loss: 0.0160\n",
      "Epoch 70/100\n",
      "108/108 - 0s - loss: 0.0373 - val_loss: 0.0166\n",
      "Epoch 71/100\n",
      "108/108 - 0s - loss: 0.0372 - val_loss: 0.0163\n",
      "Epoch 72/100\n",
      "108/108 - 0s - loss: 0.0372 - val_loss: 0.0164\n",
      "Epoch 73/100\n",
      "108/108 - 0s - loss: 0.0373 - val_loss: 0.0166\n",
      "Epoch 74/100\n",
      "108/108 - 0s - loss: 0.0373 - val_loss: 0.0170\n",
      "Epoch 75/100\n",
      "108/108 - 0s - loss: 0.0373 - val_loss: 0.0168\n",
      "Epoch 76/100\n",
      "108/108 - 0s - loss: 0.0373 - val_loss: 0.0164\n",
      "Epoch 77/100\n",
      "108/108 - 0s - loss: 0.0372 - val_loss: 0.0160\n",
      "Epoch 78/100\n",
      "108/108 - 0s - loss: 0.0372 - val_loss: 0.0173\n",
      "Epoch 79/100\n",
      "108/108 - 0s - loss: 0.0372 - val_loss: 0.0167\n",
      "Epoch 80/100\n",
      "108/108 - 0s - loss: 0.0372 - val_loss: 0.0161\n",
      "Epoch 81/100\n",
      "108/108 - 0s - loss: 0.0373 - val_loss: 0.0164\n",
      "Epoch 82/100\n",
      "108/108 - 0s - loss: 0.0372 - val_loss: 0.0166\n",
      "Epoch 83/100\n",
      "108/108 - 0s - loss: 0.0373 - val_loss: 0.0154\n",
      "Epoch 84/100\n",
      "108/108 - 0s - loss: 0.0372 - val_loss: 0.0167\n",
      "Epoch 85/100\n",
      "108/108 - 0s - loss: 0.0372 - val_loss: 0.0160\n",
      "Epoch 86/100\n",
      "108/108 - 0s - loss: 0.0373 - val_loss: 0.0161\n",
      "Epoch 87/100\n",
      "108/108 - 0s - loss: 0.0373 - val_loss: 0.0164\n",
      "Epoch 88/100\n",
      "108/108 - 0s - loss: 0.0373 - val_loss: 0.0164\n",
      "Epoch 89/100\n",
      "108/108 - 0s - loss: 0.0373 - val_loss: 0.0162\n",
      "Epoch 90/100\n",
      "108/108 - 0s - loss: 0.0372 - val_loss: 0.0163\n",
      "Epoch 91/100\n",
      "108/108 - 0s - loss: 0.0372 - val_loss: 0.0166\n",
      "Epoch 92/100\n",
      "108/108 - 0s - loss: 0.0372 - val_loss: 0.0162\n",
      "Epoch 93/100\n",
      "108/108 - 0s - loss: 0.0372 - val_loss: 0.0163\n",
      "Epoch 94/100\n",
      "108/108 - 0s - loss: 0.0372 - val_loss: 0.0161\n",
      "Epoch 95/100\n",
      "108/108 - 0s - loss: 0.0372 - val_loss: 0.0165\n",
      "Epoch 96/100\n",
      "108/108 - 0s - loss: 0.0373 - val_loss: 0.0161\n",
      "Epoch 97/100\n",
      "108/108 - 0s - loss: 0.0372 - val_loss: 0.0162\n",
      "Epoch 98/100\n",
      "108/108 - 0s - loss: 0.0372 - val_loss: 0.0168\n",
      "Epoch 99/100\n",
      "108/108 - 0s - loss: 0.0372 - val_loss: 0.0167\n",
      "Epoch 100/100\n",
      "108/108 - 0s - loss: 0.0373 - val_loss: 0.0164\n",
      "score: test score =  0.0163954496383667\n"
     ]
    },
    {
     "output_type": "stream",
     "name": "stderr",
     "text": [
      "WARNING:absl:Found untraced functions such as lstm_cell_layer_call_fn, lstm_cell_layer_call_and_return_conditional_losses, lstm_cell_layer_call_fn, lstm_cell_layer_call_and_return_conditional_losses, lstm_cell_layer_call_and_return_conditional_losses while saving (showing 5 of 5). These functions will not be directly callable after loading.\n"
     ]
    },
    {
     "output_type": "stream",
     "name": "stdout",
     "text": [
      "INFO:tensorflow:Assets written to: models/rnn-lstm-no2/assets\n"
     ]
    },
    {
     "output_type": "stream",
     "name": "stderr",
     "text": [
      "INFO:tensorflow:Assets written to: models/rnn-lstm-no2/assets\n"
     ]
    }
   ],
   "metadata": {}
  },
  {
   "cell_type": "code",
   "execution_count": 10,
   "source": [
    "plt.plot(history.history['loss'])"
   ],
   "outputs": [
    {
     "output_type": "execute_result",
     "data": {
      "text/plain": [
       "[<matplotlib.lines.Line2D at 0x7f99015bda30>]"
      ]
     },
     "metadata": {},
     "execution_count": 10
    },
    {
     "output_type": "display_data",
     "data": {
      "text/plain": [
       "<Figure size 432x288 with 1 Axes>"
      ],
      "image/svg+xml": "<?xml version=\"1.0\" encoding=\"utf-8\" standalone=\"no\"?>\n<!DOCTYPE svg PUBLIC \"-//W3C//DTD SVG 1.1//EN\"\n  \"http://www.w3.org/Graphics/SVG/1.1/DTD/svg11.dtd\">\n<!-- Created with matplotlib (https://matplotlib.org/) -->\n<svg height=\"248.518125pt\" version=\"1.1\" viewBox=\"0 0 391.190625 248.518125\" width=\"391.190625pt\" xmlns=\"http://www.w3.org/2000/svg\" xmlns:xlink=\"http://www.w3.org/1999/xlink\">\n <metadata>\n  <rdf:RDF xmlns:cc=\"http://creativecommons.org/ns#\" xmlns:dc=\"http://purl.org/dc/elements/1.1/\" xmlns:rdf=\"http://www.w3.org/1999/02/22-rdf-syntax-ns#\">\n   <cc:Work>\n    <dc:type rdf:resource=\"http://purl.org/dc/dcmitype/StillImage\"/>\n    <dc:date>2021-10-01T17:40:47.916107</dc:date>\n    <dc:format>image/svg+xml</dc:format>\n    <dc:creator>\n     <cc:Agent>\n      <dc:title>Matplotlib v3.3.2, https://matplotlib.org/</dc:title>\n     </cc:Agent>\n    </dc:creator>\n   </cc:Work>\n  </rdf:RDF>\n </metadata>\n <defs>\n  <style type=\"text/css\">*{stroke-linecap:butt;stroke-linejoin:round;}</style>\n </defs>\n <g id=\"figure_1\">\n  <g id=\"patch_1\">\n   <path d=\"M 0 248.518125 \nL 391.190625 248.518125 \nL 391.190625 0 \nL 0 0 \nz\n\" style=\"fill:none;\"/>\n  </g>\n  <g id=\"axes_1\">\n   <g id=\"patch_2\">\n    <path d=\"M 49.190625 224.64 \nL 383.990625 224.64 \nL 383.990625 7.2 \nL 49.190625 7.2 \nz\n\" style=\"fill:#ffffff;\"/>\n   </g>\n   <g id=\"matplotlib.axis_1\">\n    <g id=\"xtick_1\">\n     <g id=\"line2d_1\">\n      <defs>\n       <path d=\"M 0 0 \nL 0 3.5 \n\" id=\"m406d6cf34e\" style=\"stroke:#000000;stroke-width:0.8;\"/>\n      </defs>\n      <g>\n       <use style=\"stroke:#000000;stroke-width:0.8;\" x=\"64.408807\" xlink:href=\"#m406d6cf34e\" y=\"224.64\"/>\n      </g>\n     </g>\n     <g id=\"text_1\">\n      <!-- 0 -->\n      <g transform=\"translate(61.227557 239.238437)scale(0.1 -0.1)\">\n       <defs>\n        <path d=\"M 31.78125 66.40625 \nQ 24.171875 66.40625 20.328125 58.90625 \nQ 16.5 51.421875 16.5 36.375 \nQ 16.5 21.390625 20.328125 13.890625 \nQ 24.171875 6.390625 31.78125 6.390625 \nQ 39.453125 6.390625 43.28125 13.890625 \nQ 47.125 21.390625 47.125 36.375 \nQ 47.125 51.421875 43.28125 58.90625 \nQ 39.453125 66.40625 31.78125 66.40625 \nz\nM 31.78125 74.21875 \nQ 44.046875 74.21875 50.515625 64.515625 \nQ 56.984375 54.828125 56.984375 36.375 \nQ 56.984375 17.96875 50.515625 8.265625 \nQ 44.046875 -1.421875 31.78125 -1.421875 \nQ 19.53125 -1.421875 13.0625 8.265625 \nQ 6.59375 17.96875 6.59375 36.375 \nQ 6.59375 54.828125 13.0625 64.515625 \nQ 19.53125 74.21875 31.78125 74.21875 \nz\n\" id=\"DejaVuSans-48\"/>\n       </defs>\n       <use xlink:href=\"#DejaVuSans-48\"/>\n      </g>\n     </g>\n    </g>\n    <g id=\"xtick_2\">\n     <g id=\"line2d_2\">\n      <g>\n       <use style=\"stroke:#000000;stroke-width:0.8;\" x=\"125.89641\" xlink:href=\"#m406d6cf34e\" y=\"224.64\"/>\n      </g>\n     </g>\n     <g id=\"text_2\">\n      <!-- 20 -->\n      <g transform=\"translate(119.53391 239.238437)scale(0.1 -0.1)\">\n       <defs>\n        <path d=\"M 19.1875 8.296875 \nL 53.609375 8.296875 \nL 53.609375 0 \nL 7.328125 0 \nL 7.328125 8.296875 \nQ 12.9375 14.109375 22.625 23.890625 \nQ 32.328125 33.6875 34.8125 36.53125 \nQ 39.546875 41.84375 41.421875 45.53125 \nQ 43.3125 49.21875 43.3125 52.78125 \nQ 43.3125 58.59375 39.234375 62.25 \nQ 35.15625 65.921875 28.609375 65.921875 \nQ 23.96875 65.921875 18.8125 64.3125 \nQ 13.671875 62.703125 7.8125 59.421875 \nL 7.8125 69.390625 \nQ 13.765625 71.78125 18.9375 73 \nQ 24.125 74.21875 28.421875 74.21875 \nQ 39.75 74.21875 46.484375 68.546875 \nQ 53.21875 62.890625 53.21875 53.421875 \nQ 53.21875 48.921875 51.53125 44.890625 \nQ 49.859375 40.875 45.40625 35.40625 \nQ 44.1875 33.984375 37.640625 27.21875 \nQ 31.109375 20.453125 19.1875 8.296875 \nz\n\" id=\"DejaVuSans-50\"/>\n       </defs>\n       <use xlink:href=\"#DejaVuSans-50\"/>\n       <use x=\"63.623047\" xlink:href=\"#DejaVuSans-48\"/>\n      </g>\n     </g>\n    </g>\n    <g id=\"xtick_3\">\n     <g id=\"line2d_3\">\n      <g>\n       <use style=\"stroke:#000000;stroke-width:0.8;\" x=\"187.384013\" xlink:href=\"#m406d6cf34e\" y=\"224.64\"/>\n      </g>\n     </g>\n     <g id=\"text_3\">\n      <!-- 40 -->\n      <g transform=\"translate(181.021513 239.238437)scale(0.1 -0.1)\">\n       <defs>\n        <path d=\"M 37.796875 64.3125 \nL 12.890625 25.390625 \nL 37.796875 25.390625 \nz\nM 35.203125 72.90625 \nL 47.609375 72.90625 \nL 47.609375 25.390625 \nL 58.015625 25.390625 \nL 58.015625 17.1875 \nL 47.609375 17.1875 \nL 47.609375 0 \nL 37.796875 0 \nL 37.796875 17.1875 \nL 4.890625 17.1875 \nL 4.890625 26.703125 \nz\n\" id=\"DejaVuSans-52\"/>\n       </defs>\n       <use xlink:href=\"#DejaVuSans-52\"/>\n       <use x=\"63.623047\" xlink:href=\"#DejaVuSans-48\"/>\n      </g>\n     </g>\n    </g>\n    <g id=\"xtick_4\">\n     <g id=\"line2d_4\">\n      <g>\n       <use style=\"stroke:#000000;stroke-width:0.8;\" x=\"248.871617\" xlink:href=\"#m406d6cf34e\" y=\"224.64\"/>\n      </g>\n     </g>\n     <g id=\"text_4\">\n      <!-- 60 -->\n      <g transform=\"translate(242.509117 239.238437)scale(0.1 -0.1)\">\n       <defs>\n        <path d=\"M 33.015625 40.375 \nQ 26.375 40.375 22.484375 35.828125 \nQ 18.609375 31.296875 18.609375 23.390625 \nQ 18.609375 15.53125 22.484375 10.953125 \nQ 26.375 6.390625 33.015625 6.390625 \nQ 39.65625 6.390625 43.53125 10.953125 \nQ 47.40625 15.53125 47.40625 23.390625 \nQ 47.40625 31.296875 43.53125 35.828125 \nQ 39.65625 40.375 33.015625 40.375 \nz\nM 52.59375 71.296875 \nL 52.59375 62.3125 \nQ 48.875 64.0625 45.09375 64.984375 \nQ 41.3125 65.921875 37.59375 65.921875 \nQ 27.828125 65.921875 22.671875 59.328125 \nQ 17.53125 52.734375 16.796875 39.40625 \nQ 19.671875 43.65625 24.015625 45.921875 \nQ 28.375 48.1875 33.59375 48.1875 \nQ 44.578125 48.1875 50.953125 41.515625 \nQ 57.328125 34.859375 57.328125 23.390625 \nQ 57.328125 12.15625 50.6875 5.359375 \nQ 44.046875 -1.421875 33.015625 -1.421875 \nQ 20.359375 -1.421875 13.671875 8.265625 \nQ 6.984375 17.96875 6.984375 36.375 \nQ 6.984375 53.65625 15.1875 63.9375 \nQ 23.390625 74.21875 37.203125 74.21875 \nQ 40.921875 74.21875 44.703125 73.484375 \nQ 48.484375 72.75 52.59375 71.296875 \nz\n\" id=\"DejaVuSans-54\"/>\n       </defs>\n       <use xlink:href=\"#DejaVuSans-54\"/>\n       <use x=\"63.623047\" xlink:href=\"#DejaVuSans-48\"/>\n      </g>\n     </g>\n    </g>\n    <g id=\"xtick_5\">\n     <g id=\"line2d_5\">\n      <g>\n       <use style=\"stroke:#000000;stroke-width:0.8;\" x=\"310.35922\" xlink:href=\"#m406d6cf34e\" y=\"224.64\"/>\n      </g>\n     </g>\n     <g id=\"text_5\">\n      <!-- 80 -->\n      <g transform=\"translate(303.99672 239.238437)scale(0.1 -0.1)\">\n       <defs>\n        <path d=\"M 31.78125 34.625 \nQ 24.75 34.625 20.71875 30.859375 \nQ 16.703125 27.09375 16.703125 20.515625 \nQ 16.703125 13.921875 20.71875 10.15625 \nQ 24.75 6.390625 31.78125 6.390625 \nQ 38.8125 6.390625 42.859375 10.171875 \nQ 46.921875 13.96875 46.921875 20.515625 \nQ 46.921875 27.09375 42.890625 30.859375 \nQ 38.875 34.625 31.78125 34.625 \nz\nM 21.921875 38.8125 \nQ 15.578125 40.375 12.03125 44.71875 \nQ 8.5 49.078125 8.5 55.328125 \nQ 8.5 64.0625 14.71875 69.140625 \nQ 20.953125 74.21875 31.78125 74.21875 \nQ 42.671875 74.21875 48.875 69.140625 \nQ 55.078125 64.0625 55.078125 55.328125 \nQ 55.078125 49.078125 51.53125 44.71875 \nQ 48 40.375 41.703125 38.8125 \nQ 48.828125 37.15625 52.796875 32.3125 \nQ 56.78125 27.484375 56.78125 20.515625 \nQ 56.78125 9.90625 50.3125 4.234375 \nQ 43.84375 -1.421875 31.78125 -1.421875 \nQ 19.734375 -1.421875 13.25 4.234375 \nQ 6.78125 9.90625 6.78125 20.515625 \nQ 6.78125 27.484375 10.78125 32.3125 \nQ 14.796875 37.15625 21.921875 38.8125 \nz\nM 18.3125 54.390625 \nQ 18.3125 48.734375 21.84375 45.5625 \nQ 25.390625 42.390625 31.78125 42.390625 \nQ 38.140625 42.390625 41.71875 45.5625 \nQ 45.3125 48.734375 45.3125 54.390625 \nQ 45.3125 60.0625 41.71875 63.234375 \nQ 38.140625 66.40625 31.78125 66.40625 \nQ 25.390625 66.40625 21.84375 63.234375 \nQ 18.3125 60.0625 18.3125 54.390625 \nz\n\" id=\"DejaVuSans-56\"/>\n       </defs>\n       <use xlink:href=\"#DejaVuSans-56\"/>\n       <use x=\"63.623047\" xlink:href=\"#DejaVuSans-48\"/>\n      </g>\n     </g>\n    </g>\n    <g id=\"xtick_6\">\n     <g id=\"line2d_6\">\n      <g>\n       <use style=\"stroke:#000000;stroke-width:0.8;\" x=\"371.846823\" xlink:href=\"#m406d6cf34e\" y=\"224.64\"/>\n      </g>\n     </g>\n     <g id=\"text_6\">\n      <!-- 100 -->\n      <g transform=\"translate(362.303073 239.238437)scale(0.1 -0.1)\">\n       <defs>\n        <path d=\"M 12.40625 8.296875 \nL 28.515625 8.296875 \nL 28.515625 63.921875 \nL 10.984375 60.40625 \nL 10.984375 69.390625 \nL 28.421875 72.90625 \nL 38.28125 72.90625 \nL 38.28125 8.296875 \nL 54.390625 8.296875 \nL 54.390625 0 \nL 12.40625 0 \nz\n\" id=\"DejaVuSans-49\"/>\n       </defs>\n       <use xlink:href=\"#DejaVuSans-49\"/>\n       <use x=\"63.623047\" xlink:href=\"#DejaVuSans-48\"/>\n       <use x=\"127.246094\" xlink:href=\"#DejaVuSans-48\"/>\n      </g>\n     </g>\n    </g>\n   </g>\n   <g id=\"matplotlib.axis_2\">\n    <g id=\"ytick_1\">\n     <g id=\"line2d_7\">\n      <defs>\n       <path d=\"M 0 0 \nL -3.5 0 \n\" id=\"m391e46ffcd\" style=\"stroke:#000000;stroke-width:0.8;\"/>\n      </defs>\n      <g>\n       <use style=\"stroke:#000000;stroke-width:0.8;\" x=\"49.190625\" xlink:href=\"#m391e46ffcd\" y=\"187.323439\"/>\n      </g>\n     </g>\n     <g id=\"text_7\">\n      <!-- 0.0375 -->\n      <g transform=\"translate(7.2 191.122658)scale(0.1 -0.1)\">\n       <defs>\n        <path d=\"M 10.6875 12.40625 \nL 21 12.40625 \nL 21 0 \nL 10.6875 0 \nz\n\" id=\"DejaVuSans-46\"/>\n        <path d=\"M 40.578125 39.3125 \nQ 47.65625 37.796875 51.625 33 \nQ 55.609375 28.21875 55.609375 21.1875 \nQ 55.609375 10.40625 48.1875 4.484375 \nQ 40.765625 -1.421875 27.09375 -1.421875 \nQ 22.515625 -1.421875 17.65625 -0.515625 \nQ 12.796875 0.390625 7.625 2.203125 \nL 7.625 11.71875 \nQ 11.71875 9.328125 16.59375 8.109375 \nQ 21.484375 6.890625 26.8125 6.890625 \nQ 36.078125 6.890625 40.9375 10.546875 \nQ 45.796875 14.203125 45.796875 21.1875 \nQ 45.796875 27.640625 41.28125 31.265625 \nQ 36.765625 34.90625 28.71875 34.90625 \nL 20.21875 34.90625 \nL 20.21875 43.015625 \nL 29.109375 43.015625 \nQ 36.375 43.015625 40.234375 45.921875 \nQ 44.09375 48.828125 44.09375 54.296875 \nQ 44.09375 59.90625 40.109375 62.90625 \nQ 36.140625 65.921875 28.71875 65.921875 \nQ 24.65625 65.921875 20.015625 65.03125 \nQ 15.375 64.15625 9.8125 62.3125 \nL 9.8125 71.09375 \nQ 15.4375 72.65625 20.34375 73.4375 \nQ 25.25 74.21875 29.59375 74.21875 \nQ 40.828125 74.21875 47.359375 69.109375 \nQ 53.90625 64.015625 53.90625 55.328125 \nQ 53.90625 49.265625 50.4375 45.09375 \nQ 46.96875 40.921875 40.578125 39.3125 \nz\n\" id=\"DejaVuSans-51\"/>\n        <path d=\"M 8.203125 72.90625 \nL 55.078125 72.90625 \nL 55.078125 68.703125 \nL 28.609375 0 \nL 18.3125 0 \nL 43.21875 64.59375 \nL 8.203125 64.59375 \nz\n\" id=\"DejaVuSans-55\"/>\n        <path d=\"M 10.796875 72.90625 \nL 49.515625 72.90625 \nL 49.515625 64.59375 \nL 19.828125 64.59375 \nL 19.828125 46.734375 \nQ 21.96875 47.46875 24.109375 47.828125 \nQ 26.265625 48.1875 28.421875 48.1875 \nQ 40.625 48.1875 47.75 41.5 \nQ 54.890625 34.8125 54.890625 23.390625 \nQ 54.890625 11.625 47.5625 5.09375 \nQ 40.234375 -1.421875 26.90625 -1.421875 \nQ 22.3125 -1.421875 17.546875 -0.640625 \nQ 12.796875 0.140625 7.71875 1.703125 \nL 7.71875 11.625 \nQ 12.109375 9.234375 16.796875 8.0625 \nQ 21.484375 6.890625 26.703125 6.890625 \nQ 35.15625 6.890625 40.078125 11.328125 \nQ 45.015625 15.765625 45.015625 23.390625 \nQ 45.015625 31 40.078125 35.4375 \nQ 35.15625 39.890625 26.703125 39.890625 \nQ 22.75 39.890625 18.8125 39.015625 \nQ 14.890625 38.140625 10.796875 36.28125 \nz\n\" id=\"DejaVuSans-53\"/>\n       </defs>\n       <use xlink:href=\"#DejaVuSans-48\"/>\n       <use x=\"63.623047\" xlink:href=\"#DejaVuSans-46\"/>\n       <use x=\"95.410156\" xlink:href=\"#DejaVuSans-48\"/>\n       <use x=\"159.033203\" xlink:href=\"#DejaVuSans-51\"/>\n       <use x=\"222.65625\" xlink:href=\"#DejaVuSans-55\"/>\n       <use x=\"286.279297\" xlink:href=\"#DejaVuSans-53\"/>\n      </g>\n     </g>\n    </g>\n    <g id=\"ytick_2\">\n     <g id=\"line2d_8\">\n      <g>\n       <use style=\"stroke:#000000;stroke-width:0.8;\" x=\"49.190625\" xlink:href=\"#m391e46ffcd\" y=\"145.018599\"/>\n      </g>\n     </g>\n     <g id=\"text_8\">\n      <!-- 0.0380 -->\n      <g transform=\"translate(7.2 148.817817)scale(0.1 -0.1)\">\n       <use xlink:href=\"#DejaVuSans-48\"/>\n       <use x=\"63.623047\" xlink:href=\"#DejaVuSans-46\"/>\n       <use x=\"95.410156\" xlink:href=\"#DejaVuSans-48\"/>\n       <use x=\"159.033203\" xlink:href=\"#DejaVuSans-51\"/>\n       <use x=\"222.65625\" xlink:href=\"#DejaVuSans-56\"/>\n       <use x=\"286.279297\" xlink:href=\"#DejaVuSans-48\"/>\n      </g>\n     </g>\n    </g>\n    <g id=\"ytick_3\">\n     <g id=\"line2d_9\">\n      <g>\n       <use style=\"stroke:#000000;stroke-width:0.8;\" x=\"49.190625\" xlink:href=\"#m391e46ffcd\" y=\"102.713759\"/>\n      </g>\n     </g>\n     <g id=\"text_9\">\n      <!-- 0.0385 -->\n      <g transform=\"translate(7.2 106.512977)scale(0.1 -0.1)\">\n       <use xlink:href=\"#DejaVuSans-48\"/>\n       <use x=\"63.623047\" xlink:href=\"#DejaVuSans-46\"/>\n       <use x=\"95.410156\" xlink:href=\"#DejaVuSans-48\"/>\n       <use x=\"159.033203\" xlink:href=\"#DejaVuSans-51\"/>\n       <use x=\"222.65625\" xlink:href=\"#DejaVuSans-56\"/>\n       <use x=\"286.279297\" xlink:href=\"#DejaVuSans-53\"/>\n      </g>\n     </g>\n    </g>\n    <g id=\"ytick_4\">\n     <g id=\"line2d_10\">\n      <g>\n       <use style=\"stroke:#000000;stroke-width:0.8;\" x=\"49.190625\" xlink:href=\"#m391e46ffcd\" y=\"60.408919\"/>\n      </g>\n     </g>\n     <g id=\"text_10\">\n      <!-- 0.0390 -->\n      <g transform=\"translate(7.2 64.208137)scale(0.1 -0.1)\">\n       <defs>\n        <path d=\"M 10.984375 1.515625 \nL 10.984375 10.5 \nQ 14.703125 8.734375 18.5 7.8125 \nQ 22.3125 6.890625 25.984375 6.890625 \nQ 35.75 6.890625 40.890625 13.453125 \nQ 46.046875 20.015625 46.78125 33.40625 \nQ 43.953125 29.203125 39.59375 26.953125 \nQ 35.25 24.703125 29.984375 24.703125 \nQ 19.046875 24.703125 12.671875 31.3125 \nQ 6.296875 37.9375 6.296875 49.421875 \nQ 6.296875 60.640625 12.9375 67.421875 \nQ 19.578125 74.21875 30.609375 74.21875 \nQ 43.265625 74.21875 49.921875 64.515625 \nQ 56.59375 54.828125 56.59375 36.375 \nQ 56.59375 19.140625 48.40625 8.859375 \nQ 40.234375 -1.421875 26.421875 -1.421875 \nQ 22.703125 -1.421875 18.890625 -0.6875 \nQ 15.09375 0.046875 10.984375 1.515625 \nz\nM 30.609375 32.421875 \nQ 37.25 32.421875 41.125 36.953125 \nQ 45.015625 41.5 45.015625 49.421875 \nQ 45.015625 57.28125 41.125 61.84375 \nQ 37.25 66.40625 30.609375 66.40625 \nQ 23.96875 66.40625 20.09375 61.84375 \nQ 16.21875 57.28125 16.21875 49.421875 \nQ 16.21875 41.5 20.09375 36.953125 \nQ 23.96875 32.421875 30.609375 32.421875 \nz\n\" id=\"DejaVuSans-57\"/>\n       </defs>\n       <use xlink:href=\"#DejaVuSans-48\"/>\n       <use x=\"63.623047\" xlink:href=\"#DejaVuSans-46\"/>\n       <use x=\"95.410156\" xlink:href=\"#DejaVuSans-48\"/>\n       <use x=\"159.033203\" xlink:href=\"#DejaVuSans-51\"/>\n       <use x=\"222.65625\" xlink:href=\"#DejaVuSans-57\"/>\n       <use x=\"286.279297\" xlink:href=\"#DejaVuSans-48\"/>\n      </g>\n     </g>\n    </g>\n    <g id=\"ytick_5\">\n     <g id=\"line2d_11\">\n      <g>\n       <use style=\"stroke:#000000;stroke-width:0.8;\" x=\"49.190625\" xlink:href=\"#m391e46ffcd\" y=\"18.104078\"/>\n      </g>\n     </g>\n     <g id=\"text_11\">\n      <!-- 0.0395 -->\n      <g transform=\"translate(7.2 21.903297)scale(0.1 -0.1)\">\n       <use xlink:href=\"#DejaVuSans-48\"/>\n       <use x=\"63.623047\" xlink:href=\"#DejaVuSans-46\"/>\n       <use x=\"95.410156\" xlink:href=\"#DejaVuSans-48\"/>\n       <use x=\"159.033203\" xlink:href=\"#DejaVuSans-51\"/>\n       <use x=\"222.65625\" xlink:href=\"#DejaVuSans-57\"/>\n       <use x=\"286.279297\" xlink:href=\"#DejaVuSans-53\"/>\n      </g>\n     </g>\n    </g>\n   </g>\n   <g id=\"line2d_12\">\n    <path clip-path=\"url(#p104cb3e764)\" d=\"M 64.408807 17.083636 \nL 67.483187 198.002456 \nL 70.557567 202.530871 \nL 73.631947 203.083094 \nL 76.706327 204.314563 \nL 79.780708 209.311359 \nL 82.855088 201.587806 \nL 85.929468 209.767447 \nL 89.003848 206.519041 \nL 92.078228 206.531649 \nL 95.152608 210.846677 \nL 98.226989 207.361874 \nL 101.301369 207.675494 \nL 104.375749 208.649764 \nL 107.450129 205.393163 \nL 110.524509 205.626407 \nL 113.598889 209.945533 \nL 116.67327 206.644174 \nL 119.74765 202.464995 \nL 122.82203 207.922923 \nL 125.89641 204.656866 \nL 128.97079 204.113153 \nL 132.04517 208.589561 \nL 135.119551 209.837736 \nL 138.193931 208.235912 \nL 141.268311 207.481018 \nL 144.342691 212.301935 \nL 147.417071 203.298372 \nL 150.491451 200.663967 \nL 153.565832 206.516835 \nL 156.640212 207.469041 \nL 159.714592 208.729823 \nL 162.788972 209.198204 \nL 165.863352 209.112156 \nL 168.937732 212.769055 \nL 172.012113 206.89633 \nL 175.086493 207.385199 \nL 178.160873 208.373968 \nL 181.235253 212.336292 \nL 184.309633 209.851289 \nL 187.384013 210.259153 \nL 190.458394 206.341901 \nL 193.532774 210.614693 \nL 196.607154 206.849997 \nL 199.681534 206.354194 \nL 202.755914 197.01085 \nL 205.830294 199.132117 \nL 208.904675 209.196313 \nL 211.979055 207.517266 \nL 215.053435 211.662719 \nL 218.127815 211.869802 \nL 221.202195 207.416403 \nL 224.276575 210.063416 \nL 227.350956 211.042729 \nL 230.425336 208.016536 \nL 233.499716 209.616784 \nL 236.574096 206.968825 \nL 239.648476 206.796413 \nL 242.722856 209.087255 \nL 245.797237 205.803232 \nL 248.871617 209.20829 \nL 251.945997 212.038432 \nL 255.020377 210.356548 \nL 258.094757 207.696612 \nL 261.169137 212.931066 \nL 264.243518 214.756364 \nL 267.317898 210.437238 \nL 270.392278 208.187372 \nL 273.466658 209.220583 \nL 276.541038 205.28442 \nL 279.615418 209.682345 \nL 282.689799 210.288781 \nL 285.764179 207.832461 \nL 288.838559 207.425859 \nL 291.912939 207.56423 \nL 294.987319 207.191354 \nL 298.061699 210.511624 \nL 301.13608 211.547672 \nL 304.21046 210.13465 \nL 307.28484 211.404573 \nL 310.35922 203.074899 \nL 313.4336 209.639163 \nL 316.50798 204.058309 \nL 319.582361 211.277234 \nL 322.656741 213.378328 \nL 325.731121 208.264595 \nL 328.805501 207.033756 \nL 331.879881 204.840625 \nL 334.954261 206.904526 \nL 338.028642 212.248667 \nL 341.103022 212.078777 \nL 344.177402 211.399215 \nL 347.251782 209.046595 \nL 350.326162 208.637786 \nL 353.400542 209.330901 \nL 356.474923 207.06559 \nL 359.549303 208.695782 \nL 362.623683 213.012071 \nL 365.698063 208.752833 \nL 368.772443 205.800395 \n\" style=\"fill:none;stroke:#1f77b4;stroke-linecap:square;stroke-width:1.5;\"/>\n   </g>\n   <g id=\"patch_3\">\n    <path d=\"M 49.190625 224.64 \nL 49.190625 7.2 \n\" style=\"fill:none;stroke:#000000;stroke-linecap:square;stroke-linejoin:miter;stroke-width:0.8;\"/>\n   </g>\n   <g id=\"patch_4\">\n    <path d=\"M 383.990625 224.64 \nL 383.990625 7.2 \n\" style=\"fill:none;stroke:#000000;stroke-linecap:square;stroke-linejoin:miter;stroke-width:0.8;\"/>\n   </g>\n   <g id=\"patch_5\">\n    <path d=\"M 49.190625 224.64 \nL 383.990625 224.64 \n\" style=\"fill:none;stroke:#000000;stroke-linecap:square;stroke-linejoin:miter;stroke-width:0.8;\"/>\n   </g>\n   <g id=\"patch_6\">\n    <path d=\"M 49.190625 7.2 \nL 383.990625 7.2 \n\" style=\"fill:none;stroke:#000000;stroke-linecap:square;stroke-linejoin:miter;stroke-width:0.8;\"/>\n   </g>\n  </g>\n </g>\n <defs>\n  <clipPath id=\"p104cb3e764\">\n   <rect height=\"217.44\" width=\"334.8\" x=\"49.190625\" y=\"7.2\"/>\n  </clipPath>\n </defs>\n</svg>\n",
      "image/png": "[encoded data removed]"
     },
     "metadata": {
      "needs_background": "light"
     }
    }
   ],
   "metadata": {}
  },
  {
   "cell_type": "code",
   "execution_count": 11,
   "source": [
    "# make predictions\n",
    "trainPredict = model.predict(trainX)\n",
    "testPredict = model.predict(testX)\n",
    "\n",
    "_input2d = numpy.array([[0.003],[0.0003]])\n",
    "_input_scaled2d = scaler.transform(_input2d)\n",
    "_input_scaled3d = _input_scaled2d[:, :, numpy.newaxis]\n",
    "print(_input_scaled3d)\n"
   ],
   "outputs": [
    {
     "output_type": "stream",
     "name": "stdout",
     "text": [
      "[[[15.30895878]]\n",
      "\n",
      " [[ 1.53089588]]]\n"
     ]
    }
   ],
   "metadata": {}
  },
  {
   "cell_type": "code",
   "execution_count": 12,
   "source": [
    "# invert predictions\n",
    "trainPredict = scaler.inverse_transform(trainPredict)\n",
    "trainY = scaler.inverse_transform([trainY])\n",
    "\n",
    "testPredict = scaler.inverse_transform(testPredict)\n",
    "testY = scaler.inverse_transform([testY])"
   ],
   "outputs": [],
   "metadata": {}
  },
  {
   "cell_type": "code",
   "execution_count": 22,
   "source": [
    "test_Y = testY[0][len(testY[0])-31:len(testY[0])-1]\n",
    "test_Ypred = testPredict[len(testPredict)-31:len(testPredict)-1]\n",
    "plt.subplots(figsize=(10, 5))\n",
    "plt.title(product_name.upper() + \" - Forecast vs Actual\", fontsize=14)\n",
    "plt.plot(pd.Series(numpy.ravel(test_Y)), \"bs-\", markersize=3, label=\"Actual\")\n",
    "plt.plot(pd.Series(numpy.ravel(test_Ypred)), \"ro-\", markersize=3, label=\"Forecast\")\n",
    "plt.legend(loc=\"best\")\n",
    "plt.xlabel(\"Days\")\n",
    "plt.ylim([-0.0008,0.0008])\n",
    "plt.show()"
   ],
   "outputs": [
    {
     "output_type": "display_data",
     "data": {
      "text/plain": [
       "<Figure size 720x360 with 1 Axes>"
      ],
      "image/svg+xml": "<?xml version=\"1.0\" encoding=\"utf-8\" standalone=\"no\"?>\n<!DOCTYPE svg PUBLIC \"-//W3C//DTD SVG 1.1//EN\"\n  \"http://www.w3.org/Graphics/SVG/1.1/DTD/svg11.dtd\">\n<!-- Created with matplotlib (https://matplotlib.org/) -->\n<svg height=\"333.194062pt\" version=\"1.1\" viewBox=\"0 0 622.770312 333.194062\" width=\"622.770312pt\" xmlns=\"http://www.w3.org/2000/svg\" xmlns:xlink=\"http://www.w3.org/1999/xlink\">\n <metadata>\n  <rdf:RDF xmlns:cc=\"http://creativecommons.org/ns#\" xmlns:dc=\"http://purl.org/dc/elements/1.1/\" xmlns:rdf=\"http://www.w3.org/1999/02/22-rdf-syntax-ns#\">\n   <cc:Work>\n    <dc:type rdf:resource=\"http://purl.org/dc/dcmitype/StillImage\"/>\n    <dc:date>2021-10-01T17:42:10.738715</dc:date>\n    <dc:format>image/svg+xml</dc:format>\n    <dc:creator>\n     <cc:Agent>\n      <dc:title>Matplotlib v3.3.2, https://matplotlib.org/</dc:title>\n     </cc:Agent>\n    </dc:creator>\n   </cc:Work>\n  </rdf:RDF>\n </metadata>\n <defs>\n  <style type=\"text/css\">*{stroke-linecap:butt;stroke-linejoin:round;}</style>\n </defs>\n <g id=\"figure_1\">\n  <g id=\"patch_1\">\n   <path d=\"M 0 333.194062 \nL 622.770312 333.194062 \nL 622.770312 0 \nL 0 0 \nz\n\" style=\"fill:none;\"/>\n  </g>\n  <g id=\"axes_1\">\n   <g id=\"patch_2\">\n    <path d=\"M 57.570312 295.637812 \nL 615.570312 295.637812 \nL 615.570312 23.837813 \nL 57.570312 23.837813 \nz\n\" style=\"fill:#ffffff;\"/>\n   </g>\n   <g id=\"matplotlib.axis_1\">\n    <g id=\"xtick_1\">\n     <g id=\"line2d_1\">\n      <defs>\n       <path d=\"M 0 0 \nL 0 3.5 \n\" id=\"mdcce0e9dfa\" style=\"stroke:#000000;stroke-width:0.8;\"/>\n      </defs>\n      <g>\n       <use style=\"stroke:#000000;stroke-width:0.8;\" x=\"82.933949\" xlink:href=\"#mdcce0e9dfa\" y=\"295.637812\"/>\n      </g>\n     </g>\n     <g id=\"text_1\">\n      <!-- 0 -->\n      <g transform=\"translate(79.752699 310.23625)scale(0.1 -0.1)\">\n       <defs>\n        <path d=\"M 31.78125 66.40625 \nQ 24.171875 66.40625 20.328125 58.90625 \nQ 16.5 51.421875 16.5 36.375 \nQ 16.5 21.390625 20.328125 13.890625 \nQ 24.171875 6.390625 31.78125 6.390625 \nQ 39.453125 6.390625 43.28125 13.890625 \nQ 47.125 21.390625 47.125 36.375 \nQ 47.125 51.421875 43.28125 58.90625 \nQ 39.453125 66.40625 31.78125 66.40625 \nz\nM 31.78125 74.21875 \nQ 44.046875 74.21875 50.515625 64.515625 \nQ 56.984375 54.828125 56.984375 36.375 \nQ 56.984375 17.96875 50.515625 8.265625 \nQ 44.046875 -1.421875 31.78125 -1.421875 \nQ 19.53125 -1.421875 13.0625 8.265625 \nQ 6.59375 17.96875 6.59375 36.375 \nQ 6.59375 54.828125 13.0625 64.515625 \nQ 19.53125 74.21875 31.78125 74.21875 \nz\n\" id=\"DejaVuSans-48\"/>\n       </defs>\n       <use xlink:href=\"#DejaVuSans-48\"/>\n      </g>\n     </g>\n    </g>\n    <g id=\"xtick_2\">\n     <g id=\"line2d_2\">\n      <g>\n       <use style=\"stroke:#000000;stroke-width:0.8;\" x=\"170.394764\" xlink:href=\"#mdcce0e9dfa\" y=\"295.637812\"/>\n      </g>\n     </g>\n     <g id=\"text_2\">\n      <!-- 5 -->\n      <g transform=\"translate(167.213514 310.23625)scale(0.1 -0.1)\">\n       <defs>\n        <path d=\"M 10.796875 72.90625 \nL 49.515625 72.90625 \nL 49.515625 64.59375 \nL 19.828125 64.59375 \nL 19.828125 46.734375 \nQ 21.96875 47.46875 24.109375 47.828125 \nQ 26.265625 48.1875 28.421875 48.1875 \nQ 40.625 48.1875 47.75 41.5 \nQ 54.890625 34.8125 54.890625 23.390625 \nQ 54.890625 11.625 47.5625 5.09375 \nQ 40.234375 -1.421875 26.90625 -1.421875 \nQ 22.3125 -1.421875 17.546875 -0.640625 \nQ 12.796875 0.140625 7.71875 1.703125 \nL 7.71875 11.625 \nQ 12.109375 9.234375 16.796875 8.0625 \nQ 21.484375 6.890625 26.703125 6.890625 \nQ 35.15625 6.890625 40.078125 11.328125 \nQ 45.015625 15.765625 45.015625 23.390625 \nQ 45.015625 31 40.078125 35.4375 \nQ 35.15625 39.890625 26.703125 39.890625 \nQ 22.75 39.890625 18.8125 39.015625 \nQ 14.890625 38.140625 10.796875 36.28125 \nz\n\" id=\"DejaVuSans-53\"/>\n       </defs>\n       <use xlink:href=\"#DejaVuSans-53\"/>\n      </g>\n     </g>\n    </g>\n    <g id=\"xtick_3\">\n     <g id=\"line2d_3\">\n      <g>\n       <use style=\"stroke:#000000;stroke-width:0.8;\" x=\"257.855579\" xlink:href=\"#mdcce0e9dfa\" y=\"295.637812\"/>\n      </g>\n     </g>\n     <g id=\"text_3\">\n      <!-- 10 -->\n      <g transform=\"translate(251.493079 310.23625)scale(0.1 -0.1)\">\n       <defs>\n        <path d=\"M 12.40625 8.296875 \nL 28.515625 8.296875 \nL 28.515625 63.921875 \nL 10.984375 60.40625 \nL 10.984375 69.390625 \nL 28.421875 72.90625 \nL 38.28125 72.90625 \nL 38.28125 8.296875 \nL 54.390625 8.296875 \nL 54.390625 0 \nL 12.40625 0 \nz\n\" id=\"DejaVuSans-49\"/>\n       </defs>\n       <use xlink:href=\"#DejaVuSans-49\"/>\n       <use x=\"63.623047\" xlink:href=\"#DejaVuSans-48\"/>\n      </g>\n     </g>\n    </g>\n    <g id=\"xtick_4\">\n     <g id=\"line2d_4\">\n      <g>\n       <use style=\"stroke:#000000;stroke-width:0.8;\" x=\"345.316394\" xlink:href=\"#mdcce0e9dfa\" y=\"295.637812\"/>\n      </g>\n     </g>\n     <g id=\"text_4\">\n      <!-- 15 -->\n      <g transform=\"translate(338.953894 310.23625)scale(0.1 -0.1)\">\n       <use xlink:href=\"#DejaVuSans-49\"/>\n       <use x=\"63.623047\" xlink:href=\"#DejaVuSans-53\"/>\n      </g>\n     </g>\n    </g>\n    <g id=\"xtick_5\">\n     <g id=\"line2d_5\">\n      <g>\n       <use style=\"stroke:#000000;stroke-width:0.8;\" x=\"432.777209\" xlink:href=\"#mdcce0e9dfa\" y=\"295.637812\"/>\n      </g>\n     </g>\n     <g id=\"text_5\">\n      <!-- 20 -->\n      <g transform=\"translate(426.414709 310.23625)scale(0.1 -0.1)\">\n       <defs>\n        <path d=\"M 19.1875 8.296875 \nL 53.609375 8.296875 \nL 53.609375 0 \nL 7.328125 0 \nL 7.328125 8.296875 \nQ 12.9375 14.109375 22.625 23.890625 \nQ 32.328125 33.6875 34.8125 36.53125 \nQ 39.546875 41.84375 41.421875 45.53125 \nQ 43.3125 49.21875 43.3125 52.78125 \nQ 43.3125 58.59375 39.234375 62.25 \nQ 35.15625 65.921875 28.609375 65.921875 \nQ 23.96875 65.921875 18.8125 64.3125 \nQ 13.671875 62.703125 7.8125 59.421875 \nL 7.8125 69.390625 \nQ 13.765625 71.78125 18.9375 73 \nQ 24.125 74.21875 28.421875 74.21875 \nQ 39.75 74.21875 46.484375 68.546875 \nQ 53.21875 62.890625 53.21875 53.421875 \nQ 53.21875 48.921875 51.53125 44.890625 \nQ 49.859375 40.875 45.40625 35.40625 \nQ 44.1875 33.984375 37.640625 27.21875 \nQ 31.109375 20.453125 19.1875 8.296875 \nz\n\" id=\"DejaVuSans-50\"/>\n       </defs>\n       <use xlink:href=\"#DejaVuSans-50\"/>\n       <use x=\"63.623047\" xlink:href=\"#DejaVuSans-48\"/>\n      </g>\n     </g>\n    </g>\n    <g id=\"xtick_6\">\n     <g id=\"line2d_6\">\n      <g>\n       <use style=\"stroke:#000000;stroke-width:0.8;\" x=\"520.238024\" xlink:href=\"#mdcce0e9dfa\" y=\"295.637812\"/>\n      </g>\n     </g>\n     <g id=\"text_6\">\n      <!-- 25 -->\n      <g transform=\"translate(513.875524 310.23625)scale(0.1 -0.1)\">\n       <use xlink:href=\"#DejaVuSans-50\"/>\n       <use x=\"63.623047\" xlink:href=\"#DejaVuSans-53\"/>\n      </g>\n     </g>\n    </g>\n    <g id=\"xtick_7\">\n     <g id=\"line2d_7\">\n      <g>\n       <use style=\"stroke:#000000;stroke-width:0.8;\" x=\"607.698839\" xlink:href=\"#mdcce0e9dfa\" y=\"295.637812\"/>\n      </g>\n     </g>\n     <g id=\"text_7\">\n      <!-- 30 -->\n      <g transform=\"translate(601.336339 310.23625)scale(0.1 -0.1)\">\n       <defs>\n        <path d=\"M 40.578125 39.3125 \nQ 47.65625 37.796875 51.625 33 \nQ 55.609375 28.21875 55.609375 21.1875 \nQ 55.609375 10.40625 48.1875 4.484375 \nQ 40.765625 -1.421875 27.09375 -1.421875 \nQ 22.515625 -1.421875 17.65625 -0.515625 \nQ 12.796875 0.390625 7.625 2.203125 \nL 7.625 11.71875 \nQ 11.71875 9.328125 16.59375 8.109375 \nQ 21.484375 6.890625 26.8125 6.890625 \nQ 36.078125 6.890625 40.9375 10.546875 \nQ 45.796875 14.203125 45.796875 21.1875 \nQ 45.796875 27.640625 41.28125 31.265625 \nQ 36.765625 34.90625 28.71875 34.90625 \nL 20.21875 34.90625 \nL 20.21875 43.015625 \nL 29.109375 43.015625 \nQ 36.375 43.015625 40.234375 45.921875 \nQ 44.09375 48.828125 44.09375 54.296875 \nQ 44.09375 59.90625 40.109375 62.90625 \nQ 36.140625 65.921875 28.71875 65.921875 \nQ 24.65625 65.921875 20.015625 65.03125 \nQ 15.375 64.15625 9.8125 62.3125 \nL 9.8125 71.09375 \nQ 15.4375 72.65625 20.34375 73.4375 \nQ 25.25 74.21875 29.59375 74.21875 \nQ 40.828125 74.21875 47.359375 69.109375 \nQ 53.90625 64.015625 53.90625 55.328125 \nQ 53.90625 49.265625 50.4375 45.09375 \nQ 46.96875 40.921875 40.578125 39.3125 \nz\n\" id=\"DejaVuSans-51\"/>\n       </defs>\n       <use xlink:href=\"#DejaVuSans-51\"/>\n       <use x=\"63.623047\" xlink:href=\"#DejaVuSans-48\"/>\n      </g>\n     </g>\n    </g>\n    <g id=\"text_8\">\n     <!-- Days -->\n     <g transform=\"translate(324.092188 323.914375)scale(0.1 -0.1)\">\n      <defs>\n       <path d=\"M 19.671875 64.796875 \nL 19.671875 8.109375 \nL 31.59375 8.109375 \nQ 46.6875 8.109375 53.6875 14.9375 \nQ 60.6875 21.78125 60.6875 36.53125 \nQ 60.6875 51.171875 53.6875 57.984375 \nQ 46.6875 64.796875 31.59375 64.796875 \nz\nM 9.8125 72.90625 \nL 30.078125 72.90625 \nQ 51.265625 72.90625 61.171875 64.09375 \nQ 71.09375 55.28125 71.09375 36.53125 \nQ 71.09375 17.671875 61.125 8.828125 \nQ 51.171875 0 30.078125 0 \nL 9.8125 0 \nz\n\" id=\"DejaVuSans-68\"/>\n       <path d=\"M 34.28125 27.484375 \nQ 23.390625 27.484375 19.1875 25 \nQ 14.984375 22.515625 14.984375 16.5 \nQ 14.984375 11.71875 18.140625 8.90625 \nQ 21.296875 6.109375 26.703125 6.109375 \nQ 34.1875 6.109375 38.703125 11.40625 \nQ 43.21875 16.703125 43.21875 25.484375 \nL 43.21875 27.484375 \nz\nM 52.203125 31.203125 \nL 52.203125 0 \nL 43.21875 0 \nL 43.21875 8.296875 \nQ 40.140625 3.328125 35.546875 0.953125 \nQ 30.953125 -1.421875 24.3125 -1.421875 \nQ 15.921875 -1.421875 10.953125 3.296875 \nQ 6 8.015625 6 15.921875 \nQ 6 25.140625 12.171875 29.828125 \nQ 18.359375 34.515625 30.609375 34.515625 \nL 43.21875 34.515625 \nL 43.21875 35.40625 \nQ 43.21875 41.609375 39.140625 45 \nQ 35.0625 48.390625 27.6875 48.390625 \nQ 23 48.390625 18.546875 47.265625 \nQ 14.109375 46.140625 10.015625 43.890625 \nL 10.015625 52.203125 \nQ 14.9375 54.109375 19.578125 55.046875 \nQ 24.21875 56 28.609375 56 \nQ 40.484375 56 46.34375 49.84375 \nQ 52.203125 43.703125 52.203125 31.203125 \nz\n\" id=\"DejaVuSans-97\"/>\n       <path d=\"M 32.171875 -5.078125 \nQ 28.375 -14.84375 24.75 -17.8125 \nQ 21.140625 -20.796875 15.09375 -20.796875 \nL 7.90625 -20.796875 \nL 7.90625 -13.28125 \nL 13.1875 -13.28125 \nQ 16.890625 -13.28125 18.9375 -11.515625 \nQ 21 -9.765625 23.484375 -3.21875 \nL 25.09375 0.875 \nL 2.984375 54.6875 \nL 12.5 54.6875 \nL 29.59375 11.921875 \nL 46.6875 54.6875 \nL 56.203125 54.6875 \nz\n\" id=\"DejaVuSans-121\"/>\n       <path d=\"M 44.28125 53.078125 \nL 44.28125 44.578125 \nQ 40.484375 46.53125 36.375 47.5 \nQ 32.28125 48.484375 27.875 48.484375 \nQ 21.1875 48.484375 17.84375 46.4375 \nQ 14.5 44.390625 14.5 40.28125 \nQ 14.5 37.15625 16.890625 35.375 \nQ 19.28125 33.59375 26.515625 31.984375 \nL 29.59375 31.296875 \nQ 39.15625 29.25 43.1875 25.515625 \nQ 47.21875 21.78125 47.21875 15.09375 \nQ 47.21875 7.46875 41.1875 3.015625 \nQ 35.15625 -1.421875 24.609375 -1.421875 \nQ 20.21875 -1.421875 15.453125 -0.5625 \nQ 10.6875 0.296875 5.421875 2 \nL 5.421875 11.28125 \nQ 10.40625 8.6875 15.234375 7.390625 \nQ 20.0625 6.109375 24.8125 6.109375 \nQ 31.15625 6.109375 34.5625 8.28125 \nQ 37.984375 10.453125 37.984375 14.40625 \nQ 37.984375 18.0625 35.515625 20.015625 \nQ 33.0625 21.96875 24.703125 23.78125 \nL 21.578125 24.515625 \nQ 13.234375 26.265625 9.515625 29.90625 \nQ 5.8125 33.546875 5.8125 39.890625 \nQ 5.8125 47.609375 11.28125 51.796875 \nQ 16.75 56 26.8125 56 \nQ 31.78125 56 36.171875 55.265625 \nQ 40.578125 54.546875 44.28125 53.078125 \nz\n\" id=\"DejaVuSans-115\"/>\n      </defs>\n      <use xlink:href=\"#DejaVuSans-68\"/>\n      <use x=\"77.001953\" xlink:href=\"#DejaVuSans-97\"/>\n      <use x=\"138.28125\" xlink:href=\"#DejaVuSans-121\"/>\n      <use x=\"197.460938\" xlink:href=\"#DejaVuSans-115\"/>\n     </g>\n    </g>\n   </g>\n   <g id=\"matplotlib.axis_2\">\n    <g id=\"ytick_1\">\n     <g id=\"line2d_8\">\n      <defs>\n       <path d=\"M 0 0 \nL -3.5 0 \n\" id=\"md0d7747d2c\" style=\"stroke:#000000;stroke-width:0.8;\"/>\n      </defs>\n      <g>\n       <use style=\"stroke:#000000;stroke-width:0.8;\" x=\"57.570312\" xlink:href=\"#md0d7747d2c\" y=\"295.637812\"/>\n      </g>\n     </g>\n     <g id=\"text_9\">\n      <!-- −0.0008 -->\n      <g transform=\"translate(7.2 299.437031)scale(0.1 -0.1)\">\n       <defs>\n        <path d=\"M 10.59375 35.5 \nL 73.1875 35.5 \nL 73.1875 27.203125 \nL 10.59375 27.203125 \nz\n\" id=\"DejaVuSans-8722\"/>\n        <path d=\"M 10.6875 12.40625 \nL 21 12.40625 \nL 21 0 \nL 10.6875 0 \nz\n\" id=\"DejaVuSans-46\"/>\n        <path d=\"M 31.78125 34.625 \nQ 24.75 34.625 20.71875 30.859375 \nQ 16.703125 27.09375 16.703125 20.515625 \nQ 16.703125 13.921875 20.71875 10.15625 \nQ 24.75 6.390625 31.78125 6.390625 \nQ 38.8125 6.390625 42.859375 10.171875 \nQ 46.921875 13.96875 46.921875 20.515625 \nQ 46.921875 27.09375 42.890625 30.859375 \nQ 38.875 34.625 31.78125 34.625 \nz\nM 21.921875 38.8125 \nQ 15.578125 40.375 12.03125 44.71875 \nQ 8.5 49.078125 8.5 55.328125 \nQ 8.5 64.0625 14.71875 69.140625 \nQ 20.953125 74.21875 31.78125 74.21875 \nQ 42.671875 74.21875 48.875 69.140625 \nQ 55.078125 64.0625 55.078125 55.328125 \nQ 55.078125 49.078125 51.53125 44.71875 \nQ 48 40.375 41.703125 38.8125 \nQ 48.828125 37.15625 52.796875 32.3125 \nQ 56.78125 27.484375 56.78125 20.515625 \nQ 56.78125 9.90625 50.3125 4.234375 \nQ 43.84375 -1.421875 31.78125 -1.421875 \nQ 19.734375 -1.421875 13.25 4.234375 \nQ 6.78125 9.90625 6.78125 20.515625 \nQ 6.78125 27.484375 10.78125 32.3125 \nQ 14.796875 37.15625 21.921875 38.8125 \nz\nM 18.3125 54.390625 \nQ 18.3125 48.734375 21.84375 45.5625 \nQ 25.390625 42.390625 31.78125 42.390625 \nQ 38.140625 42.390625 41.71875 45.5625 \nQ 45.3125 48.734375 45.3125 54.390625 \nQ 45.3125 60.0625 41.71875 63.234375 \nQ 38.140625 66.40625 31.78125 66.40625 \nQ 25.390625 66.40625 21.84375 63.234375 \nQ 18.3125 60.0625 18.3125 54.390625 \nz\n\" id=\"DejaVuSans-56\"/>\n       </defs>\n       <use xlink:href=\"#DejaVuSans-8722\"/>\n       <use x=\"83.789062\" xlink:href=\"#DejaVuSans-48\"/>\n       <use x=\"147.412109\" xlink:href=\"#DejaVuSans-46\"/>\n       <use x=\"179.199219\" xlink:href=\"#DejaVuSans-48\"/>\n       <use x=\"242.822266\" xlink:href=\"#DejaVuSans-48\"/>\n       <use x=\"306.445312\" xlink:href=\"#DejaVuSans-48\"/>\n       <use x=\"370.068359\" xlink:href=\"#DejaVuSans-56\"/>\n      </g>\n     </g>\n    </g>\n    <g id=\"ytick_2\">\n     <g id=\"line2d_9\">\n      <g>\n       <use style=\"stroke:#000000;stroke-width:0.8;\" x=\"57.570312\" xlink:href=\"#md0d7747d2c\" y=\"261.662812\"/>\n      </g>\n     </g>\n     <g id=\"text_10\">\n      <!-- −0.0006 -->\n      <g transform=\"translate(7.2 265.462031)scale(0.1 -0.1)\">\n       <defs>\n        <path d=\"M 33.015625 40.375 \nQ 26.375 40.375 22.484375 35.828125 \nQ 18.609375 31.296875 18.609375 23.390625 \nQ 18.609375 15.53125 22.484375 10.953125 \nQ 26.375 6.390625 33.015625 6.390625 \nQ 39.65625 6.390625 43.53125 10.953125 \nQ 47.40625 15.53125 47.40625 23.390625 \nQ 47.40625 31.296875 43.53125 35.828125 \nQ 39.65625 40.375 33.015625 40.375 \nz\nM 52.59375 71.296875 \nL 52.59375 62.3125 \nQ 48.875 64.0625 45.09375 64.984375 \nQ 41.3125 65.921875 37.59375 65.921875 \nQ 27.828125 65.921875 22.671875 59.328125 \nQ 17.53125 52.734375 16.796875 39.40625 \nQ 19.671875 43.65625 24.015625 45.921875 \nQ 28.375 48.1875 33.59375 48.1875 \nQ 44.578125 48.1875 50.953125 41.515625 \nQ 57.328125 34.859375 57.328125 23.390625 \nQ 57.328125 12.15625 50.6875 5.359375 \nQ 44.046875 -1.421875 33.015625 -1.421875 \nQ 20.359375 -1.421875 13.671875 8.265625 \nQ 6.984375 17.96875 6.984375 36.375 \nQ 6.984375 53.65625 15.1875 63.9375 \nQ 23.390625 74.21875 37.203125 74.21875 \nQ 40.921875 74.21875 44.703125 73.484375 \nQ 48.484375 72.75 52.59375 71.296875 \nz\n\" id=\"DejaVuSans-54\"/>\n       </defs>\n       <use xlink:href=\"#DejaVuSans-8722\"/>\n       <use x=\"83.789062\" xlink:href=\"#DejaVuSans-48\"/>\n       <use x=\"147.412109\" xlink:href=\"#DejaVuSans-46\"/>\n       <use x=\"179.199219\" xlink:href=\"#DejaVuSans-48\"/>\n       <use x=\"242.822266\" xlink:href=\"#DejaVuSans-48\"/>\n       <use x=\"306.445312\" xlink:href=\"#DejaVuSans-48\"/>\n       <use x=\"370.068359\" xlink:href=\"#DejaVuSans-54\"/>\n      </g>\n     </g>\n    </g>\n    <g id=\"ytick_3\">\n     <g id=\"line2d_10\">\n      <g>\n       <use style=\"stroke:#000000;stroke-width:0.8;\" x=\"57.570312\" xlink:href=\"#md0d7747d2c\" y=\"227.687812\"/>\n      </g>\n     </g>\n     <g id=\"text_11\">\n      <!-- −0.0004 -->\n      <g transform=\"translate(7.2 231.487031)scale(0.1 -0.1)\">\n       <defs>\n        <path d=\"M 37.796875 64.3125 \nL 12.890625 25.390625 \nL 37.796875 25.390625 \nz\nM 35.203125 72.90625 \nL 47.609375 72.90625 \nL 47.609375 25.390625 \nL 58.015625 25.390625 \nL 58.015625 17.1875 \nL 47.609375 17.1875 \nL 47.609375 0 \nL 37.796875 0 \nL 37.796875 17.1875 \nL 4.890625 17.1875 \nL 4.890625 26.703125 \nz\n\" id=\"DejaVuSans-52\"/>\n       </defs>\n       <use xlink:href=\"#DejaVuSans-8722\"/>\n       <use x=\"83.789062\" xlink:href=\"#DejaVuSans-48\"/>\n       <use x=\"147.412109\" xlink:href=\"#DejaVuSans-46\"/>\n       <use x=\"179.199219\" xlink:href=\"#DejaVuSans-48\"/>\n       <use x=\"242.822266\" xlink:href=\"#DejaVuSans-48\"/>\n       <use x=\"306.445312\" xlink:href=\"#DejaVuSans-48\"/>\n       <use x=\"370.068359\" xlink:href=\"#DejaVuSans-52\"/>\n      </g>\n     </g>\n    </g>\n    <g id=\"ytick_4\">\n     <g id=\"line2d_11\">\n      <g>\n       <use style=\"stroke:#000000;stroke-width:0.8;\" x=\"57.570312\" xlink:href=\"#md0d7747d2c\" y=\"193.712812\"/>\n      </g>\n     </g>\n     <g id=\"text_12\">\n      <!-- −0.0002 -->\n      <g transform=\"translate(7.2 197.512031)scale(0.1 -0.1)\">\n       <use xlink:href=\"#DejaVuSans-8722\"/>\n       <use x=\"83.789062\" xlink:href=\"#DejaVuSans-48\"/>\n       <use x=\"147.412109\" xlink:href=\"#DejaVuSans-46\"/>\n       <use x=\"179.199219\" xlink:href=\"#DejaVuSans-48\"/>\n       <use x=\"242.822266\" xlink:href=\"#DejaVuSans-48\"/>\n       <use x=\"306.445312\" xlink:href=\"#DejaVuSans-48\"/>\n       <use x=\"370.068359\" xlink:href=\"#DejaVuSans-50\"/>\n      </g>\n     </g>\n    </g>\n    <g id=\"ytick_5\">\n     <g id=\"line2d_12\">\n      <g>\n       <use style=\"stroke:#000000;stroke-width:0.8;\" x=\"57.570312\" xlink:href=\"#md0d7747d2c\" y=\"159.737812\"/>\n      </g>\n     </g>\n     <g id=\"text_13\">\n      <!-- 0.0000 -->\n      <g transform=\"translate(15.579687 163.537031)scale(0.1 -0.1)\">\n       <use xlink:href=\"#DejaVuSans-48\"/>\n       <use x=\"63.623047\" xlink:href=\"#DejaVuSans-46\"/>\n       <use x=\"95.410156\" xlink:href=\"#DejaVuSans-48\"/>\n       <use x=\"159.033203\" xlink:href=\"#DejaVuSans-48\"/>\n       <use x=\"222.65625\" xlink:href=\"#DejaVuSans-48\"/>\n       <use x=\"286.279297\" xlink:href=\"#DejaVuSans-48\"/>\n      </g>\n     </g>\n    </g>\n    <g id=\"ytick_6\">\n     <g id=\"line2d_13\">\n      <g>\n       <use style=\"stroke:#000000;stroke-width:0.8;\" x=\"57.570312\" xlink:href=\"#md0d7747d2c\" y=\"125.762812\"/>\n      </g>\n     </g>\n     <g id=\"text_14\">\n      <!-- 0.0002 -->\n      <g transform=\"translate(15.579687 129.562031)scale(0.1 -0.1)\">\n       <use xlink:href=\"#DejaVuSans-48\"/>\n       <use x=\"63.623047\" xlink:href=\"#DejaVuSans-46\"/>\n       <use x=\"95.410156\" xlink:href=\"#DejaVuSans-48\"/>\n       <use x=\"159.033203\" xlink:href=\"#DejaVuSans-48\"/>\n       <use x=\"222.65625\" xlink:href=\"#DejaVuSans-48\"/>\n       <use x=\"286.279297\" xlink:href=\"#DejaVuSans-50\"/>\n      </g>\n     </g>\n    </g>\n    <g id=\"ytick_7\">\n     <g id=\"line2d_14\">\n      <g>\n       <use style=\"stroke:#000000;stroke-width:0.8;\" x=\"57.570312\" xlink:href=\"#md0d7747d2c\" y=\"91.787812\"/>\n      </g>\n     </g>\n     <g id=\"text_15\">\n      <!-- 0.0004 -->\n      <g transform=\"translate(15.579687 95.587031)scale(0.1 -0.1)\">\n       <use xlink:href=\"#DejaVuSans-48\"/>\n       <use x=\"63.623047\" xlink:href=\"#DejaVuSans-46\"/>\n       <use x=\"95.410156\" xlink:href=\"#DejaVuSans-48\"/>\n       <use x=\"159.033203\" xlink:href=\"#DejaVuSans-48\"/>\n       <use x=\"222.65625\" xlink:href=\"#DejaVuSans-48\"/>\n       <use x=\"286.279297\" xlink:href=\"#DejaVuSans-52\"/>\n      </g>\n     </g>\n    </g>\n    <g id=\"ytick_8\">\n     <g id=\"line2d_15\">\n      <g>\n       <use style=\"stroke:#000000;stroke-width:0.8;\" x=\"57.570312\" xlink:href=\"#md0d7747d2c\" y=\"57.812813\"/>\n      </g>\n     </g>\n     <g id=\"text_16\">\n      <!-- 0.0006 -->\n      <g transform=\"translate(15.579687 61.612031)scale(0.1 -0.1)\">\n       <use xlink:href=\"#DejaVuSans-48\"/>\n       <use x=\"63.623047\" xlink:href=\"#DejaVuSans-46\"/>\n       <use x=\"95.410156\" xlink:href=\"#DejaVuSans-48\"/>\n       <use x=\"159.033203\" xlink:href=\"#DejaVuSans-48\"/>\n       <use x=\"222.65625\" xlink:href=\"#DejaVuSans-48\"/>\n       <use x=\"286.279297\" xlink:href=\"#DejaVuSans-54\"/>\n      </g>\n     </g>\n    </g>\n    <g id=\"ytick_9\">\n     <g id=\"line2d_16\">\n      <g>\n       <use style=\"stroke:#000000;stroke-width:0.8;\" x=\"57.570312\" xlink:href=\"#md0d7747d2c\" y=\"23.837813\"/>\n      </g>\n     </g>\n     <g id=\"text_17\">\n      <!-- 0.0008 -->\n      <g transform=\"translate(15.579687 27.637031)scale(0.1 -0.1)\">\n       <use xlink:href=\"#DejaVuSans-48\"/>\n       <use x=\"63.623047\" xlink:href=\"#DejaVuSans-46\"/>\n       <use x=\"95.410156\" xlink:href=\"#DejaVuSans-48\"/>\n       <use x=\"159.033203\" xlink:href=\"#DejaVuSans-48\"/>\n       <use x=\"222.65625\" xlink:href=\"#DejaVuSans-48\"/>\n       <use x=\"286.279297\" xlink:href=\"#DejaVuSans-56\"/>\n      </g>\n     </g>\n    </g>\n   </g>\n   <g id=\"line2d_17\">\n    <path clip-path=\"url(#p1d37c454a0)\" d=\"M 82.933949 159.737812 \nL 100.426112 149.134449 \nL 117.918275 159.737812 \nL 135.410438 159.737812 \nL 152.902601 159.737812 \nL 170.394764 159.737812 \nL 187.886927 157.182184 \nL 205.37909 155.498705 \nL 222.871253 159.737812 \nL 240.363416 159.737812 \nL 257.855579 159.737812 \nL 275.347742 159.737812 \nL 292.839905 159.737812 \nL 310.332068 159.737812 \nL 327.824231 155.37008 \nL 345.316394 159.737812 \nL 362.808557 159.737812 \nL 380.30072 159.737812 \nL 397.792883 159.737812 \nL 415.285046 159.737812 \nL 432.777209 159.737812 \nL 450.269372 159.737812 \nL 467.761535 159.737812 \nL 485.253698 157.008748 \nL 502.745861 159.737812 \nL 520.238024 159.737812 \nL 537.730187 159.737812 \nL 555.22235 159.737812 \nL 572.714513 159.737812 \nL 590.206676 159.737812 \n\" style=\"fill:none;stroke:#0000ff;stroke-linecap:square;stroke-width:1.5;\"/>\n    <defs>\n     <path d=\"M -1.5 1.5 \nL 1.5 1.5 \nL 1.5 -1.5 \nL -1.5 -1.5 \nz\n\" id=\"m868365a237\" style=\"stroke:#0000ff;stroke-linejoin:miter;\"/>\n    </defs>\n    <g clip-path=\"url(#p1d37c454a0)\">\n     <use style=\"fill:#0000ff;stroke:#0000ff;stroke-linejoin:miter;\" x=\"82.933949\" xlink:href=\"#m868365a237\" y=\"159.737812\"/>\n     <use style=\"fill:#0000ff;stroke:#0000ff;stroke-linejoin:miter;\" x=\"100.426112\" xlink:href=\"#m868365a237\" y=\"149.134449\"/>\n     <use style=\"fill:#0000ff;stroke:#0000ff;stroke-linejoin:miter;\" x=\"117.918275\" xlink:href=\"#m868365a237\" y=\"159.737812\"/>\n     <use style=\"fill:#0000ff;stroke:#0000ff;stroke-linejoin:miter;\" x=\"135.410438\" xlink:href=\"#m868365a237\" y=\"159.737812\"/>\n     <use style=\"fill:#0000ff;stroke:#0000ff;stroke-linejoin:miter;\" x=\"152.902601\" xlink:href=\"#m868365a237\" y=\"159.737812\"/>\n     <use style=\"fill:#0000ff;stroke:#0000ff;stroke-linejoin:miter;\" x=\"170.394764\" xlink:href=\"#m868365a237\" y=\"159.737812\"/>\n     <use style=\"fill:#0000ff;stroke:#0000ff;stroke-linejoin:miter;\" x=\"187.886927\" xlink:href=\"#m868365a237\" y=\"157.182184\"/>\n     <use style=\"fill:#0000ff;stroke:#0000ff;stroke-linejoin:miter;\" x=\"205.37909\" xlink:href=\"#m868365a237\" y=\"155.498705\"/>\n     <use style=\"fill:#0000ff;stroke:#0000ff;stroke-linejoin:miter;\" x=\"222.871253\" xlink:href=\"#m868365a237\" y=\"159.737812\"/>\n     <use style=\"fill:#0000ff;stroke:#0000ff;stroke-linejoin:miter;\" x=\"240.363416\" xlink:href=\"#m868365a237\" y=\"159.737812\"/>\n     <use style=\"fill:#0000ff;stroke:#0000ff;stroke-linejoin:miter;\" x=\"257.855579\" xlink:href=\"#m868365a237\" y=\"159.737812\"/>\n     <use style=\"fill:#0000ff;stroke:#0000ff;stroke-linejoin:miter;\" x=\"275.347742\" xlink:href=\"#m868365a237\" y=\"159.737812\"/>\n     <use style=\"fill:#0000ff;stroke:#0000ff;stroke-linejoin:miter;\" x=\"292.839905\" xlink:href=\"#m868365a237\" y=\"159.737812\"/>\n     <use style=\"fill:#0000ff;stroke:#0000ff;stroke-linejoin:miter;\" x=\"310.332068\" xlink:href=\"#m868365a237\" y=\"159.737812\"/>\n     <use style=\"fill:#0000ff;stroke:#0000ff;stroke-linejoin:miter;\" x=\"327.824231\" xlink:href=\"#m868365a237\" y=\"155.37008\"/>\n     <use style=\"fill:#0000ff;stroke:#0000ff;stroke-linejoin:miter;\" x=\"345.316394\" xlink:href=\"#m868365a237\" y=\"159.737812\"/>\n     <use style=\"fill:#0000ff;stroke:#0000ff;stroke-linejoin:miter;\" x=\"362.808557\" xlink:href=\"#m868365a237\" y=\"159.737812\"/>\n     <use style=\"fill:#0000ff;stroke:#0000ff;stroke-linejoin:miter;\" x=\"380.30072\" xlink:href=\"#m868365a237\" y=\"159.737812\"/>\n     <use style=\"fill:#0000ff;stroke:#0000ff;stroke-linejoin:miter;\" x=\"397.792883\" xlink:href=\"#m868365a237\" y=\"159.737812\"/>\n     <use style=\"fill:#0000ff;stroke:#0000ff;stroke-linejoin:miter;\" x=\"415.285046\" xlink:href=\"#m868365a237\" y=\"159.737812\"/>\n     <use style=\"fill:#0000ff;stroke:#0000ff;stroke-linejoin:miter;\" x=\"432.777209\" xlink:href=\"#m868365a237\" y=\"159.737812\"/>\n     <use style=\"fill:#0000ff;stroke:#0000ff;stroke-linejoin:miter;\" x=\"450.269372\" xlink:href=\"#m868365a237\" y=\"159.737812\"/>\n     <use style=\"fill:#0000ff;stroke:#0000ff;stroke-linejoin:miter;\" x=\"467.761535\" xlink:href=\"#m868365a237\" y=\"159.737812\"/>\n     <use style=\"fill:#0000ff;stroke:#0000ff;stroke-linejoin:miter;\" x=\"485.253698\" xlink:href=\"#m868365a237\" y=\"157.008748\"/>\n     <use style=\"fill:#0000ff;stroke:#0000ff;stroke-linejoin:miter;\" x=\"502.745861\" xlink:href=\"#m868365a237\" y=\"159.737812\"/>\n     <use style=\"fill:#0000ff;stroke:#0000ff;stroke-linejoin:miter;\" x=\"520.238024\" xlink:href=\"#m868365a237\" y=\"159.737812\"/>\n     <use style=\"fill:#0000ff;stroke:#0000ff;stroke-linejoin:miter;\" x=\"537.730187\" xlink:href=\"#m868365a237\" y=\"159.737812\"/>\n     <use style=\"fill:#0000ff;stroke:#0000ff;stroke-linejoin:miter;\" x=\"555.22235\" xlink:href=\"#m868365a237\" y=\"159.737812\"/>\n     <use style=\"fill:#0000ff;stroke:#0000ff;stroke-linejoin:miter;\" x=\"572.714513\" xlink:href=\"#m868365a237\" y=\"159.737812\"/>\n     <use style=\"fill:#0000ff;stroke:#0000ff;stroke-linejoin:miter;\" x=\"590.206676\" xlink:href=\"#m868365a237\" y=\"159.737812\"/>\n    </g>\n   </g>\n   <g id=\"line2d_18\">\n    <path clip-path=\"url(#p1d37c454a0)\" d=\"M 82.933949 157.024943 \nL 100.426112 157.024943 \nL 117.918275 155.048145 \nL 135.410438 157.024943 \nL 152.902601 157.024943 \nL 170.394764 157.024943 \nL 187.886927 157.024943 \nL 205.37909 156.571337 \nL 222.871253 156.264001 \nL 240.363416 157.024943 \nL 257.855579 157.024943 \nL 275.347742 157.024943 \nL 292.839905 157.024943 \nL 310.332068 157.024943 \nL 327.824231 157.024943 \nL 345.316394 156.240254 \nL 362.808557 157.024943 \nL 380.30072 157.024943 \nL 397.792883 157.024943 \nL 415.285046 157.024943 \nL 432.777209 157.024943 \nL 450.269372 157.024943 \nL 467.761535 157.024943 \nL 485.253698 157.024943 \nL 502.745861 156.53998 \nL 520.238024 157.024943 \nL 537.730187 157.024943 \nL 555.22235 157.024943 \nL 572.714513 157.024943 \nL 590.206676 157.024943 \n\" style=\"fill:none;stroke:#ff0000;stroke-linecap:square;stroke-width:1.5;\"/>\n    <defs>\n     <path d=\"M 0 1.5 \nC 0.397805 1.5 0.77937 1.341951 1.06066 1.06066 \nC 1.341951 0.77937 1.5 0.397805 1.5 0 \nC 1.5 -0.397805 1.341951 -0.77937 1.06066 -1.06066 \nC 0.77937 -1.341951 0.397805 -1.5 0 -1.5 \nC -0.397805 -1.5 -0.77937 -1.341951 -1.06066 -1.06066 \nC -1.341951 -0.77937 -1.5 -0.397805 -1.5 0 \nC -1.5 0.397805 -1.341951 0.77937 -1.06066 1.06066 \nC -0.77937 1.341951 -0.397805 1.5 0 1.5 \nz\n\" id=\"m0189f75f5b\" style=\"stroke:#ff0000;\"/>\n    </defs>\n    <g clip-path=\"url(#p1d37c454a0)\">\n     <use style=\"fill:#ff0000;stroke:#ff0000;\" x=\"82.933949\" xlink:href=\"#m0189f75f5b\" y=\"157.024943\"/>\n     <use style=\"fill:#ff0000;stroke:#ff0000;\" x=\"100.426112\" xlink:href=\"#m0189f75f5b\" y=\"157.024943\"/>\n     <use style=\"fill:#ff0000;stroke:#ff0000;\" x=\"117.918275\" xlink:href=\"#m0189f75f5b\" y=\"155.048145\"/>\n     <use style=\"fill:#ff0000;stroke:#ff0000;\" x=\"135.410438\" xlink:href=\"#m0189f75f5b\" y=\"157.024943\"/>\n     <use style=\"fill:#ff0000;stroke:#ff0000;\" x=\"152.902601\" xlink:href=\"#m0189f75f5b\" y=\"157.024943\"/>\n     <use style=\"fill:#ff0000;stroke:#ff0000;\" x=\"170.394764\" xlink:href=\"#m0189f75f5b\" y=\"157.024943\"/>\n     <use style=\"fill:#ff0000;stroke:#ff0000;\" x=\"187.886927\" xlink:href=\"#m0189f75f5b\" y=\"157.024943\"/>\n     <use style=\"fill:#ff0000;stroke:#ff0000;\" x=\"205.37909\" xlink:href=\"#m0189f75f5b\" y=\"156.571337\"/>\n     <use style=\"fill:#ff0000;stroke:#ff0000;\" x=\"222.871253\" xlink:href=\"#m0189f75f5b\" y=\"156.264001\"/>\n     <use style=\"fill:#ff0000;stroke:#ff0000;\" x=\"240.363416\" xlink:href=\"#m0189f75f5b\" y=\"157.024943\"/>\n     <use style=\"fill:#ff0000;stroke:#ff0000;\" x=\"257.855579\" xlink:href=\"#m0189f75f5b\" y=\"157.024943\"/>\n     <use style=\"fill:#ff0000;stroke:#ff0000;\" x=\"275.347742\" xlink:href=\"#m0189f75f5b\" y=\"157.024943\"/>\n     <use style=\"fill:#ff0000;stroke:#ff0000;\" x=\"292.839905\" xlink:href=\"#m0189f75f5b\" y=\"157.024943\"/>\n     <use style=\"fill:#ff0000;stroke:#ff0000;\" x=\"310.332068\" xlink:href=\"#m0189f75f5b\" y=\"157.024943\"/>\n     <use style=\"fill:#ff0000;stroke:#ff0000;\" x=\"327.824231\" xlink:href=\"#m0189f75f5b\" y=\"157.024943\"/>\n     <use style=\"fill:#ff0000;stroke:#ff0000;\" x=\"345.316394\" xlink:href=\"#m0189f75f5b\" y=\"156.240254\"/>\n     <use style=\"fill:#ff0000;stroke:#ff0000;\" x=\"362.808557\" xlink:href=\"#m0189f75f5b\" y=\"157.024943\"/>\n     <use style=\"fill:#ff0000;stroke:#ff0000;\" x=\"380.30072\" xlink:href=\"#m0189f75f5b\" y=\"157.024943\"/>\n     <use style=\"fill:#ff0000;stroke:#ff0000;\" x=\"397.792883\" xlink:href=\"#m0189f75f5b\" y=\"157.024943\"/>\n     <use style=\"fill:#ff0000;stroke:#ff0000;\" x=\"415.285046\" xlink:href=\"#m0189f75f5b\" y=\"157.024943\"/>\n     <use style=\"fill:#ff0000;stroke:#ff0000;\" x=\"432.777209\" xlink:href=\"#m0189f75f5b\" y=\"157.024943\"/>\n     <use style=\"fill:#ff0000;stroke:#ff0000;\" x=\"450.269372\" xlink:href=\"#m0189f75f5b\" y=\"157.024943\"/>\n     <use style=\"fill:#ff0000;stroke:#ff0000;\" x=\"467.761535\" xlink:href=\"#m0189f75f5b\" y=\"157.024943\"/>\n     <use style=\"fill:#ff0000;stroke:#ff0000;\" x=\"485.253698\" xlink:href=\"#m0189f75f5b\" y=\"157.024943\"/>\n     <use style=\"fill:#ff0000;stroke:#ff0000;\" x=\"502.745861\" xlink:href=\"#m0189f75f5b\" y=\"156.53998\"/>\n     <use style=\"fill:#ff0000;stroke:#ff0000;\" x=\"520.238024\" xlink:href=\"#m0189f75f5b\" y=\"157.024943\"/>\n     <use style=\"fill:#ff0000;stroke:#ff0000;\" x=\"537.730187\" xlink:href=\"#m0189f75f5b\" y=\"157.024943\"/>\n     <use style=\"fill:#ff0000;stroke:#ff0000;\" x=\"555.22235\" xlink:href=\"#m0189f75f5b\" y=\"157.024943\"/>\n     <use style=\"fill:#ff0000;stroke:#ff0000;\" x=\"572.714513\" xlink:href=\"#m0189f75f5b\" y=\"157.024943\"/>\n     <use style=\"fill:#ff0000;stroke:#ff0000;\" x=\"590.206676\" xlink:href=\"#m0189f75f5b\" y=\"157.024943\"/>\n    </g>\n   </g>\n   <g id=\"patch_3\">\n    <path d=\"M 57.570312 295.637812 \nL 57.570312 23.837813 \n\" style=\"fill:none;stroke:#000000;stroke-linecap:square;stroke-linejoin:miter;stroke-width:0.8;\"/>\n   </g>\n   <g id=\"patch_4\">\n    <path d=\"M 615.570312 295.637812 \nL 615.570312 23.837813 \n\" style=\"fill:none;stroke:#000000;stroke-linecap:square;stroke-linejoin:miter;stroke-width:0.8;\"/>\n   </g>\n   <g id=\"patch_5\">\n    <path d=\"M 57.570313 295.637812 \nL 615.570312 295.637812 \n\" style=\"fill:none;stroke:#000000;stroke-linecap:square;stroke-linejoin:miter;stroke-width:0.8;\"/>\n   </g>\n   <g id=\"patch_6\">\n    <path d=\"M 57.570313 23.837813 \nL 615.570312 23.837813 \n\" style=\"fill:none;stroke:#000000;stroke-linecap:square;stroke-linejoin:miter;stroke-width:0.8;\"/>\n   </g>\n   <g id=\"text_18\">\n    <!-- NO2 - Forecast vs Actual -->\n    <g transform=\"translate(250.613594 17.837813)scale(0.14 -0.14)\">\n     <defs>\n      <path d=\"M 9.8125 72.90625 \nL 23.09375 72.90625 \nL 55.421875 11.921875 \nL 55.421875 72.90625 \nL 64.984375 72.90625 \nL 64.984375 0 \nL 51.703125 0 \nL 19.390625 60.984375 \nL 19.390625 0 \nL 9.8125 0 \nz\n\" id=\"DejaVuSans-78\"/>\n      <path d=\"M 39.40625 66.21875 \nQ 28.65625 66.21875 22.328125 58.203125 \nQ 16.015625 50.203125 16.015625 36.375 \nQ 16.015625 22.609375 22.328125 14.59375 \nQ 28.65625 6.59375 39.40625 6.59375 \nQ 50.140625 6.59375 56.421875 14.59375 \nQ 62.703125 22.609375 62.703125 36.375 \nQ 62.703125 50.203125 56.421875 58.203125 \nQ 50.140625 66.21875 39.40625 66.21875 \nz\nM 39.40625 74.21875 \nQ 54.734375 74.21875 63.90625 63.9375 \nQ 73.09375 53.65625 73.09375 36.375 \nQ 73.09375 19.140625 63.90625 8.859375 \nQ 54.734375 -1.421875 39.40625 -1.421875 \nQ 24.03125 -1.421875 14.8125 8.828125 \nQ 5.609375 19.09375 5.609375 36.375 \nQ 5.609375 53.65625 14.8125 63.9375 \nQ 24.03125 74.21875 39.40625 74.21875 \nz\n\" id=\"DejaVuSans-79\"/>\n      <path id=\"DejaVuSans-32\"/>\n      <path d=\"M 4.890625 31.390625 \nL 31.203125 31.390625 \nL 31.203125 23.390625 \nL 4.890625 23.390625 \nz\n\" id=\"DejaVuSans-45\"/>\n      <path d=\"M 9.8125 72.90625 \nL 51.703125 72.90625 \nL 51.703125 64.59375 \nL 19.671875 64.59375 \nL 19.671875 43.109375 \nL 48.578125 43.109375 \nL 48.578125 34.8125 \nL 19.671875 34.8125 \nL 19.671875 0 \nL 9.8125 0 \nz\n\" id=\"DejaVuSans-70\"/>\n      <path d=\"M 30.609375 48.390625 \nQ 23.390625 48.390625 19.1875 42.75 \nQ 14.984375 37.109375 14.984375 27.296875 \nQ 14.984375 17.484375 19.15625 11.84375 \nQ 23.34375 6.203125 30.609375 6.203125 \nQ 37.796875 6.203125 41.984375 11.859375 \nQ 46.1875 17.53125 46.1875 27.296875 \nQ 46.1875 37.015625 41.984375 42.703125 \nQ 37.796875 48.390625 30.609375 48.390625 \nz\nM 30.609375 56 \nQ 42.328125 56 49.015625 48.375 \nQ 55.71875 40.765625 55.71875 27.296875 \nQ 55.71875 13.875 49.015625 6.21875 \nQ 42.328125 -1.421875 30.609375 -1.421875 \nQ 18.84375 -1.421875 12.171875 6.21875 \nQ 5.515625 13.875 5.515625 27.296875 \nQ 5.515625 40.765625 12.171875 48.375 \nQ 18.84375 56 30.609375 56 \nz\n\" id=\"DejaVuSans-111\"/>\n      <path d=\"M 41.109375 46.296875 \nQ 39.59375 47.171875 37.8125 47.578125 \nQ 36.03125 48 33.890625 48 \nQ 26.265625 48 22.1875 43.046875 \nQ 18.109375 38.09375 18.109375 28.8125 \nL 18.109375 0 \nL 9.078125 0 \nL 9.078125 54.6875 \nL 18.109375 54.6875 \nL 18.109375 46.1875 \nQ 20.953125 51.171875 25.484375 53.578125 \nQ 30.03125 56 36.53125 56 \nQ 37.453125 56 38.578125 55.875 \nQ 39.703125 55.765625 41.0625 55.515625 \nz\n\" id=\"DejaVuSans-114\"/>\n      <path d=\"M 56.203125 29.59375 \nL 56.203125 25.203125 \nL 14.890625 25.203125 \nQ 15.484375 15.921875 20.484375 11.0625 \nQ 25.484375 6.203125 34.421875 6.203125 \nQ 39.59375 6.203125 44.453125 7.46875 \nQ 49.3125 8.734375 54.109375 11.28125 \nL 54.109375 2.78125 \nQ 49.265625 0.734375 44.1875 -0.34375 \nQ 39.109375 -1.421875 33.890625 -1.421875 \nQ 20.796875 -1.421875 13.15625 6.1875 \nQ 5.515625 13.8125 5.515625 26.8125 \nQ 5.515625 40.234375 12.765625 48.109375 \nQ 20.015625 56 32.328125 56 \nQ 43.359375 56 49.78125 48.890625 \nQ 56.203125 41.796875 56.203125 29.59375 \nz\nM 47.21875 32.234375 \nQ 47.125 39.59375 43.09375 43.984375 \nQ 39.0625 48.390625 32.421875 48.390625 \nQ 24.90625 48.390625 20.390625 44.140625 \nQ 15.875 39.890625 15.1875 32.171875 \nz\n\" id=\"DejaVuSans-101\"/>\n      <path d=\"M 48.78125 52.59375 \nL 48.78125 44.1875 \nQ 44.96875 46.296875 41.140625 47.34375 \nQ 37.3125 48.390625 33.40625 48.390625 \nQ 24.65625 48.390625 19.8125 42.84375 \nQ 14.984375 37.3125 14.984375 27.296875 \nQ 14.984375 17.28125 19.8125 11.734375 \nQ 24.65625 6.203125 33.40625 6.203125 \nQ 37.3125 6.203125 41.140625 7.25 \nQ 44.96875 8.296875 48.78125 10.40625 \nL 48.78125 2.09375 \nQ 45.015625 0.34375 40.984375 -0.53125 \nQ 36.96875 -1.421875 32.421875 -1.421875 \nQ 20.0625 -1.421875 12.78125 6.34375 \nQ 5.515625 14.109375 5.515625 27.296875 \nQ 5.515625 40.671875 12.859375 48.328125 \nQ 20.21875 56 33.015625 56 \nQ 37.15625 56 41.109375 55.140625 \nQ 45.0625 54.296875 48.78125 52.59375 \nz\n\" id=\"DejaVuSans-99\"/>\n      <path d=\"M 18.3125 70.21875 \nL 18.3125 54.6875 \nL 36.8125 54.6875 \nL 36.8125 47.703125 \nL 18.3125 47.703125 \nL 18.3125 18.015625 \nQ 18.3125 11.328125 20.140625 9.421875 \nQ 21.96875 7.515625 27.59375 7.515625 \nL 36.8125 7.515625 \nL 36.8125 0 \nL 27.59375 0 \nQ 17.1875 0 13.234375 3.875 \nQ 9.28125 7.765625 9.28125 18.015625 \nL 9.28125 47.703125 \nL 2.6875 47.703125 \nL 2.6875 54.6875 \nL 9.28125 54.6875 \nL 9.28125 70.21875 \nz\n\" id=\"DejaVuSans-116\"/>\n      <path d=\"M 2.984375 54.6875 \nL 12.5 54.6875 \nL 29.59375 8.796875 \nL 46.6875 54.6875 \nL 56.203125 54.6875 \nL 35.6875 0 \nL 23.484375 0 \nz\n\" id=\"DejaVuSans-118\"/>\n      <path d=\"M 34.1875 63.1875 \nL 20.796875 26.90625 \nL 47.609375 26.90625 \nz\nM 28.609375 72.90625 \nL 39.796875 72.90625 \nL 67.578125 0 \nL 57.328125 0 \nL 50.6875 18.703125 \nL 17.828125 18.703125 \nL 11.1875 0 \nL 0.78125 0 \nz\n\" id=\"DejaVuSans-65\"/>\n      <path d=\"M 8.5 21.578125 \nL 8.5 54.6875 \nL 17.484375 54.6875 \nL 17.484375 21.921875 \nQ 17.484375 14.15625 20.5 10.265625 \nQ 23.53125 6.390625 29.59375 6.390625 \nQ 36.859375 6.390625 41.078125 11.03125 \nQ 45.3125 15.671875 45.3125 23.6875 \nL 45.3125 54.6875 \nL 54.296875 54.6875 \nL 54.296875 0 \nL 45.3125 0 \nL 45.3125 8.40625 \nQ 42.046875 3.421875 37.71875 1 \nQ 33.40625 -1.421875 27.6875 -1.421875 \nQ 18.265625 -1.421875 13.375 4.4375 \nQ 8.5 10.296875 8.5 21.578125 \nz\nM 31.109375 56 \nz\n\" id=\"DejaVuSans-117\"/>\n      <path d=\"M 9.421875 75.984375 \nL 18.40625 75.984375 \nL 18.40625 0 \nL 9.421875 0 \nz\n\" id=\"DejaVuSans-108\"/>\n     </defs>\n     <use xlink:href=\"#DejaVuSans-78\"/>\n     <use x=\"74.804688\" xlink:href=\"#DejaVuSans-79\"/>\n     <use x=\"153.515625\" xlink:href=\"#DejaVuSans-50\"/>\n     <use x=\"217.138672\" xlink:href=\"#DejaVuSans-32\"/>\n     <use x=\"248.925781\" xlink:href=\"#DejaVuSans-45\"/>\n     <use x=\"285.009766\" xlink:href=\"#DejaVuSans-32\"/>\n     <use x=\"316.796875\" xlink:href=\"#DejaVuSans-70\"/>\n     <use x=\"370.691406\" xlink:href=\"#DejaVuSans-111\"/>\n     <use x=\"431.873047\" xlink:href=\"#DejaVuSans-114\"/>\n     <use x=\"470.736328\" xlink:href=\"#DejaVuSans-101\"/>\n     <use x=\"532.259766\" xlink:href=\"#DejaVuSans-99\"/>\n     <use x=\"587.240234\" xlink:href=\"#DejaVuSans-97\"/>\n     <use x=\"648.519531\" xlink:href=\"#DejaVuSans-115\"/>\n     <use x=\"700.619141\" xlink:href=\"#DejaVuSans-116\"/>\n     <use x=\"739.828125\" xlink:href=\"#DejaVuSans-32\"/>\n     <use x=\"771.615234\" xlink:href=\"#DejaVuSans-118\"/>\n     <use x=\"830.794922\" xlink:href=\"#DejaVuSans-115\"/>\n     <use x=\"882.894531\" xlink:href=\"#DejaVuSans-32\"/>\n     <use x=\"914.681641\" xlink:href=\"#DejaVuSans-65\"/>\n     <use x=\"981.339844\" xlink:href=\"#DejaVuSans-99\"/>\n     <use x=\"1036.320312\" xlink:href=\"#DejaVuSans-116\"/>\n     <use x=\"1075.529297\" xlink:href=\"#DejaVuSans-117\"/>\n     <use x=\"1138.908203\" xlink:href=\"#DejaVuSans-97\"/>\n     <use x=\"1200.1875\" xlink:href=\"#DejaVuSans-108\"/>\n    </g>\n   </g>\n   <g id=\"legend_1\">\n    <g id=\"patch_7\">\n     <path d=\"M 534.267187 61.194062 \nL 608.570312 61.194062 \nQ 610.570312 61.194062 610.570312 59.194062 \nL 610.570312 30.837812 \nQ 610.570312 28.837812 608.570312 28.837812 \nL 534.267187 28.837812 \nQ 532.267187 28.837812 532.267187 30.837812 \nL 532.267187 59.194062 \nQ 532.267187 61.194062 534.267187 61.194062 \nz\n\" style=\"fill:#ffffff;opacity:0.8;stroke:#cccccc;stroke-linejoin:miter;\"/>\n    </g>\n    <g id=\"line2d_19\">\n     <path d=\"M 536.267187 36.93625 \nL 556.267187 36.93625 \n\" style=\"fill:none;stroke:#0000ff;stroke-linecap:square;stroke-width:1.5;\"/>\n    </g>\n    <g id=\"line2d_20\">\n     <g>\n      <use style=\"fill:#0000ff;stroke:#0000ff;stroke-linejoin:miter;\" x=\"546.267187\" xlink:href=\"#m868365a237\" y=\"36.93625\"/>\n     </g>\n    </g>\n    <g id=\"text_19\">\n     <!-- Actual -->\n     <g transform=\"translate(564.267187 40.43625)scale(0.1 -0.1)\">\n      <use xlink:href=\"#DejaVuSans-65\"/>\n      <use x=\"66.658203\" xlink:href=\"#DejaVuSans-99\"/>\n      <use x=\"121.638672\" xlink:href=\"#DejaVuSans-116\"/>\n      <use x=\"160.847656\" xlink:href=\"#DejaVuSans-117\"/>\n      <use x=\"224.226562\" xlink:href=\"#DejaVuSans-97\"/>\n      <use x=\"285.505859\" xlink:href=\"#DejaVuSans-108\"/>\n     </g>\n    </g>\n    <g id=\"line2d_21\">\n     <path d=\"M 536.267187 51.614375 \nL 556.267187 51.614375 \n\" style=\"fill:none;stroke:#ff0000;stroke-linecap:square;stroke-width:1.5;\"/>\n    </g>\n    <g id=\"line2d_22\">\n     <g>\n      <use style=\"fill:#ff0000;stroke:#ff0000;\" x=\"546.267187\" xlink:href=\"#m0189f75f5b\" y=\"51.614375\"/>\n     </g>\n    </g>\n    <g id=\"text_20\">\n     <!-- Forecast -->\n     <g transform=\"translate(564.267187 55.114375)scale(0.1 -0.1)\">\n      <use xlink:href=\"#DejaVuSans-70\"/>\n      <use x=\"53.894531\" xlink:href=\"#DejaVuSans-111\"/>\n      <use x=\"115.076172\" xlink:href=\"#DejaVuSans-114\"/>\n      <use x=\"153.939453\" xlink:href=\"#DejaVuSans-101\"/>\n      <use x=\"215.462891\" xlink:href=\"#DejaVuSans-99\"/>\n      <use x=\"270.443359\" xlink:href=\"#DejaVuSans-97\"/>\n      <use x=\"331.722656\" xlink:href=\"#DejaVuSans-115\"/>\n      <use x=\"383.822266\" xlink:href=\"#DejaVuSans-116\"/>\n     </g>\n    </g>\n   </g>\n  </g>\n </g>\n <defs>\n  <clipPath id=\"p1d37c454a0\">\n   <rect height=\"271.8\" width=\"558\" x=\"57.570312\" y=\"23.837813\"/>\n  </clipPath>\n </defs>\n</svg>\n",
      "image/png": "[encoded data removed]"
     },
     "metadata": {
      "needs_background": "light"
     }
    }
   ],
   "metadata": {}
  },
  {
   "cell_type": "code",
   "execution_count": 14,
   "source": [
    "# calculate root mean squared error\n",
    "trainScore = math.sqrt(mean_squared_error(trainY[0], trainPredict[:,0]))\n",
    "print('Train Score: %.8f RMSE' % (trainScore),\"max in Train =\", trainY.max(),\", min =\", trainY.min(),\", mean =\", trainY.mean())\n",
    "testScore = math.sqrt(mean_squared_error(testY[0], testPredict[:,0]))\n",
    "print('Test Score: %.8f RMSE' % (testScore),\"max in Test =\", testY.max(),\", min =\", testY.min(),\", mean =\", testY.mean())"
   ],
   "outputs": [
    {
     "output_type": "stream",
     "name": "stdout",
     "text": [
      "Train Score: 0.00003777 RMSE max in Train = 0.00019596368656493723 , min = 0.0 , mean = 1.9956440678238014e-05\n",
      "Test Score: 0.00002509 RMSE max in Test = 0.0001271183864446357 , min = 0.0 , mean = 8.054272904577743e-06\n"
     ]
    }
   ],
   "metadata": {}
  },
  {
   "cell_type": "code",
   "execution_count": 15,
   "source": [
    "# shift train predictions for plotting\n",
    "trainPredictPlot = numpy.empty_like(dataset)\n",
    "trainPredictPlot[:, :] = numpy.nan\n",
    "trainPredictPlot[look_back:len(trainPredict)+look_back, :] = trainPredict"
   ],
   "outputs": [],
   "metadata": {}
  },
  {
   "cell_type": "code",
   "execution_count": 16,
   "source": [
    "# shift test predictions for plotting\n",
    "testPredictPlot = numpy.empty_like(dataset)\n",
    "testPredictPlot[:, :] = numpy.nan\n",
    "testPredictPlot[len(trainPredict)+(look_back*2)+1:len(dataset)-1, :] = testPredict"
   ],
   "outputs": [],
   "metadata": {}
  },
  {
   "cell_type": "code",
   "execution_count": 17,
   "source": [
    "# # plot baseline and predictions\n",
    "# #plt.plot(scaler.inverse_transform(testY),\"b-\", label=\"Train\")\n",
    "# plt.plot(trainPredictPlot,\"y-\", label=\"Train pred\")\n",
    "# #plt.plot(scaler.inverse_transform(testY)[0],\"b-\", label=\"Test\")\n",
    "# plt.plot(testPredictPlot, \"g-\", label=\"Test pred\")\n",
    "# plt.legend(loc=\"best\")\n",
    "# #plt.ylim([-400,400])\n",
    "# plt.show()\n"
   ],
   "outputs": [],
   "metadata": {}
  }
 ],
 "metadata": {
  "orig_nbformat": 4,
  "language_info": {
   "name": "python",
   "version": "3.8.5",
   "mimetype": "text/x-python",
   "codemirror_mode": {
    "name": "ipython",
    "version": 3
   },
   "pygments_lexer": "ipython3",
   "nbconvert_exporter": "python",
   "file_extension": ".py"
  },
  "kernelspec": {
   "name": "python3",
   "display_name": "Python 3.8.5 64-bit ('base': conda)"
  },
  "interpreter": {
   "hash": "7b2db577e2e3c3d59c019c7bce89b93331fb3ae1c9a593654a8d90dfac1c6c30"
  }
 },
 "nbformat": 4,
 "nbformat_minor": 2
}