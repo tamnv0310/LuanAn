{
 "cells": [
  {
   "cell_type": "code",
   "execution_count": 26,
   "source": [
    "# Time Series Prediction with GRU\n",
    "import numpy\n",
    "import matplotlib.pyplot as plt\n",
    "import pandas as pd\n",
    "import math\n",
    "from keras.models import Sequential\n",
    "from keras.layers import Dense\n",
    "from keras.layers import GRU\n",
    "from sklearn.preprocessing import MinMaxScaler\n",
    "from sklearn.metrics import mean_squared_error"
   ],
   "outputs": [],
   "metadata": {}
  },
  {
   "cell_type": "code",
   "execution_count": 27,
   "source": [
    "#convert an array of values into a dataset matrix\n",
    "def create_dataset(dataset, look_back=1):\n",
    " dataX, dataY = [], []\n",
    " for i in range(len(dataset)-look_back-1):\n",
    "  a = dataset[i:(i+look_back), 0]\n",
    "  dataX.append(a)\n",
    "  dataY.append(dataset[i + look_back, 0])\n",
    " return numpy.array(dataX), numpy.array(dataY)"
   ],
   "outputs": [],
   "metadata": {}
  },
  {
   "cell_type": "code",
   "execution_count": 28,
   "source": [
    "# fix random seed for reproducibility\n",
    "numpy.random.seed(7)"
   ],
   "outputs": [],
   "metadata": {}
  },
  {
   "cell_type": "code",
   "execution_count": 29,
   "source": [
    "# load the dataset\n",
    "dataset_name = \"q1\"\n",
    "product_name = \"no2\"\n",
    "file_path = 'dataset/'+dataset_name+'.csv'\n",
    "dataframe = pd.read_csv(file_path)\n",
    "print(\"Dataframe: \\n\", dataframe)\n",
    "dataset = numpy.asarray(dataframe[product_name]).reshape(-1,1)\n",
    "print(\"Dataset: \\n\", dataset)\n"
   ],
   "outputs": [
    {
     "output_type": "stream",
     "name": "stdout",
     "text": [
      "Dataframe: \n",
      "             date dist        co       no2        o3  so2  ch4      hcho\n",
      "0     2018-04-30   q1  0.036519  0.000059  0.127509  0.0    0  0.000000\n",
      "1     2018-05-01   q1  0.035765  0.000053  0.128756  0.0    0  0.000000\n",
      "2     2018-05-02   q1  0.037218  0.000051  0.127053  0.0    0  0.000000\n",
      "3     2018-05-03   q1  0.000000  0.000000  0.120879  0.0    0  0.000000\n",
      "4     2018-05-04   q1  0.000000  0.000000  0.121712  0.0    0  0.000000\n",
      "...          ...  ...       ...       ...       ...  ...  ...       ...\n",
      "1194  2021-08-06   q1  0.000000  0.000000  0.120559  0.0    0  0.000000\n",
      "1195  2021-08-07   q1  0.020865  0.000000  0.119257  0.0    0  0.000000\n",
      "1196  2021-08-08   q1  0.025278  0.000000  0.118261  0.0    0  0.000000\n",
      "1197  2021-08-09   q1  0.000000  0.000000  0.120582  0.0    0  0.000295\n",
      "1198  2021-08-10   q1  0.026092  0.000000  0.120392  0.0    0  0.000000\n",
      "\n",
      "[1199 rows x 8 columns]\n",
      "Dataset: \n",
      " [[5.89875090e-05]\n",
      " [5.31632941e-05]\n",
      " [5.09173915e-05]\n",
      " ...\n",
      " [0.00000000e+00]\n",
      " [0.00000000e+00]\n",
      " [0.00000000e+00]]\n"
     ]
    }
   ],
   "metadata": {}
  },
  {
   "cell_type": "code",
   "execution_count": 30,
   "source": [
    "# normalize the dataset\n",
    "scaler = MinMaxScaler(feature_range=(0, 1))\n",
    "dataset = scaler.fit_transform(dataset)\n",
    "print(\"Dataset after scale: \\n\", dataset)"
   ],
   "outputs": [
    {
     "output_type": "stream",
     "name": "stdout",
     "text": [
      "Dataset after scale: \n",
      " [[0.30101245]\n",
      " [0.27129156]\n",
      " [0.25983075]\n",
      " ...\n",
      " [0.        ]\n",
      " [0.        ]\n",
      " [0.        ]]\n"
     ]
    }
   ],
   "metadata": {}
  },
  {
   "cell_type": "code",
   "execution_count": 31,
   "source": [
    "# split into train and test sets\n",
    "train_size = int(len(dataset) * 0.9)\n",
    "test_size = len(dataset) - train_size\n",
    "train, test = dataset[0:train_size,:], dataset[train_size:len(dataset),:]"
   ],
   "outputs": [],
   "metadata": {}
  },
  {
   "cell_type": "code",
   "execution_count": 32,
   "source": [
    "# reshape into X=t and Y=t+1\n",
    "look_back = 1\n",
    "trainX, trainY = create_dataset(train, look_back)\n",
    "testX, testY = create_dataset(test, look_back)\n",
    "print(\"TrainX shape: \", trainX.shape)\n",
    "print(\"TrainY shape: \", trainY.shape)"
   ],
   "outputs": [
    {
     "output_type": "stream",
     "name": "stdout",
     "text": [
      "TrainX shape:  (1077, 1)\n",
      "TrainY shape:  (1077,)\n"
     ]
    }
   ],
   "metadata": {}
  },
  {
   "cell_type": "code",
   "execution_count": 33,
   "source": [
    "# reshape input to be [samples, time steps, features]\n",
    "trainX = numpy.reshape(trainX, (trainX.shape[0], 1, trainX.shape[1]))\n",
    "testX = numpy.reshape(testX, (testX.shape[0], 1, testX.shape[1]))"
   ],
   "outputs": [],
   "metadata": {}
  },
  {
   "cell_type": "code",
   "execution_count": 18,
   "source": [
    "# create and fit the GRU network\n",
    "model = Sequential()\n",
    "model.add(GRU(16, input_shape=(1, look_back)))\n",
    "model.add(Dense(128))\n",
    "model.add(Dense(1))\n",
    "#model.compile(loss='mean_squared_error', optimizer='adam', metrics=['accuracy'])\n",
    "model.compile(loss='mean_squared_error', optimizer='adam')\n",
    "print(model.summary())\n",
    "model.fit(trainX, trainY, epochs=100, batch_size=10, verbose=2,validation_data=(testX, testY))\n",
    "\n",
    "score = model.evaluate(testX, testY, verbose=0)\n",
    "print('score: test score = ', score)"
   ],
   "outputs": [
    {
     "output_type": "stream",
     "name": "stdout",
     "text": [
      "Model: \"sequential_1\"\n",
      "_________________________________________________________________\n",
      "Layer (type)                 Output Shape              Param #   \n",
      "=================================================================\n",
      "gru_1 (GRU)                  (None, 512)               791040    \n",
      "_________________________________________________________________\n",
      "dense_2 (Dense)              (None, 256)               131328    \n",
      "_________________________________________________________________\n",
      "dense_3 (Dense)              (None, 1)                 257       \n",
      "=================================================================\n",
      "Total params: 922,625\n",
      "Trainable params: 922,625\n",
      "Non-trainable params: 0\n",
      "_________________________________________________________________\n",
      "None\n",
      "Epoch 1/100\n",
      "1077/1077 - 9s - loss: 0.0404 - val_loss: 0.0153\n",
      "Epoch 2/100\n",
      "1077/1077 - 7s - loss: 0.0386 - val_loss: 0.0153\n",
      "Epoch 3/100\n",
      "1077/1077 - 6s - loss: 0.0380 - val_loss: 0.0155\n",
      "Epoch 4/100\n",
      "1077/1077 - 8s - loss: 0.0383 - val_loss: 0.0160\n",
      "Epoch 5/100\n",
      "1077/1077 - 6s - loss: 0.0381 - val_loss: 0.0150\n",
      "Epoch 6/100\n",
      "1077/1077 - 6s - loss: 0.0375 - val_loss: 0.0229\n",
      "Epoch 7/100\n",
      "1077/1077 - 6s - loss: 0.0382 - val_loss: 0.0238\n",
      "Epoch 8/100\n",
      "1077/1077 - 7s - loss: 0.0381 - val_loss: 0.0166\n",
      "Epoch 9/100\n",
      "1077/1077 - 7s - loss: 0.0381 - val_loss: 0.0191\n",
      "Epoch 10/100\n",
      "1077/1077 - 9s - loss: 0.0379 - val_loss: 0.0170\n",
      "Epoch 11/100\n",
      "1077/1077 - 8s - loss: 0.0379 - val_loss: 0.0173\n",
      "Epoch 12/100\n",
      "1077/1077 - 7s - loss: 0.0376 - val_loss: 0.0173\n",
      "Epoch 13/100\n",
      "1077/1077 - 6s - loss: 0.0380 - val_loss: 0.0201\n",
      "Epoch 14/100\n",
      "1077/1077 - 6s - loss: 0.0378 - val_loss: 0.0146\n",
      "Epoch 15/100\n",
      "1077/1077 - 7s - loss: 0.0380 - val_loss: 0.0187\n",
      "Epoch 16/100\n",
      "1077/1077 - 6s - loss: 0.0377 - val_loss: 0.0153\n",
      "Epoch 17/100\n",
      "1077/1077 - 6s - loss: 0.0379 - val_loss: 0.0188\n",
      "Epoch 18/100\n",
      "1077/1077 - 5s - loss: 0.0379 - val_loss: 0.0170\n",
      "Epoch 19/100\n",
      "1077/1077 - 7s - loss: 0.0375 - val_loss: 0.0154\n",
      "Epoch 20/100\n",
      "1077/1077 - 8s - loss: 0.0377 - val_loss: 0.0203\n",
      "Epoch 21/100\n",
      "1077/1077 - 8s - loss: 0.0378 - val_loss: 0.0166\n",
      "Epoch 22/100\n",
      "1077/1077 - 7s - loss: 0.0379 - val_loss: 0.0179\n",
      "Epoch 23/100\n",
      "1077/1077 - 8s - loss: 0.0376 - val_loss: 0.0179\n",
      "Epoch 24/100\n",
      "1077/1077 - 7s - loss: 0.0378 - val_loss: 0.0168\n",
      "Epoch 25/100\n",
      "1077/1077 - 6s - loss: 0.0378 - val_loss: 0.0160\n",
      "Epoch 26/100\n",
      "1077/1077 - 6s - loss: 0.0377 - val_loss: 0.0163\n",
      "Epoch 27/100\n",
      "1077/1077 - 7s - loss: 0.0380 - val_loss: 0.0153\n",
      "Epoch 28/100\n",
      "1077/1077 - 6s - loss: 0.0377 - val_loss: 0.0148\n",
      "Epoch 29/100\n",
      "1077/1077 - 7s - loss: 0.0376 - val_loss: 0.0164\n",
      "Epoch 30/100\n",
      "1077/1077 - 7s - loss: 0.0378 - val_loss: 0.0155\n",
      "Epoch 31/100\n",
      "1077/1077 - 7s - loss: 0.0378 - val_loss: 0.0162\n",
      "Epoch 32/100\n",
      "1077/1077 - 7s - loss: 0.0380 - val_loss: 0.0162\n",
      "Epoch 33/100\n",
      "1077/1077 - 9s - loss: 0.0373 - val_loss: 0.0190\n",
      "Epoch 34/100\n",
      "1077/1077 - 8s - loss: 0.0378 - val_loss: 0.0142\n",
      "Epoch 35/100\n",
      "1077/1077 - 7s - loss: 0.0378 - val_loss: 0.0158\n",
      "Epoch 36/100\n",
      "1077/1077 - 6s - loss: 0.0374 - val_loss: 0.0149\n",
      "Epoch 37/100\n",
      "1077/1077 - 5s - loss: 0.0376 - val_loss: 0.0152\n",
      "Epoch 38/100\n",
      "1077/1077 - 5s - loss: 0.0377 - val_loss: 0.0159\n",
      "Epoch 39/100\n",
      "1077/1077 - 6s - loss: 0.0376 - val_loss: 0.0173\n",
      "Epoch 40/100\n",
      "1077/1077 - 5s - loss: 0.0375 - val_loss: 0.0171\n",
      "Epoch 41/100\n",
      "1077/1077 - 7s - loss: 0.0375 - val_loss: 0.0180\n",
      "Epoch 42/100\n",
      "1077/1077 - 6s - loss: 0.0376 - val_loss: 0.0191\n",
      "Epoch 43/100\n",
      "1077/1077 - 7s - loss: 0.0380 - val_loss: 0.0152\n",
      "Epoch 44/100\n",
      "1077/1077 - 7s - loss: 0.0377 - val_loss: 0.0170\n",
      "Epoch 45/100\n",
      "1077/1077 - 8s - loss: 0.0377 - val_loss: 0.0152\n",
      "Epoch 46/100\n",
      "1077/1077 - 6s - loss: 0.0376 - val_loss: 0.0156\n",
      "Epoch 47/100\n",
      "1077/1077 - 8s - loss: 0.0375 - val_loss: 0.0163\n",
      "Epoch 48/100\n",
      "1077/1077 - 7s - loss: 0.0378 - val_loss: 0.0196\n",
      "Epoch 49/100\n",
      "1077/1077 - 7s - loss: 0.0375 - val_loss: 0.0151\n",
      "Epoch 50/100\n",
      "1077/1077 - 8s - loss: 0.0376 - val_loss: 0.0174\n",
      "Epoch 51/100\n",
      "1077/1077 - 7s - loss: 0.0378 - val_loss: 0.0177\n",
      "Epoch 52/100\n",
      "1077/1077 - 10s - loss: 0.0376 - val_loss: 0.0157\n",
      "Epoch 53/100\n",
      "1077/1077 - 10s - loss: 0.0378 - val_loss: 0.0178\n",
      "Epoch 54/100\n",
      "1077/1077 - 8s - loss: 0.0376 - val_loss: 0.0165\n",
      "Epoch 55/100\n",
      "1077/1077 - 7s - loss: 0.0375 - val_loss: 0.0169\n",
      "Epoch 56/100\n",
      "1077/1077 - 6s - loss: 0.0377 - val_loss: 0.0186\n",
      "Epoch 57/100\n",
      "1077/1077 - 10s - loss: 0.0376 - val_loss: 0.0149\n",
      "Epoch 58/100\n",
      "1077/1077 - 8s - loss: 0.0375 - val_loss: 0.0184\n",
      "Epoch 59/100\n",
      "1077/1077 - 9s - loss: 0.0376 - val_loss: 0.0159\n",
      "Epoch 60/100\n",
      "1077/1077 - 8s - loss: 0.0376 - val_loss: 0.0156\n",
      "Epoch 61/100\n",
      "1077/1077 - 6s - loss: 0.0377 - val_loss: 0.0161\n",
      "Epoch 62/100\n",
      "1077/1077 - 6s - loss: 0.0375 - val_loss: 0.0166\n",
      "Epoch 63/100\n",
      "1077/1077 - 6s - loss: 0.0375 - val_loss: 0.0172\n",
      "Epoch 64/100\n",
      "1077/1077 - 6s - loss: 0.0377 - val_loss: 0.0168\n",
      "Epoch 65/100\n",
      "1077/1077 - 6s - loss: 0.0374 - val_loss: 0.0156\n",
      "Epoch 66/100\n",
      "1077/1077 - 6s - loss: 0.0376 - val_loss: 0.0146\n",
      "Epoch 67/100\n",
      "1077/1077 - 6s - loss: 0.0377 - val_loss: 0.0154\n",
      "Epoch 68/100\n",
      "1077/1077 - 6s - loss: 0.0377 - val_loss: 0.0167\n",
      "Epoch 69/100\n",
      "1077/1077 - 6s - loss: 0.0376 - val_loss: 0.0180\n",
      "Epoch 70/100\n",
      "1077/1077 - 6s - loss: 0.0377 - val_loss: 0.0174\n",
      "Epoch 71/100\n",
      "1077/1077 - 6s - loss: 0.0376 - val_loss: 0.0166\n",
      "Epoch 72/100\n",
      "1077/1077 - 7s - loss: 0.0374 - val_loss: 0.0184\n",
      "Epoch 73/100\n",
      "1077/1077 - 6s - loss: 0.0378 - val_loss: 0.0159\n",
      "Epoch 74/100\n",
      "1077/1077 - 6s - loss: 0.0376 - val_loss: 0.0160\n",
      "Epoch 75/100\n",
      "1077/1077 - 7s - loss: 0.0376 - val_loss: 0.0169\n",
      "Epoch 76/100\n",
      "1077/1077 - 6s - loss: 0.0375 - val_loss: 0.0171\n",
      "Epoch 77/100\n",
      "1077/1077 - 6s - loss: 0.0373 - val_loss: 0.0169\n",
      "Epoch 78/100\n",
      "1077/1077 - 6s - loss: 0.0375 - val_loss: 0.0176\n",
      "Epoch 79/100\n",
      "1077/1077 - 6s - loss: 0.0376 - val_loss: 0.0168\n",
      "Epoch 80/100\n",
      "1077/1077 - 6s - loss: 0.0376 - val_loss: 0.0147\n",
      "Epoch 81/100\n",
      "1077/1077 - 6s - loss: 0.0377 - val_loss: 0.0190\n",
      "Epoch 82/100\n",
      "1077/1077 - 6s - loss: 0.0376 - val_loss: 0.0159\n",
      "Epoch 83/100\n",
      "1077/1077 - 6s - loss: 0.0375 - val_loss: 0.0151\n",
      "Epoch 84/100\n",
      "1077/1077 - 6s - loss: 0.0376 - val_loss: 0.0153\n",
      "Epoch 85/100\n",
      "1077/1077 - 9s - loss: 0.0376 - val_loss: 0.0162\n",
      "Epoch 86/100\n",
      "1077/1077 - 10s - loss: 0.0376 - val_loss: 0.0143\n",
      "Epoch 87/100\n",
      "1077/1077 - 8s - loss: 0.0377 - val_loss: 0.0168\n",
      "Epoch 88/100\n",
      "1077/1077 - 10s - loss: 0.0376 - val_loss: 0.0174\n",
      "Epoch 89/100\n",
      "1077/1077 - 9s - loss: 0.0375 - val_loss: 0.0174\n",
      "Epoch 90/100\n",
      "1077/1077 - 9s - loss: 0.0376 - val_loss: 0.0172\n",
      "Epoch 91/100\n",
      "1077/1077 - 8s - loss: 0.0377 - val_loss: 0.0163\n",
      "Epoch 92/100\n",
      "1077/1077 - 6s - loss: 0.0376 - val_loss: 0.0157\n",
      "Epoch 93/100\n",
      "1077/1077 - 10s - loss: 0.0376 - val_loss: 0.0186\n",
      "Epoch 94/100\n",
      "1077/1077 - 7s - loss: 0.0376 - val_loss: 0.0175\n",
      "Epoch 95/100\n",
      "1077/1077 - 8s - loss: 0.0372 - val_loss: 0.0141\n",
      "Epoch 96/100\n",
      "1077/1077 - 8s - loss: 0.0370 - val_loss: 0.0166\n",
      "Epoch 97/100\n",
      "1077/1077 - 7s - loss: 0.0377 - val_loss: 0.0188\n",
      "Epoch 98/100\n",
      "1077/1077 - 6s - loss: 0.0375 - val_loss: 0.0174\n",
      "Epoch 99/100\n",
      "1077/1077 - 6s - loss: 0.0374 - val_loss: 0.0146\n",
      "Epoch 100/100\n",
      "1077/1077 - 6s - loss: 0.0374 - val_loss: 0.0175\n",
      "score: test score =  0.017541654407978058\n"
     ]
    }
   ],
   "metadata": {}
  },
  {
   "cell_type": "code",
   "execution_count": 19,
   "source": [
    "# make predictions\n",
    "trainPredict = model.predict(trainX)\n",
    "testPredict = model.predict(testX)"
   ],
   "outputs": [],
   "metadata": {}
  },
  {
   "cell_type": "code",
   "execution_count": 20,
   "source": [
    "# invert predictions\n",
    "trainPredict = scaler.inverse_transform(trainPredict)\n",
    "trainY = scaler.inverse_transform([trainY])\n",
    "testPredict = scaler.inverse_transform(testPredict)\n",
    "testY = scaler.inverse_transform([testY])"
   ],
   "outputs": [],
   "metadata": {}
  },
  {
   "cell_type": "code",
   "execution_count": 34,
   "source": [
    "test_Y = testY[0][len(testY[0])-14:len(testY[0])-1]\n",
    "test_Ypred = testPredict[len(testPredict)-14:len(testPredict)-1]\n",
    "plt.subplots(figsize=(10, 5))\n",
    "plt.title(product_name.upper() + \" - Forecast vs Actual\", fontsize=14)\n",
    "plt.plot(pd.Series(numpy.ravel(test_Y)), \"bs-\", markersize=3, label=\"Actual\")\n",
    "plt.plot(pd.Series(numpy.ravel(test_Ypred)), \"ro-\", markersize=3, label=\"Forecast\")\n",
    "plt.legend(loc=\"best\")\n",
    "plt.xlabel(\"Days\")\n",
    "plt.ylim([-0.0003,0.0003])\n",
    "plt.show()"
   ],
   "outputs": [
    {
     "output_type": "error",
     "ename": "TypeError",
     "evalue": "object of type 'numpy.float64' has no len()",
     "traceback": [
      "\u001b[0;31m---------------------------------------------------------------------------\u001b[0m",
      "\u001b[0;31mTypeError\u001b[0m                                 Traceback (most recent call last)",
      "\u001b[0;32m<ipython-input-34-8e6d937794df>\u001b[0m in \u001b[0;36m<module>\u001b[0;34m\u001b[0m\n\u001b[0;32m----> 1\u001b[0;31m \u001b[0mtest_Y\u001b[0m \u001b[0;34m=\u001b[0m \u001b[0mtestY\u001b[0m\u001b[0;34m[\u001b[0m\u001b[0;36m0\u001b[0m\u001b[0;34m]\u001b[0m\u001b[0;34m[\u001b[0m\u001b[0mlen\u001b[0m\u001b[0;34m(\u001b[0m\u001b[0mtestY\u001b[0m\u001b[0;34m[\u001b[0m\u001b[0;36m0\u001b[0m\u001b[0;34m]\u001b[0m\u001b[0;34m)\u001b[0m\u001b[0;34m-\u001b[0m\u001b[0;36m140\u001b[0m\u001b[0;34m:\u001b[0m\u001b[0mlen\u001b[0m\u001b[0;34m(\u001b[0m\u001b[0mtestY\u001b[0m\u001b[0;34m[\u001b[0m\u001b[0;36m0\u001b[0m\u001b[0;34m]\u001b[0m\u001b[0;34m)\u001b[0m\u001b[0;34m-\u001b[0m\u001b[0;36m1\u001b[0m\u001b[0;34m]\u001b[0m\u001b[0;34m\u001b[0m\u001b[0;34m\u001b[0m\u001b[0m\n\u001b[0m\u001b[1;32m      2\u001b[0m \u001b[0mtest_Ypred\u001b[0m \u001b[0;34m=\u001b[0m \u001b[0mtestPredict\u001b[0m\u001b[0;34m[\u001b[0m\u001b[0mlen\u001b[0m\u001b[0;34m(\u001b[0m\u001b[0mtestPredict\u001b[0m\u001b[0;34m)\u001b[0m\u001b[0;34m-\u001b[0m\u001b[0;36m140\u001b[0m\u001b[0;34m:\u001b[0m\u001b[0mlen\u001b[0m\u001b[0;34m(\u001b[0m\u001b[0mtestPredict\u001b[0m\u001b[0;34m)\u001b[0m\u001b[0;34m-\u001b[0m\u001b[0;36m1\u001b[0m\u001b[0;34m]\u001b[0m\u001b[0;34m\u001b[0m\u001b[0;34m\u001b[0m\u001b[0m\n\u001b[1;32m      3\u001b[0m \u001b[0mplt\u001b[0m\u001b[0;34m.\u001b[0m\u001b[0msubplots\u001b[0m\u001b[0;34m(\u001b[0m\u001b[0mfigsize\u001b[0m\u001b[0;34m=\u001b[0m\u001b[0;34m(\u001b[0m\u001b[0;36m10\u001b[0m\u001b[0;34m,\u001b[0m \u001b[0;36m5\u001b[0m\u001b[0;34m)\u001b[0m\u001b[0;34m)\u001b[0m\u001b[0;34m\u001b[0m\u001b[0;34m\u001b[0m\u001b[0m\n\u001b[1;32m      4\u001b[0m \u001b[0mplt\u001b[0m\u001b[0;34m.\u001b[0m\u001b[0mtitle\u001b[0m\u001b[0;34m(\u001b[0m\u001b[0mproduct_name\u001b[0m\u001b[0;34m.\u001b[0m\u001b[0mupper\u001b[0m\u001b[0;34m(\u001b[0m\u001b[0;34m)\u001b[0m \u001b[0;34m+\u001b[0m \u001b[0;34m\" - Forecast vs Actual\"\u001b[0m\u001b[0;34m,\u001b[0m \u001b[0mfontsize\u001b[0m\u001b[0;34m=\u001b[0m\u001b[0;36m14\u001b[0m\u001b[0;34m)\u001b[0m\u001b[0;34m\u001b[0m\u001b[0;34m\u001b[0m\u001b[0m\n\u001b[1;32m      5\u001b[0m \u001b[0mplt\u001b[0m\u001b[0;34m.\u001b[0m\u001b[0mplot\u001b[0m\u001b[0;34m(\u001b[0m\u001b[0mpd\u001b[0m\u001b[0;34m.\u001b[0m\u001b[0mSeries\u001b[0m\u001b[0;34m(\u001b[0m\u001b[0mnumpy\u001b[0m\u001b[0;34m.\u001b[0m\u001b[0mravel\u001b[0m\u001b[0;34m(\u001b[0m\u001b[0mtest_Y\u001b[0m\u001b[0;34m)\u001b[0m\u001b[0;34m)\u001b[0m\u001b[0;34m,\u001b[0m \u001b[0;34m\"bs-\"\u001b[0m\u001b[0;34m,\u001b[0m \u001b[0mmarkersize\u001b[0m\u001b[0;34m=\u001b[0m\u001b[0;36m3\u001b[0m\u001b[0;34m,\u001b[0m \u001b[0mlabel\u001b[0m\u001b[0;34m=\u001b[0m\u001b[0;34m\"Actual\"\u001b[0m\u001b[0;34m)\u001b[0m\u001b[0;34m\u001b[0m\u001b[0;34m\u001b[0m\u001b[0m\n",
      "\u001b[0;31mTypeError\u001b[0m: object of type 'numpy.float64' has no len()"
     ]
    }
   ],
   "metadata": {}
  },
  {
   "cell_type": "code",
   "execution_count": 22,
   "source": [
    "# calculate root mean squared error\n",
    "trainScore = math.sqrt(mean_squared_error(trainY[0], trainPredict[:,0]))\n",
    "print('Train Score: %.8f RMSE' % (trainScore))\n",
    "testScore = math.sqrt(mean_squared_error(testY[0], testPredict[:,0]))\n",
    "print('Test Score: %.8f RMSE' % (testScore))"
   ],
   "outputs": [
    {
     "output_type": "stream",
     "name": "stdout",
     "text": [
      "Train Score: 0.00003782 RMSE\n",
      "Test Score: 0.00002595 RMSE\n"
     ]
    }
   ],
   "metadata": {}
  },
  {
   "cell_type": "code",
   "execution_count": 23,
   "source": [
    "# shift train predictions for plotting\n",
    "trainPredictPlot = numpy.empty_like(dataset)\n",
    "trainPredictPlot[:, :] = numpy.nan\n",
    "trainPredictPlot[look_back:len(trainPredict)+look_back, :] = trainPredict"
   ],
   "outputs": [],
   "metadata": {}
  },
  {
   "cell_type": "code",
   "execution_count": 24,
   "source": [
    "# shift test predictions for plotting\n",
    "testPredictPlot = numpy.empty_like(dataset)\n",
    "testPredictPlot[:, :] = numpy.nan\n",
    "testPredictPlot[len(trainPredict)+(look_back*2)+1:len(dataset)-1, :] = testPredict"
   ],
   "outputs": [],
   "metadata": {}
  },
  {
   "cell_type": "code",
   "execution_count": 25,
   "source": [
    "# plot baseline and predictions\n",
    "plt.plot(scaler.inverse_transform(dataset),\"b-\", label=\"Actual\")\n",
    "plt.plot(trainPredictPlot,\"y-\", label=\"Train pred\")\n",
    "plt.plot(scaler.inverse_transform(testY)[0],\"b-\", label=\"Actual\")\n",
    "plt.plot(testPredictPlot, \"g-\", label=\"Test pred\")\n",
    "plt.legend(loc=\"best\")\n",
    "plt.ylim([-0.0003,0.0003])\n",
    "plt.show()\n"
   ],
   "outputs": [
    {
     "output_type": "display_data",
     "data": {
      "text/plain": [
       "<Figure size 432x288 with 1 Axes>"
      ],
      "image/svg+xml": "<?xml version=\"1.0\" encoding=\"utf-8\" standalone=\"no\"?>\n<!DOCTYPE svg PUBLIC \"-//W3C//DTD SVG 1.1//EN\"\n  \"http://www.w3.org/Graphics/SVG/1.1/DTD/svg11.dtd\">\n<!-- Created with matplotlib (https://matplotlib.org/) -->\n<svg height=\"252.317344pt\" version=\"1.1\" viewBox=\"0 0 399.570312 252.317344\" width=\"399.570312pt\" xmlns=\"http://www.w3.org/2000/svg\" xmlns:xlink=\"http://www.w3.org/1999/xlink\">\n <metadata>\n  <rdf:RDF xmlns:cc=\"http://creativecommons.org/ns#\" xmlns:dc=\"http://purl.org/dc/elements/1.1/\" xmlns:rdf=\"http://www.w3.org/1999/02/22-rdf-syntax-ns#\">\n   <cc:Work>\n    <dc:type rdf:resource=\"http://purl.org/dc/dcmitype/StillImage\"/>\n    <dc:date>2021-09-19T12:09:43.034898</dc:date>\n    <dc:format>image/svg+xml</dc:format>\n    <dc:creator>\n     <cc:Agent>\n      <dc:title>Matplotlib v3.3.2, https://matplotlib.org/</dc:title>\n     </cc:Agent>\n    </dc:creator>\n   </cc:Work>\n  </rdf:RDF>\n </metadata>\n <defs>\n  <style type=\"text/css\">*{stroke-linecap:butt;stroke-linejoin:round;}</style>\n </defs>\n <g id=\"figure_1\">\n  <g id=\"patch_1\">\n   <path d=\"M 0 252.317344 \nL 399.570312 252.317344 \nL 399.570312 0 \nL 0 0 \nz\n\" style=\"fill:none;\"/>\n  </g>\n  <g id=\"axes_1\">\n   <g id=\"patch_2\">\n    <path d=\"M 57.570313 228.439219 \nL 392.370313 228.439219 \nL 392.370313 10.999219 \nL 57.570313 10.999219 \nz\n\" style=\"fill:#ffffff;\"/>\n   </g>\n   <g id=\"matplotlib.axis_1\">\n    <g id=\"xtick_1\">\n     <g id=\"line2d_1\">\n      <defs>\n       <path d=\"M 0 0 \nL 0 3.5 \n\" id=\"m7d930d2cd8\" style=\"stroke:#000000;stroke-width:0.8;\"/>\n      </defs>\n      <g>\n       <use style=\"stroke:#000000;stroke-width:0.8;\" x=\"72.788494\" xlink:href=\"#m7d930d2cd8\" y=\"228.439219\"/>\n      </g>\n     </g>\n     <g id=\"text_1\">\n      <!-- 0 -->\n      <g transform=\"translate(69.607244 243.037656)scale(0.1 -0.1)\">\n       <defs>\n        <path d=\"M 31.78125 66.40625 \nQ 24.171875 66.40625 20.328125 58.90625 \nQ 16.5 51.421875 16.5 36.375 \nQ 16.5 21.390625 20.328125 13.890625 \nQ 24.171875 6.390625 31.78125 6.390625 \nQ 39.453125 6.390625 43.28125 13.890625 \nQ 47.125 21.390625 47.125 36.375 \nQ 47.125 51.421875 43.28125 58.90625 \nQ 39.453125 66.40625 31.78125 66.40625 \nz\nM 31.78125 74.21875 \nQ 44.046875 74.21875 50.515625 64.515625 \nQ 56.984375 54.828125 56.984375 36.375 \nQ 56.984375 17.96875 50.515625 8.265625 \nQ 44.046875 -1.421875 31.78125 -1.421875 \nQ 19.53125 -1.421875 13.0625 8.265625 \nQ 6.59375 17.96875 6.59375 36.375 \nQ 6.59375 54.828125 13.0625 64.515625 \nQ 19.53125 74.21875 31.78125 74.21875 \nz\n\" id=\"DejaVuSans-48\"/>\n       </defs>\n       <use xlink:href=\"#DejaVuSans-48\"/>\n      </g>\n     </g>\n    </g>\n    <g id=\"xtick_2\">\n     <g id=\"line2d_2\">\n      <g>\n       <use style=\"stroke:#000000;stroke-width:0.8;\" x=\"123.600454\" xlink:href=\"#m7d930d2cd8\" y=\"228.439219\"/>\n      </g>\n     </g>\n     <g id=\"text_2\">\n      <!-- 200 -->\n      <g transform=\"translate(114.056704 243.037656)scale(0.1 -0.1)\">\n       <defs>\n        <path d=\"M 19.1875 8.296875 \nL 53.609375 8.296875 \nL 53.609375 0 \nL 7.328125 0 \nL 7.328125 8.296875 \nQ 12.9375 14.109375 22.625 23.890625 \nQ 32.328125 33.6875 34.8125 36.53125 \nQ 39.546875 41.84375 41.421875 45.53125 \nQ 43.3125 49.21875 43.3125 52.78125 \nQ 43.3125 58.59375 39.234375 62.25 \nQ 35.15625 65.921875 28.609375 65.921875 \nQ 23.96875 65.921875 18.8125 64.3125 \nQ 13.671875 62.703125 7.8125 59.421875 \nL 7.8125 69.390625 \nQ 13.765625 71.78125 18.9375 73 \nQ 24.125 74.21875 28.421875 74.21875 \nQ 39.75 74.21875 46.484375 68.546875 \nQ 53.21875 62.890625 53.21875 53.421875 \nQ 53.21875 48.921875 51.53125 44.890625 \nQ 49.859375 40.875 45.40625 35.40625 \nQ 44.1875 33.984375 37.640625 27.21875 \nQ 31.109375 20.453125 19.1875 8.296875 \nz\n\" id=\"DejaVuSans-50\"/>\n       </defs>\n       <use xlink:href=\"#DejaVuSans-50\"/>\n       <use x=\"63.623047\" xlink:href=\"#DejaVuSans-48\"/>\n       <use x=\"127.246094\" xlink:href=\"#DejaVuSans-48\"/>\n      </g>\n     </g>\n    </g>\n    <g id=\"xtick_3\">\n     <g id=\"line2d_3\">\n      <g>\n       <use style=\"stroke:#000000;stroke-width:0.8;\" x=\"174.412413\" xlink:href=\"#m7d930d2cd8\" y=\"228.439219\"/>\n      </g>\n     </g>\n     <g id=\"text_3\">\n      <!-- 400 -->\n      <g transform=\"translate(164.868663 243.037656)scale(0.1 -0.1)\">\n       <defs>\n        <path d=\"M 37.796875 64.3125 \nL 12.890625 25.390625 \nL 37.796875 25.390625 \nz\nM 35.203125 72.90625 \nL 47.609375 72.90625 \nL 47.609375 25.390625 \nL 58.015625 25.390625 \nL 58.015625 17.1875 \nL 47.609375 17.1875 \nL 47.609375 0 \nL 37.796875 0 \nL 37.796875 17.1875 \nL 4.890625 17.1875 \nL 4.890625 26.703125 \nz\n\" id=\"DejaVuSans-52\"/>\n       </defs>\n       <use xlink:href=\"#DejaVuSans-52\"/>\n       <use x=\"63.623047\" xlink:href=\"#DejaVuSans-48\"/>\n       <use x=\"127.246094\" xlink:href=\"#DejaVuSans-48\"/>\n      </g>\n     </g>\n    </g>\n    <g id=\"xtick_4\">\n     <g id=\"line2d_4\">\n      <g>\n       <use style=\"stroke:#000000;stroke-width:0.8;\" x=\"225.224372\" xlink:href=\"#m7d930d2cd8\" y=\"228.439219\"/>\n      </g>\n     </g>\n     <g id=\"text_4\">\n      <!-- 600 -->\n      <g transform=\"translate(215.680622 243.037656)scale(0.1 -0.1)\">\n       <defs>\n        <path d=\"M 33.015625 40.375 \nQ 26.375 40.375 22.484375 35.828125 \nQ 18.609375 31.296875 18.609375 23.390625 \nQ 18.609375 15.53125 22.484375 10.953125 \nQ 26.375 6.390625 33.015625 6.390625 \nQ 39.65625 6.390625 43.53125 10.953125 \nQ 47.40625 15.53125 47.40625 23.390625 \nQ 47.40625 31.296875 43.53125 35.828125 \nQ 39.65625 40.375 33.015625 40.375 \nz\nM 52.59375 71.296875 \nL 52.59375 62.3125 \nQ 48.875 64.0625 45.09375 64.984375 \nQ 41.3125 65.921875 37.59375 65.921875 \nQ 27.828125 65.921875 22.671875 59.328125 \nQ 17.53125 52.734375 16.796875 39.40625 \nQ 19.671875 43.65625 24.015625 45.921875 \nQ 28.375 48.1875 33.59375 48.1875 \nQ 44.578125 48.1875 50.953125 41.515625 \nQ 57.328125 34.859375 57.328125 23.390625 \nQ 57.328125 12.15625 50.6875 5.359375 \nQ 44.046875 -1.421875 33.015625 -1.421875 \nQ 20.359375 -1.421875 13.671875 8.265625 \nQ 6.984375 17.96875 6.984375 36.375 \nQ 6.984375 53.65625 15.1875 63.9375 \nQ 23.390625 74.21875 37.203125 74.21875 \nQ 40.921875 74.21875 44.703125 73.484375 \nQ 48.484375 72.75 52.59375 71.296875 \nz\n\" id=\"DejaVuSans-54\"/>\n       </defs>\n       <use xlink:href=\"#DejaVuSans-54\"/>\n       <use x=\"63.623047\" xlink:href=\"#DejaVuSans-48\"/>\n       <use x=\"127.246094\" xlink:href=\"#DejaVuSans-48\"/>\n      </g>\n     </g>\n    </g>\n    <g id=\"xtick_5\">\n     <g id=\"line2d_5\">\n      <g>\n       <use style=\"stroke:#000000;stroke-width:0.8;\" x=\"276.036332\" xlink:href=\"#m7d930d2cd8\" y=\"228.439219\"/>\n      </g>\n     </g>\n     <g id=\"text_5\">\n      <!-- 800 -->\n      <g transform=\"translate(266.492582 243.037656)scale(0.1 -0.1)\">\n       <defs>\n        <path d=\"M 31.78125 34.625 \nQ 24.75 34.625 20.71875 30.859375 \nQ 16.703125 27.09375 16.703125 20.515625 \nQ 16.703125 13.921875 20.71875 10.15625 \nQ 24.75 6.390625 31.78125 6.390625 \nQ 38.8125 6.390625 42.859375 10.171875 \nQ 46.921875 13.96875 46.921875 20.515625 \nQ 46.921875 27.09375 42.890625 30.859375 \nQ 38.875 34.625 31.78125 34.625 \nz\nM 21.921875 38.8125 \nQ 15.578125 40.375 12.03125 44.71875 \nQ 8.5 49.078125 8.5 55.328125 \nQ 8.5 64.0625 14.71875 69.140625 \nQ 20.953125 74.21875 31.78125 74.21875 \nQ 42.671875 74.21875 48.875 69.140625 \nQ 55.078125 64.0625 55.078125 55.328125 \nQ 55.078125 49.078125 51.53125 44.71875 \nQ 48 40.375 41.703125 38.8125 \nQ 48.828125 37.15625 52.796875 32.3125 \nQ 56.78125 27.484375 56.78125 20.515625 \nQ 56.78125 9.90625 50.3125 4.234375 \nQ 43.84375 -1.421875 31.78125 -1.421875 \nQ 19.734375 -1.421875 13.25 4.234375 \nQ 6.78125 9.90625 6.78125 20.515625 \nQ 6.78125 27.484375 10.78125 32.3125 \nQ 14.796875 37.15625 21.921875 38.8125 \nz\nM 18.3125 54.390625 \nQ 18.3125 48.734375 21.84375 45.5625 \nQ 25.390625 42.390625 31.78125 42.390625 \nQ 38.140625 42.390625 41.71875 45.5625 \nQ 45.3125 48.734375 45.3125 54.390625 \nQ 45.3125 60.0625 41.71875 63.234375 \nQ 38.140625 66.40625 31.78125 66.40625 \nQ 25.390625 66.40625 21.84375 63.234375 \nQ 18.3125 60.0625 18.3125 54.390625 \nz\n\" id=\"DejaVuSans-56\"/>\n       </defs>\n       <use xlink:href=\"#DejaVuSans-56\"/>\n       <use x=\"63.623047\" xlink:href=\"#DejaVuSans-48\"/>\n       <use x=\"127.246094\" xlink:href=\"#DejaVuSans-48\"/>\n      </g>\n     </g>\n    </g>\n    <g id=\"xtick_6\">\n     <g id=\"line2d_6\">\n      <g>\n       <use style=\"stroke:#000000;stroke-width:0.8;\" x=\"326.848291\" xlink:href=\"#m7d930d2cd8\" y=\"228.439219\"/>\n      </g>\n     </g>\n     <g id=\"text_6\">\n      <!-- 1000 -->\n      <g transform=\"translate(314.123291 243.037656)scale(0.1 -0.1)\">\n       <defs>\n        <path d=\"M 12.40625 8.296875 \nL 28.515625 8.296875 \nL 28.515625 63.921875 \nL 10.984375 60.40625 \nL 10.984375 69.390625 \nL 28.421875 72.90625 \nL 38.28125 72.90625 \nL 38.28125 8.296875 \nL 54.390625 8.296875 \nL 54.390625 0 \nL 12.40625 0 \nz\n\" id=\"DejaVuSans-49\"/>\n       </defs>\n       <use xlink:href=\"#DejaVuSans-49\"/>\n       <use x=\"63.623047\" xlink:href=\"#DejaVuSans-48\"/>\n       <use x=\"127.246094\" xlink:href=\"#DejaVuSans-48\"/>\n       <use x=\"190.869141\" xlink:href=\"#DejaVuSans-48\"/>\n      </g>\n     </g>\n    </g>\n    <g id=\"xtick_7\">\n     <g id=\"line2d_7\">\n      <g>\n       <use style=\"stroke:#000000;stroke-width:0.8;\" x=\"377.66025\" xlink:href=\"#m7d930d2cd8\" y=\"228.439219\"/>\n      </g>\n     </g>\n     <g id=\"text_7\">\n      <!-- 1200 -->\n      <g transform=\"translate(364.93525 243.037656)scale(0.1 -0.1)\">\n       <use xlink:href=\"#DejaVuSans-49\"/>\n       <use x=\"63.623047\" xlink:href=\"#DejaVuSans-50\"/>\n       <use x=\"127.246094\" xlink:href=\"#DejaVuSans-48\"/>\n       <use x=\"190.869141\" xlink:href=\"#DejaVuSans-48\"/>\n      </g>\n     </g>\n    </g>\n   </g>\n   <g id=\"matplotlib.axis_2\">\n    <g id=\"ytick_1\">\n     <g id=\"line2d_8\">\n      <defs>\n       <path d=\"M 0 0 \nL -3.5 0 \n\" id=\"m6e439144c0\" style=\"stroke:#000000;stroke-width:0.8;\"/>\n      </defs>\n      <g>\n       <use style=\"stroke:#000000;stroke-width:0.8;\" x=\"57.570313\" xlink:href=\"#m6e439144c0\" y=\"228.439219\"/>\n      </g>\n     </g>\n     <g id=\"text_8\">\n      <!-- −0.0003 -->\n      <g transform=\"translate(7.2 232.238438)scale(0.1 -0.1)\">\n       <defs>\n        <path d=\"M 10.59375 35.5 \nL 73.1875 35.5 \nL 73.1875 27.203125 \nL 10.59375 27.203125 \nz\n\" id=\"DejaVuSans-8722\"/>\n        <path d=\"M 10.6875 12.40625 \nL 21 12.40625 \nL 21 0 \nL 10.6875 0 \nz\n\" id=\"DejaVuSans-46\"/>\n        <path d=\"M 40.578125 39.3125 \nQ 47.65625 37.796875 51.625 33 \nQ 55.609375 28.21875 55.609375 21.1875 \nQ 55.609375 10.40625 48.1875 4.484375 \nQ 40.765625 -1.421875 27.09375 -1.421875 \nQ 22.515625 -1.421875 17.65625 -0.515625 \nQ 12.796875 0.390625 7.625 2.203125 \nL 7.625 11.71875 \nQ 11.71875 9.328125 16.59375 8.109375 \nQ 21.484375 6.890625 26.8125 6.890625 \nQ 36.078125 6.890625 40.9375 10.546875 \nQ 45.796875 14.203125 45.796875 21.1875 \nQ 45.796875 27.640625 41.28125 31.265625 \nQ 36.765625 34.90625 28.71875 34.90625 \nL 20.21875 34.90625 \nL 20.21875 43.015625 \nL 29.109375 43.015625 \nQ 36.375 43.015625 40.234375 45.921875 \nQ 44.09375 48.828125 44.09375 54.296875 \nQ 44.09375 59.90625 40.109375 62.90625 \nQ 36.140625 65.921875 28.71875 65.921875 \nQ 24.65625 65.921875 20.015625 65.03125 \nQ 15.375 64.15625 9.8125 62.3125 \nL 9.8125 71.09375 \nQ 15.4375 72.65625 20.34375 73.4375 \nQ 25.25 74.21875 29.59375 74.21875 \nQ 40.828125 74.21875 47.359375 69.109375 \nQ 53.90625 64.015625 53.90625 55.328125 \nQ 53.90625 49.265625 50.4375 45.09375 \nQ 46.96875 40.921875 40.578125 39.3125 \nz\n\" id=\"DejaVuSans-51\"/>\n       </defs>\n       <use xlink:href=\"#DejaVuSans-8722\"/>\n       <use x=\"83.789062\" xlink:href=\"#DejaVuSans-48\"/>\n       <use x=\"147.412109\" xlink:href=\"#DejaVuSans-46\"/>\n       <use x=\"179.199219\" xlink:href=\"#DejaVuSans-48\"/>\n       <use x=\"242.822266\" xlink:href=\"#DejaVuSans-48\"/>\n       <use x=\"306.445312\" xlink:href=\"#DejaVuSans-48\"/>\n       <use x=\"370.068359\" xlink:href=\"#DejaVuSans-51\"/>\n      </g>\n     </g>\n    </g>\n    <g id=\"ytick_2\">\n     <g id=\"line2d_9\">\n      <g>\n       <use style=\"stroke:#000000;stroke-width:0.8;\" x=\"57.570313\" xlink:href=\"#m6e439144c0\" y=\"192.199219\"/>\n      </g>\n     </g>\n     <g id=\"text_9\">\n      <!-- −0.0002 -->\n      <g transform=\"translate(7.2 195.998437)scale(0.1 -0.1)\">\n       <use xlink:href=\"#DejaVuSans-8722\"/>\n       <use x=\"83.789062\" xlink:href=\"#DejaVuSans-48\"/>\n       <use x=\"147.412109\" xlink:href=\"#DejaVuSans-46\"/>\n       <use x=\"179.199219\" xlink:href=\"#DejaVuSans-48\"/>\n       <use x=\"242.822266\" xlink:href=\"#DejaVuSans-48\"/>\n       <use x=\"306.445312\" xlink:href=\"#DejaVuSans-48\"/>\n       <use x=\"370.068359\" xlink:href=\"#DejaVuSans-50\"/>\n      </g>\n     </g>\n    </g>\n    <g id=\"ytick_3\">\n     <g id=\"line2d_10\">\n      <g>\n       <use style=\"stroke:#000000;stroke-width:0.8;\" x=\"57.570313\" xlink:href=\"#m6e439144c0\" y=\"155.959219\"/>\n      </g>\n     </g>\n     <g id=\"text_10\">\n      <!-- −0.0001 -->\n      <g transform=\"translate(7.2 159.758437)scale(0.1 -0.1)\">\n       <use xlink:href=\"#DejaVuSans-8722\"/>\n       <use x=\"83.789062\" xlink:href=\"#DejaVuSans-48\"/>\n       <use x=\"147.412109\" xlink:href=\"#DejaVuSans-46\"/>\n       <use x=\"179.199219\" xlink:href=\"#DejaVuSans-48\"/>\n       <use x=\"242.822266\" xlink:href=\"#DejaVuSans-48\"/>\n       <use x=\"306.445312\" xlink:href=\"#DejaVuSans-48\"/>\n       <use x=\"370.068359\" xlink:href=\"#DejaVuSans-49\"/>\n      </g>\n     </g>\n    </g>\n    <g id=\"ytick_4\">\n     <g id=\"line2d_11\">\n      <g>\n       <use style=\"stroke:#000000;stroke-width:0.8;\" x=\"57.570313\" xlink:href=\"#m6e439144c0\" y=\"119.719219\"/>\n      </g>\n     </g>\n     <g id=\"text_11\">\n      <!-- 0.0000 -->\n      <g transform=\"translate(15.579688 123.518437)scale(0.1 -0.1)\">\n       <use xlink:href=\"#DejaVuSans-48\"/>\n       <use x=\"63.623047\" xlink:href=\"#DejaVuSans-46\"/>\n       <use x=\"95.410156\" xlink:href=\"#DejaVuSans-48\"/>\n       <use x=\"159.033203\" xlink:href=\"#DejaVuSans-48\"/>\n       <use x=\"222.65625\" xlink:href=\"#DejaVuSans-48\"/>\n       <use x=\"286.279297\" xlink:href=\"#DejaVuSans-48\"/>\n      </g>\n     </g>\n    </g>\n    <g id=\"ytick_5\">\n     <g id=\"line2d_12\">\n      <g>\n       <use style=\"stroke:#000000;stroke-width:0.8;\" x=\"57.570313\" xlink:href=\"#m6e439144c0\" y=\"83.479219\"/>\n      </g>\n     </g>\n     <g id=\"text_12\">\n      <!-- 0.0001 -->\n      <g transform=\"translate(15.579688 87.278437)scale(0.1 -0.1)\">\n       <use xlink:href=\"#DejaVuSans-48\"/>\n       <use x=\"63.623047\" xlink:href=\"#DejaVuSans-46\"/>\n       <use x=\"95.410156\" xlink:href=\"#DejaVuSans-48\"/>\n       <use x=\"159.033203\" xlink:href=\"#DejaVuSans-48\"/>\n       <use x=\"222.65625\" xlink:href=\"#DejaVuSans-48\"/>\n       <use x=\"286.279297\" xlink:href=\"#DejaVuSans-49\"/>\n      </g>\n     </g>\n    </g>\n    <g id=\"ytick_6\">\n     <g id=\"line2d_13\">\n      <g>\n       <use style=\"stroke:#000000;stroke-width:0.8;\" x=\"57.570313\" xlink:href=\"#m6e439144c0\" y=\"47.239219\"/>\n      </g>\n     </g>\n     <g id=\"text_13\">\n      <!-- 0.0002 -->\n      <g transform=\"translate(15.579688 51.038437)scale(0.1 -0.1)\">\n       <use xlink:href=\"#DejaVuSans-48\"/>\n       <use x=\"63.623047\" xlink:href=\"#DejaVuSans-46\"/>\n       <use x=\"95.410156\" xlink:href=\"#DejaVuSans-48\"/>\n       <use x=\"159.033203\" xlink:href=\"#DejaVuSans-48\"/>\n       <use x=\"222.65625\" xlink:href=\"#DejaVuSans-48\"/>\n       <use x=\"286.279297\" xlink:href=\"#DejaVuSans-50\"/>\n      </g>\n     </g>\n    </g>\n    <g id=\"ytick_7\">\n     <g id=\"line2d_14\">\n      <g>\n       <use style=\"stroke:#000000;stroke-width:0.8;\" x=\"57.570313\" xlink:href=\"#m6e439144c0\" y=\"10.999219\"/>\n      </g>\n     </g>\n     <g id=\"text_14\">\n      <!-- 0.0003 -->\n      <g transform=\"translate(15.579688 14.798437)scale(0.1 -0.1)\">\n       <use xlink:href=\"#DejaVuSans-48\"/>\n       <use x=\"63.623047\" xlink:href=\"#DejaVuSans-46\"/>\n       <use x=\"95.410156\" xlink:href=\"#DejaVuSans-48\"/>\n       <use x=\"159.033203\" xlink:href=\"#DejaVuSans-48\"/>\n       <use x=\"222.65625\" xlink:href=\"#DejaVuSans-48\"/>\n       <use x=\"286.279297\" xlink:href=\"#DejaVuSans-51\"/>\n      </g>\n     </g>\n    </g>\n   </g>\n   <g id=\"line2d_15\">\n    <path clip-path=\"url(#p042abdb1ee)\" d=\"M 72.788494 98.342146 \nL 73.042554 100.452841 \nL 73.296614 101.266756 \nL 73.550674 119.719219 \nL 73.804734 119.719219 \nL 74.058793 86.181412 \nL 74.312853 114.60018 \nL 74.566913 119.719219 \nL 75.583152 119.719219 \nL 75.837212 70.572331 \nL 76.091272 119.719219 \nL 77.107511 119.719219 \nL 77.361571 77.788294 \nL 77.61563 119.719219 \nL 77.86969 119.719219 \nL 78.12375 66.129807 \nL 78.37781 119.719219 \nL 79.648109 119.719219 \nL 79.902169 90.230714 \nL 80.156228 119.719219 \nL 81.934647 119.719219 \nL 82.188707 100.33195 \nL 82.442767 119.719219 \nL 84.475245 119.719219 \nL 84.729305 108.381028 \nL 84.983365 119.719219 \nL 85.999604 119.719219 \nL 86.253664 94.115416 \nL 86.507723 119.719219 \nL 87.778022 119.719219 \nL 88.032082 89.266072 \nL 88.286142 119.719219 \nL 90.82674 119.719219 \nL 91.0808 111.099578 \nL 91.334859 119.719219 \nL 94.129517 119.719219 \nL 94.383577 106.554286 \nL 94.637637 119.719219 \nL 94.891697 119.719219 \nL 95.145756 107.143865 \nL 95.399816 119.719219 \nL 99.972893 119.719219 \nL 100.226952 107.020106 \nL 100.481012 119.719219 \nL 100.735072 119.719219 \nL 100.989132 100.334968 \nL 101.243192 119.719219 \nL 103.02161 119.719219 \nL 103.27567 106.077959 \nL 103.52973 119.719219 \nL 106.070328 119.719219 \nL 106.324387 100.416653 \nL 106.578447 90.79681 \nL 106.832507 119.719219 \nL 110.135284 119.719219 \nL 110.389344 93.454303 \nL 110.643404 119.719219 \nL 111.659643 119.719219 \nL 111.913703 58.722162 \nL 112.167763 119.719219 \nL 113.692122 119.719219 \nL 113.946181 98.808693 \nL 114.200241 119.719219 \nL 114.454301 119.719219 \nL 114.708361 85.45235 \nL 114.962421 119.719219 \nL 115.47054 119.719219 \nL 115.97866 62.771702 \nL 116.23272 119.719219 \nL 117.248959 119.719219 \nL 117.503019 94.763757 \nL 117.757078 119.719219 \nL 118.265198 119.719219 \nL 118.519258 87.945203 \nL 118.773318 89.922012 \nL 119.027377 119.719219 \nL 119.281437 81.843207 \nL 119.535497 83.943949 \nL 120.043616 119.719219 \nL 120.297676 119.719219 \nL 120.551736 92.314055 \nL 120.805796 119.719219 \nL 121.567975 119.719219 \nL 121.822035 107.172591 \nL 122.076095 119.719219 \nL 122.330155 103.184515 \nL 122.584214 119.719219 \nL 122.838274 119.719219 \nL 123.092334 92.558329 \nL 123.346394 119.719219 \nL 124.870753 119.719219 \nL 125.124812 76.753018 \nL 125.378872 119.719219 \nL 126.649171 119.719219 \nL 126.903231 95.639164 \nL 127.157291 93.890824 \nL 127.411351 97.181614 \nL 127.66541 119.719219 \nL 127.91947 119.719219 \nL 128.17353 86.900013 \nL 128.42759 81.776639 \nL 128.68165 119.719219 \nL 129.189769 119.719219 \nL 129.443829 97.875987 \nL 129.697889 119.719219 \nL 129.951949 119.719219 \nL 130.206008 72.760364 \nL 130.460068 119.719219 \nL 130.968188 119.719219 \nL 131.222248 96.481136 \nL 131.476307 119.719219 \nL 136.049384 119.719219 \nL 136.303443 99.46851 \nL 136.557503 108.322183 \nL 136.811563 94.721278 \nL 137.065623 119.719219 \nL 137.319683 70.21025 \nL 137.827802 119.719219 \nL 138.081862 119.719219 \nL 138.335922 93.474298 \nL 138.589982 119.719219 \nL 138.844041 119.719219 \nL 139.098101 91.887433 \nL 139.352161 119.719219 \nL 139.606221 90.53333 \nL 139.860281 119.719219 \nL 140.11434 119.719219 \nL 140.3684 79.356427 \nL 140.62246 87.264243 \nL 140.87652 79.284988 \nL 141.13058 87.642735 \nL 141.384639 73.365628 \nL 141.638699 119.719219 \nL 141.892759 59.369915 \nL 142.146819 81.892094 \nL 142.400879 119.719219 \nL 142.654938 86.579606 \nL 142.908998 119.719219 \nL 145.195536 119.719219 \nL 145.449596 101.337606 \nL 145.703656 100.439317 \nL 145.957716 106.542721 \nL 146.211776 95.297152 \nL 146.465835 95.495751 \nL 146.719895 98.001198 \nL 146.973955 87.033106 \nL 147.228015 119.719219 \nL 147.482075 102.078098 \nL 147.736134 119.719219 \nL 147.990194 105.717181 \nL 148.244254 119.719219 \nL 148.752374 119.719219 \nL 149.006433 94.872359 \nL 149.514553 119.719219 \nL 149.768613 85.999746 \nL 150.022672 89.686005 \nL 150.276732 87.440951 \nL 150.530792 119.719219 \nL 150.784852 104.192549 \nL 151.292971 88.266839 \nL 151.547031 94.942163 \nL 151.801091 84.387565 \nL 152.055151 99.407715 \nL 152.309211 90.439459 \nL 152.56327 98.56588 \nL 152.81733 70.750933 \nL 153.07139 119.719219 \nL 153.32545 93.644145 \nL 153.57951 119.719219 \nL 153.833569 59.488587 \nL 154.087629 77.355394 \nL 154.341689 119.719219 \nL 154.595749 98.479013 \nL 154.849809 99.838747 \nL 155.103868 119.719219 \nL 156.374167 119.719219 \nL 156.628227 98.964827 \nL 156.882287 95.327298 \nL 157.136347 119.719219 \nL 158.152586 119.719219 \nL 158.406646 88.585552 \nL 158.660706 119.719219 \nL 160.185064 119.719219 \nL 160.439124 98.567121 \nL 160.693184 119.719219 \nL 160.947244 119.719219 \nL 161.201304 97.817563 \nL 161.455363 103.332233 \nL 161.709423 119.719219 \nL 162.471603 119.719219 \nL 162.725662 94.454544 \nL 162.979722 119.719219 \nL 163.233782 119.719219 \nL 163.487842 99.028906 \nL 163.741902 91.313912 \nL 163.995961 119.719219 \nL 164.504081 119.719219 \nL 164.758141 95.516747 \nL 165.0122 119.719219 \nL 166.282499 119.719219 \nL 166.536559 98.304738 \nL 166.790619 100.191289 \nL 167.044679 119.719219 \nL 169.077157 119.719219 \nL 169.331217 102.058591 \nL 169.585277 119.719219 \nL 172.379935 119.719219 \nL 172.633994 96.187749 \nL 172.888054 119.719219 \nL 173.142114 49.222859 \nL 173.396174 84.713417 \nL 173.650234 83.49499 \nL 173.904293 119.719219 \nL 174.158353 119.719219 \nL 174.412413 82.351977 \nL 174.666473 119.719219 \nL 174.920533 103.335236 \nL 175.174592 119.719219 \nL 175.428652 119.719219 \nL 175.682712 105.761091 \nL 175.936772 119.719219 \nL 176.190832 101.049354 \nL 176.444891 91.670047 \nL 176.698951 98.575987 \nL 176.953011 119.719219 \nL 177.96925 119.719219 \nL 178.22331 99.285798 \nL 178.47737 119.719219 \nL 178.985489 119.719219 \nL 179.239549 99.522363 \nL 179.493609 119.719219 \nL 181.780147 119.719219 \nL 182.034207 95.827239 \nL 182.288267 119.719219 \nL 185.845104 119.719219 \nL 186.099164 104.844368 \nL 186.353223 119.719219 \nL 186.861343 119.719219 \nL 187.115403 97.929725 \nL 187.369463 119.719219 \nL 187.623522 119.719219 \nL 187.877582 102.96662 \nL 188.131642 119.719219 \nL 198.039974 119.719219 \nL 198.294034 106.999946 \nL 198.548094 119.719219 \nL 199.310273 119.719219 \nL 199.564333 106.540982 \nL 199.818393 119.719219 \nL 201.342751 119.719219 \nL 201.596811 98.027068 \nL 201.850871 119.719219 \nL 202.61305 119.719219 \nL 202.86711 88.610082 \nL 203.12117 90.656442 \nL 203.37523 119.719219 \nL 204.645529 119.719219 \nL 204.899589 97.013088 \nL 205.153648 119.719219 \nL 205.407708 119.719219 \nL 205.661768 81.578077 \nL 205.915828 119.719219 \nL 207.694246 119.719219 \nL 207.948306 97.480293 \nL 208.202366 96.461565 \nL 208.456426 90.866382 \nL 208.710486 119.719219 \nL 209.218605 119.719219 \nL 209.472665 102.902005 \nL 209.726725 119.719219 \nL 210.742964 119.719219 \nL 210.997024 101.838002 \nL 211.251083 119.719219 \nL 211.505143 119.719219 \nL 211.759203 90.167686 \nL 212.013263 119.719219 \nL 212.267323 119.719219 \nL 212.521382 108.811209 \nL 212.775442 119.719219 \nL 215.82416 119.719219 \nL 216.07822 88.012461 \nL 216.332279 119.719219 \nL 217.094459 119.719219 \nL 217.348519 87.115498 \nL 217.602578 84.789618 \nL 217.856638 119.719219 \nL 218.618818 119.719219 \nL 218.872877 98.238114 \nL 219.126937 119.719219 \nL 221.667535 119.719219 \nL 222.175655 75.495751 \nL 222.429715 119.719219 \nL 223.191894 119.719219 \nL 223.445954 54.48437 \nL 223.954073 119.719219 \nL 225.478432 119.719219 \nL 225.732492 72.77387 \nL 225.986552 85.467277 \nL 226.240611 119.719219 \nL 227.002791 119.719219 \nL 227.256851 70.145891 \nL 227.51091 119.719219 \nL 227.76497 92.307532 \nL 228.01903 101.871367 \nL 228.27309 119.719219 \nL 228.52715 76.052871 \nL 228.781209 64.666095 \nL 229.289329 119.719219 \nL 229.543389 119.719219 \nL 229.797449 82.75876 \nL 230.051508 74.773192 \nL 230.305568 119.719219 \nL 230.813688 119.719219 \nL 231.067748 85.473337 \nL 231.321807 74.257169 \nL 231.575867 85.680157 \nL 231.829927 119.719219 \nL 232.338047 119.719219 \nL 232.592106 60.571481 \nL 233.354286 119.719219 \nL 233.608346 119.719219 \nL 233.862405 98.832971 \nL 234.116465 108.579984 \nL 234.370525 103.954624 \nL 234.624585 111.060304 \nL 234.878645 106.046356 \nL 235.132704 105.562218 \nL 235.386764 119.719219 \nL 236.148944 119.719219 \nL 236.657063 74.932107 \nL 236.911123 119.719219 \nL 237.165183 119.719219 \nL 237.419243 79.589521 \nL 237.673302 119.719219 \nL 238.435482 119.719219 \nL 238.689542 102.016788 \nL 238.943601 101.687765 \nL 239.197661 119.719219 \nL 239.705781 87.181579 \nL 239.959841 119.719219 \nL 240.2139 93.415568 \nL 240.46796 82.922239 \nL 240.72202 83.528702 \nL 240.97608 119.719219 \nL 241.230139 99.634139 \nL 241.484199 105.764549 \nL 241.738259 89.625443 \nL 241.992319 119.719219 \nL 242.500438 119.719219 \nL 242.754498 81.414418 \nL 243.008558 119.719219 \nL 243.516678 119.719219 \nL 243.770737 88.85833 \nL 244.024797 119.719219 \nL 244.786977 119.719219 \nL 245.041036 94.87285 \nL 245.295096 119.719219 \nL 245.803216 119.719219 \nL 246.057276 88.970009 \nL 246.311335 98.453055 \nL 246.565395 119.719219 \nL 246.819455 119.719219 \nL 247.073515 94.411836 \nL 247.327575 95.301175 \nL 247.581634 88.878533 \nL 247.835694 119.719219 \nL 248.089754 92.274137 \nL 248.343814 97.993494 \nL 248.597874 119.719219 \nL 248.851933 97.003366 \nL 249.105993 102.509115 \nL 249.360053 119.719219 \nL 250.122232 119.719219 \nL 250.376292 99.181208 \nL 250.630352 119.719219 \nL 250.884412 119.719219 \nL 251.138472 107.615439 \nL 251.392531 119.719219 \nL 251.900651 119.719219 \nL 252.154711 100.252815 \nL 252.408771 108.140163 \nL 252.66283 119.719219 \nL 254.949369 119.719219 \nL 255.203428 100.142545 \nL 255.457488 119.719219 \nL 255.965608 119.719219 \nL 256.219667 94.174549 \nL 256.473727 119.719219 \nL 256.727787 94.280417 \nL 256.981847 119.719219 \nL 257.235907 95.196014 \nL 257.489966 119.719219 \nL 257.744026 119.719219 \nL 258.252146 87.129375 \nL 258.506206 119.719219 \nL 258.760265 96.019212 \nL 259.014325 119.719219 \nL 259.268385 108.4785 \nL 259.522445 119.719219 \nL 259.776505 98.871614 \nL 260.030564 106.108673 \nL 260.284624 119.719219 \nL 260.792744 119.719219 \nL 261.046804 98.945496 \nL 261.300863 119.719219 \nL 261.554923 82.448972 \nL 262.063043 119.719219 \nL 262.317103 102.08359 \nL 262.571162 119.719219 \nL 263.587402 119.719219 \nL 263.841461 89.94862 \nL 264.095521 119.719219 \nL 264.603641 119.719219 \nL 264.857701 92.466473 \nL 265.11176 78.676898 \nL 265.36582 119.719219 \nL 266.890179 119.719219 \nL 267.144239 94.54843 \nL 267.398299 119.719219 \nL 267.906418 119.719219 \nL 268.160478 99.041341 \nL 268.414538 119.719219 \nL 271.971375 119.719219 \nL 272.225435 77.201304 \nL 272.479494 119.719219 \nL 272.987614 119.719219 \nL 273.241674 90.222155 \nL 273.495734 119.719219 \nL 275.528212 119.719219 \nL 275.782272 108.172384 \nL 276.036332 119.719219 \nL 276.290391 119.719219 \nL 276.544451 104.318598 \nL 276.798511 119.719219 \nL 277.052571 105.564732 \nL 277.306631 119.719219 \nL 277.56069 100.11668 \nL 277.81475 119.719219 \nL 278.06881 103.113068 \nL 278.32287 106.956197 \nL 278.57693 119.719219 \nL 280.101288 119.719219 \nL 280.355348 99.890025 \nL 280.609408 107.369348 \nL 280.863468 119.719219 \nL 287.214963 119.719219 \nL 287.469022 105.957711 \nL 287.723082 119.719219 \nL 288.739321 119.719219 \nL 288.993381 110.228495 \nL 289.247441 119.719219 \nL 290.51774 119.719219 \nL 290.7718 103.237032 \nL 291.02586 119.719219 \nL 292.042099 119.719219 \nL 292.296159 92.876908 \nL 292.550218 119.719219 \nL 293.566458 119.719219 \nL 293.820517 104.797911 \nL 294.074577 119.719219 \nL 295.852996 119.719219 \nL 296.107056 86.856933 \nL 296.361115 119.719219 \nL 300.172012 119.719219 \nL 300.426072 96.330622 \nL 300.680132 119.719219 \nL 301.950431 119.719219 \nL 302.204491 106.301557 \nL 302.45855 119.719219 \nL 306.269447 119.719219 \nL 306.523507 93.696291 \nL 306.777567 119.719219 \nL 307.031627 119.719219 \nL 307.285687 94.790629 \nL 307.539746 119.719219 \nL 308.047866 119.719219 \nL 308.301926 97.849467 \nL 308.555986 119.719219 \nL 308.810045 87.532722 \nL 309.064105 119.719219 \nL 310.588464 119.719219 \nL 311.096584 96.147416 \nL 311.350643 119.719219 \nL 313.129062 119.719219 \nL 313.637182 80.047682 \nL 313.891241 53.32129 \nL 314.145301 66.794878 \nL 314.399361 119.719219 \nL 316.177779 119.719219 \nL 316.431839 80.139121 \nL 316.685899 119.719219 \nL 321.004916 119.719219 \nL 321.513035 85.521487 \nL 321.767095 119.719219 \nL 322.275215 119.719219 \nL 322.529274 69.883792 \nL 322.783334 119.719219 \nL 323.037394 73.544646 \nL 323.291454 119.719219 \nL 323.545514 74.780623 \nL 323.799573 119.719219 \nL 324.053633 52.365738 \nL 324.307693 119.719219 \nL 324.561753 85.572114 \nL 324.815813 69.573198 \nL 325.069872 94.457052 \nL 325.323932 87.769539 \nL 325.577992 119.719219 \nL 325.832052 119.719219 \nL 326.086112 57.507575 \nL 326.340171 119.719219 \nL 326.594231 64.485046 \nL 326.848291 119.719219 \nL 328.11859 119.719219 \nL 328.37265 48.701979 \nL 328.62671 72.963472 \nL 328.880769 119.719219 \nL 330.659188 119.719219 \nL 330.913248 94.378715 \nL 331.167307 119.719219 \nL 332.691666 119.719219 \nL 332.945726 89.495227 \nL 333.199786 119.719219 \nL 333.453846 87.505888 \nL 333.707905 89.180906 \nL 333.961965 119.719219 \nL 334.216025 119.719219 \nL 334.470085 55.313567 \nL 334.724145 119.719219 \nL 336.502563 119.719219 \nL 336.756623 92.954383 \nL 337.010683 79.73036 \nL 337.264743 78.469292 \nL 337.518802 91.622125 \nL 337.772862 119.719219 \nL 338.280982 119.719219 \nL 338.535042 72.08 \nL 338.789101 83.345381 \nL 339.043161 119.719219 \nL 339.297221 78.37968 \nL 339.551281 119.719219 \nL 339.805341 94.451844 \nL 340.0594 119.719219 \nL 340.31346 119.719219 \nL 340.56752 92.994159 \nL 340.82158 119.719219 \nL 341.07564 84.175405 \nL 341.329699 72.944735 \nL 341.583759 119.719219 \nL 342.345939 119.719219 \nL 342.599998 83.583181 \nL 342.854058 97.228779 \nL 343.108118 102.083022 \nL 343.362178 119.719219 \nL 344.886537 119.719219 \nL 345.140596 90.997149 \nL 345.394656 78.574537 \nL 345.648716 119.719219 \nL 350.221792 119.719219 \nL 350.475852 73.651516 \nL 350.729912 119.719219 \nL 351.746151 119.719219 \nL 352.000211 86.699879 \nL 352.254271 119.719219 \nL 352.50833 101.846761 \nL 352.76239 119.719219 \nL 353.27051 119.719219 \nL 353.52457 95.207803 \nL 353.778629 119.719219 \nL 354.286749 119.719219 \nL 354.540809 84.053071 \nL 354.794869 119.719219 \nL 355.811108 119.719219 \nL 356.065168 91.602167 \nL 356.319227 100.751016 \nL 356.573287 119.719219 \nL 363.686961 119.719219 \nL 363.941021 94.578284 \nL 364.195081 111.019605 \nL 364.449141 119.719219 \nL 364.95726 119.719219 \nL 365.21132 99.314584 \nL 365.46538 119.719219 \nL 365.9735 119.719219 \nL 366.227559 106.665673 \nL 366.481619 119.719219 \nL 367.243799 119.719219 \nL 367.497858 99.069561 \nL 367.751918 119.719219 \nL 369.276277 119.719219 \nL 369.530337 97.09871 \nL 369.784397 119.719219 \nL 370.546576 119.719219 \nL 371.054696 110.675789 \nL 371.308755 119.719219 \nL 372.579054 119.719219 \nL 372.833114 110.401389 \nL 373.087174 119.719219 \nL 374.865593 119.719219 \nL 375.119652 113.897215 \nL 375.373712 119.719219 \nL 377.152131 119.719219 \nL 377.152131 119.719219 \n\" style=\"fill:none;stroke:#0000ff;stroke-linecap:square;stroke-width:1.5;\"/>\n   </g>\n   <g id=\"line2d_16\">\n    <path clip-path=\"url(#p042abdb1ee)\" d=\"M 73.042554 109.777735 \nL 73.296614 110.1342 \nL 73.550674 110.269312 \nL 73.804734 112.974305 \nL 74.058793 112.974305 \nL 74.312853 107.55742 \nL 74.566913 112.293284 \nL 74.820973 112.974305 \nL 75.837212 112.974305 \nL 76.091272 104.321997 \nL 76.345331 112.974305 \nL 77.361571 112.974305 \nL 77.61563 105.868112 \nL 77.86969 112.974305 \nL 78.12375 112.974305 \nL 78.37781 103.330473 \nL 78.63187 112.974305 \nL 79.902169 112.974305 \nL 80.156228 108.327603 \nL 80.410288 112.974305 \nL 82.188707 112.974305 \nL 82.442767 110.11402 \nL 82.696826 112.974305 \nL 84.729305 112.974305 \nL 84.983365 111.393978 \nL 85.237424 112.974305 \nL 86.253664 112.974305 \nL 86.507723 109.037796 \nL 86.761783 112.974305 \nL 88.032082 112.974305 \nL 88.286142 108.146863 \nL 88.540202 112.974305 \nL 91.0808 112.974305 \nL 91.334859 111.796774 \nL 91.588919 112.974305 \nL 94.383577 112.974305 \nL 94.637637 111.114904 \nL 94.891697 112.974305 \nL 95.145756 112.974305 \nL 95.399816 111.205712 \nL 95.653876 112.974305 \nL 100.226952 112.974305 \nL 100.481012 111.186708 \nL 100.735072 112.974305 \nL 100.989132 112.974305 \nL 101.243192 110.114525 \nL 101.497251 112.974305 \nL 103.27567 112.974305 \nL 103.52973 111.041027 \nL 103.78379 112.974305 \nL 106.324387 112.974305 \nL 106.832507 108.432862 \nL 107.086567 112.974305 \nL 110.389344 112.974305 \nL 110.643404 108.918949 \nL 110.897464 112.974305 \nL 111.913703 112.974305 \nL 112.167763 101.616138 \nL 112.421823 112.974305 \nL 113.946181 112.974305 \nL 114.200241 109.857281 \nL 114.454301 112.974305 \nL 114.708361 112.974305 \nL 114.962421 107.41558 \nL 115.21648 112.974305 \nL 115.7246 112.974305 \nL 115.97866 108.996527 \nL 116.23272 102.562353 \nL 116.486779 112.974305 \nL 117.503019 112.974305 \nL 117.757078 109.153534 \nL 118.011138 112.974305 \nL 118.519258 112.974305 \nL 118.773318 107.896589 \nL 119.027377 108.269951 \nL 119.281437 112.974305 \nL 119.535497 106.699508 \nL 119.789557 107.119101 \nL 120.297676 112.974305 \nL 120.551736 112.974305 \nL 120.805796 108.712019 \nL 121.059856 112.974305 \nL 121.822035 112.974305 \nL 122.076095 111.210119 \nL 122.330155 112.974305 \nL 122.584214 110.582464 \nL 122.838274 112.974305 \nL 123.092334 112.974305 \nL 123.346394 108.756556 \nL 123.600454 112.974305 \nL 125.124812 112.974305 \nL 125.378872 105.651426 \nL 125.632932 112.974305 \nL 126.903231 112.974305 \nL 127.157291 109.308527 \nL 127.411351 108.997514 \nL 127.66541 109.578019 \nL 127.91947 112.974305 \nL 128.17353 112.974305 \nL 128.42759 107.696286 \nL 128.68165 106.686085 \nL 128.935709 112.974305 \nL 129.443829 112.974305 \nL 129.697889 109.697829 \nL 129.951949 112.974305 \nL 130.206008 112.974305 \nL 130.460068 104.799492 \nL 130.714128 112.974305 \nL 131.222248 112.974305 \nL 131.476307 109.456204 \nL 131.730367 112.974305 \nL 136.303443 112.974305 \nL 136.557503 109.969051 \nL 136.811563 111.385094 \nL 137.065623 109.145976 \nL 137.319683 112.974305 \nL 137.573742 104.242275 \nL 137.827802 110.111362 \nL 138.081862 112.974305 \nL 138.335922 112.974305 \nL 138.589982 108.922556 \nL 138.844041 112.974305 \nL 139.098101 112.974305 \nL 139.352161 108.633963 \nL 139.606221 112.974305 \nL 139.860281 108.383947 \nL 140.11434 112.974305 \nL 140.3684 112.974305 \nL 140.62246 106.192935 \nL 140.87652 107.766314 \nL 141.13058 106.17823 \nL 141.384639 107.838828 \nL 141.638699 104.930271 \nL 141.892759 112.974305 \nL 142.146819 101.768902 \nL 142.654938 112.974305 \nL 142.908998 107.634486 \nL 143.163058 112.974305 \nL 145.449596 112.974305 \nL 145.703656 110.281011 \nL 145.957716 110.131944 \nL 146.211776 111.113116 \nL 146.465835 109.248148 \nL 146.719895 109.283235 \nL 146.973955 109.719333 \nL 147.228015 107.721902 \nL 147.482075 112.974305 \nL 147.736134 110.402689 \nL 147.990194 112.974305 \nL 148.244254 110.984767 \nL 148.498314 112.974305 \nL 149.006433 112.974305 \nL 149.260493 109.172844 \nL 149.768613 112.974305 \nL 150.022672 107.522167 \nL 150.276732 108.225757 \nL 150.530792 107.800201 \nL 150.784852 112.974305 \nL 151.038912 110.744126 \nL 151.547031 107.957827 \nL 151.801091 109.185241 \nL 152.055151 107.206715 \nL 152.309211 109.958788 \nL 152.56327 108.366487 \nL 152.81733 109.815934 \nL 153.07139 104.361248 \nL 153.32545 112.974305 \nL 153.57951 108.953161 \nL 153.833569 112.974305 \nL 154.087629 101.796831 \nL 154.341689 105.77772 \nL 154.595749 112.974305 \nL 154.849809 109.801115 \nL 155.103868 110.031393 \nL 155.357928 112.974305 \nL 156.628227 112.974305 \nL 156.882287 109.883807 \nL 157.136347 109.253478 \nL 157.390407 112.974305 \nL 158.406646 112.974305 \nL 158.660706 108.018323 \nL 158.914765 112.974305 \nL 160.439124 112.974305 \nL 160.693184 109.816146 \nL 160.947244 112.974305 \nL 161.201304 112.974305 \nL 161.455363 109.687785 \nL 161.709423 110.606282 \nL 161.963483 112.974305 \nL 162.725662 112.974305 \nL 162.979722 109.098434 \nL 163.233782 112.974305 \nL 163.487842 112.974305 \nL 163.741902 109.894679 \nL 163.995961 108.52849 \nL 164.250021 112.974305 \nL 164.758141 112.974305 \nL 165.0122 109.286941 \nL 165.26626 112.974305 \nL 166.536559 112.974305 \nL 166.790619 109.771338 \nL 167.044679 110.090503 \nL 167.298739 112.974305 \nL 169.331217 112.974305 \nL 169.585277 110.399497 \nL 169.839337 112.974305 \nL 172.633994 112.974305 \nL 172.888054 109.4049 \nL 173.142114 112.974305 \nL 173.396174 99.319849 \nL 173.650234 107.270847 \nL 173.904293 107.030078 \nL 174.158353 112.974305 \nL 174.412413 112.974305 \nL 174.666473 106.801835 \nL 174.920533 112.974305 \nL 175.174592 110.606765 \nL 175.428652 112.974305 \nL 175.682712 112.974305 \nL 175.936772 110.991629 \nL 176.190832 112.974305 \nL 176.698951 108.594058 \nL 176.953011 109.817658 \nL 177.207071 112.974305 \nL 178.22331 112.974305 \nL 178.47737 109.938185 \nL 178.73143 112.974305 \nL 179.239549 112.974305 \nL 179.493609 109.978136 \nL 179.747669 112.974305 \nL 182.034207 112.974305 \nL 182.288267 109.341633 \nL 182.542326 112.974305 \nL 186.099164 112.974305 \nL 186.353223 110.847577 \nL 186.607283 112.974305 \nL 187.115403 112.974305 \nL 187.369463 109.707062 \nL 187.623522 112.974305 \nL 187.877582 112.974305 \nL 188.131642 110.547253 \nL 188.385702 112.974305 \nL 198.294034 112.974305 \nL 198.548094 111.18361 \nL 198.802153 112.974305 \nL 199.564333 112.974305 \nL 199.818393 111.112847 \nL 200.072452 112.974305 \nL 201.596811 112.974305 \nL 201.850871 109.723773 \nL 202.104931 112.974305 \nL 202.86711 112.974305 \nL 203.12117 108.02297 \nL 203.37523 108.40682 \nL 203.62929 112.974305 \nL 204.899589 112.974305 \nL 205.153648 109.548799 \nL 205.407708 112.974305 \nL 205.661768 112.974305 \nL 205.915828 106.646003 \nL 206.169888 112.974305 \nL 207.948306 112.974305 \nL 208.202366 109.62967 \nL 208.456426 109.452787 \nL 208.710486 108.445759 \nL 208.964545 112.974305 \nL 209.472665 112.974305 \nL 209.726725 110.536793 \nL 209.980784 112.974305 \nL 210.997024 112.974305 \nL 211.251083 110.363355 \nL 211.505143 112.974305 \nL 211.759203 112.974305 \nL 212.013263 108.315847 \nL 212.267323 112.974305 \nL 212.521382 112.974305 \nL 212.775442 111.458716 \nL 213.029502 112.974305 \nL 216.07822 112.974305 \nL 216.332279 107.909412 \nL 216.586339 112.974305 \nL 217.348519 112.974305 \nL 217.602578 107.737746 \nL 217.856638 107.285818 \nL 218.110698 112.974305 \nL 218.872877 112.974305 \nL 219.126937 109.759939 \nL 219.380997 112.974305 \nL 221.921595 112.974305 \nL 222.429715 105.385917 \nL 222.683774 112.974305 \nL 223.445954 112.974305 \nL 223.700014 100.60424 \nL 224.208133 112.974305 \nL 225.732492 112.974305 \nL 225.986552 104.802415 \nL 226.240611 107.418493 \nL 226.494671 112.974305 \nL 227.256851 112.974305 \nL 227.51091 104.228084 \nL 227.76497 112.974305 \nL 228.01903 108.710827 \nL 228.27309 110.368829 \nL 228.52715 112.974305 \nL 228.781209 105.503885 \nL 229.035269 102.997577 \nL 229.543389 112.974305 \nL 229.797449 112.974305 \nL 230.051508 106.883325 \nL 230.305568 105.232167 \nL 230.559628 112.974305 \nL 231.067748 112.974305 \nL 231.321807 107.419677 \nL 231.575867 105.121855 \nL 231.829927 107.460003 \nL 232.083987 112.974305 \nL 232.592106 112.974305 \nL 232.846166 102.050869 \nL 233.354286 109.146373 \nL 233.608346 112.974305 \nL 233.862405 112.974305 \nL 234.116465 109.861408 \nL 234.370525 111.423966 \nL 234.624585 110.706152 \nL 234.878645 111.791062 \nL 235.132704 111.03611 \nL 235.386764 110.960522 \nL 235.640824 112.974305 \nL 236.403003 112.974305 \nL 236.911123 105.266055 \nL 237.165183 112.974305 \nL 237.419243 112.974305 \nL 237.673302 106.240867 \nL 237.927362 112.974305 \nL 238.689542 112.974305 \nL 238.943601 110.392656 \nL 239.197661 110.338685 \nL 239.451721 112.974305 \nL 239.959841 107.750442 \nL 240.2139 112.974305 \nL 240.46796 108.91196 \nL 240.72202 106.915994 \nL 240.97608 107.036774 \nL 241.230139 112.974305 \nL 241.484199 109.996973 \nL 241.738259 110.992169 \nL 241.992319 108.214399 \nL 242.246379 112.974305 \nL 242.754498 112.974305 \nL 243.008558 106.612917 \nL 243.262618 112.974305 \nL 243.770737 112.974305 \nL 244.024797 108.069949 \nL 244.278857 112.974305 \nL 245.041036 112.974305 \nL 245.295096 109.172929 \nL 245.549156 112.974305 \nL 246.057276 112.974305 \nL 246.311335 108.091046 \nL 246.565395 109.796683 \nL 246.819455 112.974305 \nL 247.073515 112.974305 \nL 247.327575 109.090811 \nL 247.581634 109.248859 \nL 247.835694 108.073767 \nL 248.089754 112.974305 \nL 248.343814 108.704729 \nL 248.597874 109.718011 \nL 248.851933 112.974305 \nL 249.105993 109.547111 \nL 249.360053 110.473012 \nL 249.614113 112.974305 \nL 250.376292 112.974305 \nL 250.630352 109.920488 \nL 250.884412 112.974305 \nL 251.138472 112.974305 \nL 251.392531 111.27784 \nL 251.646591 112.974305 \nL 252.154711 112.974305 \nL 252.408771 110.100795 \nL 252.91689 112.974305 \nL 255.203428 112.974305 \nL 255.457488 110.082346 \nL 255.711548 112.974305 \nL 256.219667 112.974305 \nL 256.473727 109.048385 \nL 256.727787 112.974305 \nL 256.981847 109.067326 \nL 257.235907 112.974305 \nL 257.489966 109.230251 \nL 257.744026 112.974305 \nL 257.998086 112.974305 \nL 258.252146 110.949247 \nL 258.506206 107.740411 \nL 258.760265 112.974305 \nL 259.014325 109.375354 \nL 259.268385 112.974305 \nL 259.522445 111.408679 \nL 259.776505 112.974305 \nL 260.030564 109.867976 \nL 260.284624 111.045805 \nL 260.538684 112.974305 \nL 261.046804 112.974305 \nL 261.300863 109.880524 \nL 261.554923 112.974305 \nL 261.808983 106.821292 \nL 262.317103 112.974305 \nL 262.571162 110.403588 \nL 262.825222 112.974305 \nL 263.841461 112.974305 \nL 264.095521 108.274926 \nL 264.349581 112.974305 \nL 264.857701 112.974305 \nL 265.36582 106.052685 \nL 265.61988 112.974305 \nL 267.144239 112.974305 \nL 267.398299 109.115185 \nL 267.652358 112.974305 \nL 268.160478 112.974305 \nL 268.414538 109.896788 \nL 268.668598 112.974305 \nL 272.225435 112.974305 \nL 272.479494 105.74547 \nL 272.733554 112.974305 \nL 273.241674 112.974305 \nL 273.495734 108.326007 \nL 273.749793 112.974305 \nL 275.782272 112.974305 \nL 276.036332 111.362445 \nL 276.290391 112.974305 \nL 276.544451 112.974305 \nL 276.798511 110.764198 \nL 277.052571 112.974305 \nL 277.306631 110.960915 \nL 277.56069 112.974305 \nL 277.81475 110.078014 \nL 278.06881 112.974305 \nL 278.32287 110.570929 \nL 278.57693 111.176884 \nL 278.830989 112.974305 \nL 280.355348 112.974305 \nL 280.609408 110.040005 \nL 281.117528 112.974305 \nL 287.469022 112.974305 \nL 287.723082 111.022305 \nL 287.977142 112.974305 \nL 288.993381 112.974305 \nL 289.247441 111.669344 \nL 289.501501 112.974305 \nL 290.7718 112.974305 \nL 291.02586 110.590936 \nL 291.279919 112.974305 \nL 292.296159 112.974305 \nL 292.550218 108.814473 \nL 292.804278 112.974305 \nL 293.820517 112.974305 \nL 294.074577 110.840233 \nL 294.328637 112.974305 \nL 296.107056 112.974305 \nL 296.361115 107.687988 \nL 296.615175 112.974305 \nL 300.426072 112.974305 \nL 300.680132 109.429906 \nL 300.934192 112.974305 \nL 302.204491 112.974305 \nL 302.45855 111.075763 \nL 302.71261 112.974305 \nL 306.523507 112.974305 \nL 306.777567 108.962548 \nL 307.031627 112.974305 \nL 307.285687 112.974305 \nL 307.539746 109.158313 \nL 307.793806 112.974305 \nL 308.301926 112.974305 \nL 308.555986 109.693271 \nL 308.810045 112.974305 \nL 309.064105 107.817779 \nL 309.318165 112.974305 \nL 310.842524 112.974305 \nL 311.350643 109.397836 \nL 311.604703 112.974305 \nL 313.383122 112.974305 \nL 313.891241 106.334807 \nL 314.145301 100.322886 \nL 314.399361 103.480733 \nL 314.653421 112.974305 \nL 316.431839 112.974305 \nL 316.685899 106.353514 \nL 316.939959 112.974305 \nL 321.258975 112.974305 \nL 321.767095 107.429072 \nL 322.021155 112.974305 \nL 322.529274 112.974305 \nL 322.783334 104.170226 \nL 323.037394 112.974305 \nL 323.291454 104.968842 \nL 323.545514 112.974305 \nL 323.799573 105.233754 \nL 324.053633 112.974305 \nL 324.307693 100.090619 \nL 324.561753 112.974305 \nL 325.069872 104.101533 \nL 325.323932 109.098882 \nL 325.577992 107.863065 \nL 325.832052 112.974305 \nL 326.086112 112.974305 \nL 326.340171 101.32831 \nL 326.594231 112.974305 \nL 326.848291 102.956195 \nL 327.102351 112.974305 \nL 328.37265 112.974305 \nL 328.62671 99.191134 \nL 328.880769 104.843442 \nL 329.134829 112.974305 \nL 330.913248 112.974305 \nL 331.167307 109.084896 \nL 331.421367 112.974305 \nL 332.945726 112.974305 \nL 333.199786 108.189955 \nL 333.453846 112.974305 \nL 333.707905 107.81264 \nL 333.961965 108.130822 \nL 334.216025 112.974305 \nL 334.470085 112.974305 \nL 334.724145 100.803895 \nL 334.978204 112.974305 \nL 336.756623 112.974305 \nL 337.264743 106.269782 \nL 337.518802 106.00968 \nL 337.772862 108.58525 \nL 338.026922 112.974305 \nL 338.535042 112.974305 \nL 338.789101 104.651806 \nL 339.043161 107.000333 \nL 339.297221 112.974305 \nL 339.551281 105.991096 \nL 339.805341 112.974305 \nL 340.0594 109.097952 \nL 340.31346 112.974305 \nL 340.56752 112.974305 \nL 340.82158 108.83574 \nL 341.07564 112.974305 \nL 341.329699 107.164858 \nL 341.583759 104.839391 \nL 341.837819 112.974305 \nL 342.599998 112.974305 \nL 342.854058 107.047594 \nL 343.108118 109.586187 \nL 343.362178 110.403494 \nL 343.616238 112.974305 \nL 345.140596 112.974305 \nL 345.394656 108.469971 \nL 345.648716 106.03149 \nL 345.902776 112.974305 \nL 346.410895 112.974305 \nL 346.410895 112.974305 \n\" style=\"fill:none;stroke:#bfbf00;stroke-linecap:square;stroke-width:1.5;\"/>\n   </g>\n   <g id=\"line2d_17\">\n    <path clip-path=\"url(#p042abdb1ee)\" d=\"M 72.788494 119.719219 \nL 73.042554 119.719219 \nL 73.296614 119.719219 \nL 73.550674 119.719219 \nL 73.804734 119.719219 \nL 74.058793 119.719219 \nL 74.312853 119.719219 \nL 74.566913 119.719219 \nL 74.820973 119.719219 \nL 75.075032 119.719219 \nL 75.329092 119.719219 \nL 75.583152 119.719219 \nL 75.837212 119.719219 \nL 76.091272 119.710191 \nL 76.345331 119.719219 \nL 76.599391 119.719219 \nL 76.853451 119.719219 \nL 77.107511 119.719219 \nL 77.361571 119.719219 \nL 77.61563 119.712748 \nL 77.86969 119.719219 \nL 78.12375 119.715716 \nL 78.37781 119.719219 \nL 78.63187 119.719219 \nL 78.885929 119.719219 \nL 79.139989 119.714415 \nL 79.394049 119.719219 \nL 79.648109 119.719219 \nL 79.902169 119.719219 \nL 80.156228 119.712229 \nL 80.410288 119.719219 \nL 80.664348 119.719219 \nL 80.918408 119.719219 \nL 81.172468 119.719219 \nL 81.426527 119.719219 \nL 81.680587 119.713709 \nL 81.934647 119.715502 \nL 82.188707 119.719219 \nL 82.442767 119.719219 \nL 82.696826 119.719219 \nL 82.950886 119.719219 \nL 83.204946 119.719219 \nL 83.459006 119.719219 \nL 83.713066 119.719219 \nL 83.967125 119.719219 \nL 84.221185 119.719219 \nL 84.475245 119.719219 \nL 84.729305 119.719219 \nL 84.983365 119.719219 \nL 85.237424 119.719219 \nL 85.491484 119.719219 \nL 85.745544 119.719219 \nL 85.999604 119.719219 \nL 86.253664 119.719219 \nL 86.507723 119.719219 \nL 86.761783 119.719219 \nL 87.015843 119.719219 \nL 87.269903 119.719219 \nL 87.523963 119.719219 \nL 87.778022 119.719219 \nL 88.032082 119.719219 \nL 88.286142 119.719219 \nL 88.540202 119.719219 \nL 88.794262 119.719219 \nL 89.048321 119.719219 \nL 89.302381 119.719219 \nL 89.556441 119.714292 \nL 89.810501 119.717514 \nL 90.06456 119.719219 \nL 90.31862 119.719219 \nL 90.57268 119.719219 \nL 90.82674 119.71522 \nL 91.0808 119.719219 \nL 91.334859 119.719219 \nL 91.588919 119.719219 \nL 91.842979 119.716661 \nL 92.097039 119.719219 \nL 92.351099 119.719219 \nL 92.605158 119.719219 \nL 92.859218 119.719219 \nL 93.113278 119.715172 \nL 93.367338 119.719219 \nL 93.621398 119.719219 \nL 93.875457 119.719219 \nL 94.129517 119.719219 \nL 94.383577 119.719219 \nL 94.637637 119.719219 \nL 94.891697 119.719219 \nL 95.145756 119.714786 \nL 95.399816 119.719219 \nL 95.653876 119.719219 \nL 95.907936 119.719219 \nL 96.161996 119.719219 \nL 96.416055 119.71815 \nL 96.670115 119.717447 \nL 96.924175 119.719219 \nL 97.178235 119.719219 \nL 97.432295 119.719219 \nL 97.686354 119.719219 \nL 97.940414 119.719219 \nL 98.194474 119.719219 \nL 98.448534 119.717393 \nL 98.702594 119.719219 \nL 98.956653 119.719219 \nL 99.210713 119.719219 \nL 99.464773 119.719219 \nL 99.718833 119.719219 \nL 99.972893 119.719219 \nL 100.226952 119.719219 \nL 100.481012 119.719219 \nL 100.735072 119.718078 \nL 100.989132 119.719219 \nL 101.243192 119.719219 \nL 101.497251 119.719219 \nL 101.751311 119.719219 \nL 102.005371 119.719219 \nL 102.259431 119.719219 \nL 102.513491 119.719219 \n\" style=\"fill:none;stroke:#0000ff;stroke-linecap:square;stroke-width:1.5;\"/>\n   </g>\n   <g id=\"line2d_18\">\n    <path clip-path=\"url(#p042abdb1ee)\" d=\"M 347.173075 112.974305 \nL 350.475852 112.974305 \nL 350.729912 104.991842 \nL 350.983972 112.974305 \nL 352.000211 112.974305 \nL 352.254271 107.657705 \nL 352.50833 112.974305 \nL 352.76239 110.364792 \nL 353.01645 112.974305 \nL 353.52457 112.974305 \nL 353.778629 109.232338 \nL 354.032689 112.974305 \nL 354.540809 112.974305 \nL 354.794869 107.140685 \nL 355.048928 112.974305 \nL 356.065168 112.974305 \nL 356.319227 108.58158 \nL 356.573287 110.183849 \nL 356.827347 112.974305 \nL 363.941021 112.974305 \nL 364.195081 109.120506 \nL 364.449141 111.785139 \nL 364.703201 112.974305 \nL 365.21132 112.974305 \nL 365.46538 109.943054 \nL 365.71944 112.974305 \nL 366.227559 112.974305 \nL 366.481619 111.132113 \nL 366.735679 112.974305 \nL 367.497858 112.974305 \nL 367.751918 109.901573 \nL 368.005978 112.974305 \nL 369.530337 112.974305 \nL 369.784397 109.563651 \nL 370.038456 112.974305 \nL 370.800636 112.974305 \nL 371.308755 111.734971 \nL 371.562815 112.974305 \nL 372.833114 112.974305 \nL 373.087174 111.694759 \nL 373.341234 112.974305 \nL 375.119652 112.974305 \nL 375.373712 112.195585 \nL 375.627772 112.974305 \nL 376.898071 112.974305 \nL 376.898071 112.974305 \n\" style=\"fill:none;stroke:#008000;stroke-linecap:square;stroke-width:1.5;\"/>\n   </g>\n   <g id=\"patch_3\">\n    <path d=\"M 57.570313 228.439219 \nL 57.570313 10.999219 \n\" style=\"fill:none;stroke:#000000;stroke-linecap:square;stroke-linejoin:miter;stroke-width:0.8;\"/>\n   </g>\n   <g id=\"patch_4\">\n    <path d=\"M 392.370313 228.439219 \nL 392.370313 10.999219 \n\" style=\"fill:none;stroke:#000000;stroke-linecap:square;stroke-linejoin:miter;stroke-width:0.8;\"/>\n   </g>\n   <g id=\"patch_5\">\n    <path d=\"M 57.570312 228.439219 \nL 392.370312 228.439219 \n\" style=\"fill:none;stroke:#000000;stroke-linecap:square;stroke-linejoin:miter;stroke-width:0.8;\"/>\n   </g>\n   <g id=\"patch_6\">\n    <path d=\"M 57.570312 10.999219 \nL 392.370312 10.999219 \n\" style=\"fill:none;stroke:#000000;stroke-linecap:square;stroke-linejoin:miter;stroke-width:0.8;\"/>\n   </g>\n   <g id=\"legend_1\">\n    <g id=\"patch_7\">\n     <path d=\"M 64.570312 223.439219 \nL 146.471875 223.439219 \nQ 148.471875 223.439219 148.471875 221.439219 \nL 148.471875 163.726719 \nQ 148.471875 161.726719 146.471875 161.726719 \nL 64.570312 161.726719 \nQ 62.570312 161.726719 62.570312 163.726719 \nL 62.570312 221.439219 \nQ 62.570312 223.439219 64.570312 223.439219 \nz\n\" style=\"fill:#ffffff;opacity:0.8;stroke:#cccccc;stroke-linejoin:miter;\"/>\n    </g>\n    <g id=\"line2d_19\">\n     <path d=\"M 66.570312 169.825156 \nL 86.570312 169.825156 \n\" style=\"fill:none;stroke:#0000ff;stroke-linecap:square;stroke-width:1.5;\"/>\n    </g>\n    <g id=\"line2d_20\"/>\n    <g id=\"text_15\">\n     <!-- Actual -->\n     <g transform=\"translate(94.570312 173.325156)scale(0.1 -0.1)\">\n      <defs>\n       <path d=\"M 34.1875 63.1875 \nL 20.796875 26.90625 \nL 47.609375 26.90625 \nz\nM 28.609375 72.90625 \nL 39.796875 72.90625 \nL 67.578125 0 \nL 57.328125 0 \nL 50.6875 18.703125 \nL 17.828125 18.703125 \nL 11.1875 0 \nL 0.78125 0 \nz\n\" id=\"DejaVuSans-65\"/>\n       <path d=\"M 48.78125 52.59375 \nL 48.78125 44.1875 \nQ 44.96875 46.296875 41.140625 47.34375 \nQ 37.3125 48.390625 33.40625 48.390625 \nQ 24.65625 48.390625 19.8125 42.84375 \nQ 14.984375 37.3125 14.984375 27.296875 \nQ 14.984375 17.28125 19.8125 11.734375 \nQ 24.65625 6.203125 33.40625 6.203125 \nQ 37.3125 6.203125 41.140625 7.25 \nQ 44.96875 8.296875 48.78125 10.40625 \nL 48.78125 2.09375 \nQ 45.015625 0.34375 40.984375 -0.53125 \nQ 36.96875 -1.421875 32.421875 -1.421875 \nQ 20.0625 -1.421875 12.78125 6.34375 \nQ 5.515625 14.109375 5.515625 27.296875 \nQ 5.515625 40.671875 12.859375 48.328125 \nQ 20.21875 56 33.015625 56 \nQ 37.15625 56 41.109375 55.140625 \nQ 45.0625 54.296875 48.78125 52.59375 \nz\n\" id=\"DejaVuSans-99\"/>\n       <path d=\"M 18.3125 70.21875 \nL 18.3125 54.6875 \nL 36.8125 54.6875 \nL 36.8125 47.703125 \nL 18.3125 47.703125 \nL 18.3125 18.015625 \nQ 18.3125 11.328125 20.140625 9.421875 \nQ 21.96875 7.515625 27.59375 7.515625 \nL 36.8125 7.515625 \nL 36.8125 0 \nL 27.59375 0 \nQ 17.1875 0 13.234375 3.875 \nQ 9.28125 7.765625 9.28125 18.015625 \nL 9.28125 47.703125 \nL 2.6875 47.703125 \nL 2.6875 54.6875 \nL 9.28125 54.6875 \nL 9.28125 70.21875 \nz\n\" id=\"DejaVuSans-116\"/>\n       <path d=\"M 8.5 21.578125 \nL 8.5 54.6875 \nL 17.484375 54.6875 \nL 17.484375 21.921875 \nQ 17.484375 14.15625 20.5 10.265625 \nQ 23.53125 6.390625 29.59375 6.390625 \nQ 36.859375 6.390625 41.078125 11.03125 \nQ 45.3125 15.671875 45.3125 23.6875 \nL 45.3125 54.6875 \nL 54.296875 54.6875 \nL 54.296875 0 \nL 45.3125 0 \nL 45.3125 8.40625 \nQ 42.046875 3.421875 37.71875 1 \nQ 33.40625 -1.421875 27.6875 -1.421875 \nQ 18.265625 -1.421875 13.375 4.4375 \nQ 8.5 10.296875 8.5 21.578125 \nz\nM 31.109375 56 \nz\n\" id=\"DejaVuSans-117\"/>\n       <path d=\"M 34.28125 27.484375 \nQ 23.390625 27.484375 19.1875 25 \nQ 14.984375 22.515625 14.984375 16.5 \nQ 14.984375 11.71875 18.140625 8.90625 \nQ 21.296875 6.109375 26.703125 6.109375 \nQ 34.1875 6.109375 38.703125 11.40625 \nQ 43.21875 16.703125 43.21875 25.484375 \nL 43.21875 27.484375 \nz\nM 52.203125 31.203125 \nL 52.203125 0 \nL 43.21875 0 \nL 43.21875 8.296875 \nQ 40.140625 3.328125 35.546875 0.953125 \nQ 30.953125 -1.421875 24.3125 -1.421875 \nQ 15.921875 -1.421875 10.953125 3.296875 \nQ 6 8.015625 6 15.921875 \nQ 6 25.140625 12.171875 29.828125 \nQ 18.359375 34.515625 30.609375 34.515625 \nL 43.21875 34.515625 \nL 43.21875 35.40625 \nQ 43.21875 41.609375 39.140625 45 \nQ 35.0625 48.390625 27.6875 48.390625 \nQ 23 48.390625 18.546875 47.265625 \nQ 14.109375 46.140625 10.015625 43.890625 \nL 10.015625 52.203125 \nQ 14.9375 54.109375 19.578125 55.046875 \nQ 24.21875 56 28.609375 56 \nQ 40.484375 56 46.34375 49.84375 \nQ 52.203125 43.703125 52.203125 31.203125 \nz\n\" id=\"DejaVuSans-97\"/>\n       <path d=\"M 9.421875 75.984375 \nL 18.40625 75.984375 \nL 18.40625 0 \nL 9.421875 0 \nz\n\" id=\"DejaVuSans-108\"/>\n      </defs>\n      <use xlink:href=\"#DejaVuSans-65\"/>\n      <use x=\"66.658203\" xlink:href=\"#DejaVuSans-99\"/>\n      <use x=\"121.638672\" xlink:href=\"#DejaVuSans-116\"/>\n      <use x=\"160.847656\" xlink:href=\"#DejaVuSans-117\"/>\n      <use x=\"224.226562\" xlink:href=\"#DejaVuSans-97\"/>\n      <use x=\"285.505859\" xlink:href=\"#DejaVuSans-108\"/>\n     </g>\n    </g>\n    <g id=\"line2d_21\">\n     <path d=\"M 66.570312 184.503281 \nL 86.570312 184.503281 \n\" style=\"fill:none;stroke:#bfbf00;stroke-linecap:square;stroke-width:1.5;\"/>\n    </g>\n    <g id=\"line2d_22\"/>\n    <g id=\"text_16\">\n     <!-- Train pred -->\n     <g transform=\"translate(94.570312 188.003281)scale(0.1 -0.1)\">\n      <defs>\n       <path d=\"M -0.296875 72.90625 \nL 61.375 72.90625 \nL 61.375 64.59375 \nL 35.5 64.59375 \nL 35.5 0 \nL 25.59375 0 \nL 25.59375 64.59375 \nL -0.296875 64.59375 \nz\n\" id=\"DejaVuSans-84\"/>\n       <path d=\"M 41.109375 46.296875 \nQ 39.59375 47.171875 37.8125 47.578125 \nQ 36.03125 48 33.890625 48 \nQ 26.265625 48 22.1875 43.046875 \nQ 18.109375 38.09375 18.109375 28.8125 \nL 18.109375 0 \nL 9.078125 0 \nL 9.078125 54.6875 \nL 18.109375 54.6875 \nL 18.109375 46.1875 \nQ 20.953125 51.171875 25.484375 53.578125 \nQ 30.03125 56 36.53125 56 \nQ 37.453125 56 38.578125 55.875 \nQ 39.703125 55.765625 41.0625 55.515625 \nz\n\" id=\"DejaVuSans-114\"/>\n       <path d=\"M 9.421875 54.6875 \nL 18.40625 54.6875 \nL 18.40625 0 \nL 9.421875 0 \nz\nM 9.421875 75.984375 \nL 18.40625 75.984375 \nL 18.40625 64.59375 \nL 9.421875 64.59375 \nz\n\" id=\"DejaVuSans-105\"/>\n       <path d=\"M 54.890625 33.015625 \nL 54.890625 0 \nL 45.90625 0 \nL 45.90625 32.71875 \nQ 45.90625 40.484375 42.875 44.328125 \nQ 39.84375 48.1875 33.796875 48.1875 \nQ 26.515625 48.1875 22.3125 43.546875 \nQ 18.109375 38.921875 18.109375 30.90625 \nL 18.109375 0 \nL 9.078125 0 \nL 9.078125 54.6875 \nL 18.109375 54.6875 \nL 18.109375 46.1875 \nQ 21.34375 51.125 25.703125 53.5625 \nQ 30.078125 56 35.796875 56 \nQ 45.21875 56 50.046875 50.171875 \nQ 54.890625 44.34375 54.890625 33.015625 \nz\n\" id=\"DejaVuSans-110\"/>\n       <path id=\"DejaVuSans-32\"/>\n       <path d=\"M 18.109375 8.203125 \nL 18.109375 -20.796875 \nL 9.078125 -20.796875 \nL 9.078125 54.6875 \nL 18.109375 54.6875 \nL 18.109375 46.390625 \nQ 20.953125 51.265625 25.265625 53.625 \nQ 29.59375 56 35.59375 56 \nQ 45.5625 56 51.78125 48.09375 \nQ 58.015625 40.1875 58.015625 27.296875 \nQ 58.015625 14.40625 51.78125 6.484375 \nQ 45.5625 -1.421875 35.59375 -1.421875 \nQ 29.59375 -1.421875 25.265625 0.953125 \nQ 20.953125 3.328125 18.109375 8.203125 \nz\nM 48.6875 27.296875 \nQ 48.6875 37.203125 44.609375 42.84375 \nQ 40.53125 48.484375 33.40625 48.484375 \nQ 26.265625 48.484375 22.1875 42.84375 \nQ 18.109375 37.203125 18.109375 27.296875 \nQ 18.109375 17.390625 22.1875 11.75 \nQ 26.265625 6.109375 33.40625 6.109375 \nQ 40.53125 6.109375 44.609375 11.75 \nQ 48.6875 17.390625 48.6875 27.296875 \nz\n\" id=\"DejaVuSans-112\"/>\n       <path d=\"M 56.203125 29.59375 \nL 56.203125 25.203125 \nL 14.890625 25.203125 \nQ 15.484375 15.921875 20.484375 11.0625 \nQ 25.484375 6.203125 34.421875 6.203125 \nQ 39.59375 6.203125 44.453125 7.46875 \nQ 49.3125 8.734375 54.109375 11.28125 \nL 54.109375 2.78125 \nQ 49.265625 0.734375 44.1875 -0.34375 \nQ 39.109375 -1.421875 33.890625 -1.421875 \nQ 20.796875 -1.421875 13.15625 6.1875 \nQ 5.515625 13.8125 5.515625 26.8125 \nQ 5.515625 40.234375 12.765625 48.109375 \nQ 20.015625 56 32.328125 56 \nQ 43.359375 56 49.78125 48.890625 \nQ 56.203125 41.796875 56.203125 29.59375 \nz\nM 47.21875 32.234375 \nQ 47.125 39.59375 43.09375 43.984375 \nQ 39.0625 48.390625 32.421875 48.390625 \nQ 24.90625 48.390625 20.390625 44.140625 \nQ 15.875 39.890625 15.1875 32.171875 \nz\n\" id=\"DejaVuSans-101\"/>\n       <path d=\"M 45.40625 46.390625 \nL 45.40625 75.984375 \nL 54.390625 75.984375 \nL 54.390625 0 \nL 45.40625 0 \nL 45.40625 8.203125 \nQ 42.578125 3.328125 38.25 0.953125 \nQ 33.9375 -1.421875 27.875 -1.421875 \nQ 17.96875 -1.421875 11.734375 6.484375 \nQ 5.515625 14.40625 5.515625 27.296875 \nQ 5.515625 40.1875 11.734375 48.09375 \nQ 17.96875 56 27.875 56 \nQ 33.9375 56 38.25 53.625 \nQ 42.578125 51.265625 45.40625 46.390625 \nz\nM 14.796875 27.296875 \nQ 14.796875 17.390625 18.875 11.75 \nQ 22.953125 6.109375 30.078125 6.109375 \nQ 37.203125 6.109375 41.296875 11.75 \nQ 45.40625 17.390625 45.40625 27.296875 \nQ 45.40625 37.203125 41.296875 42.84375 \nQ 37.203125 48.484375 30.078125 48.484375 \nQ 22.953125 48.484375 18.875 42.84375 \nQ 14.796875 37.203125 14.796875 27.296875 \nz\n\" id=\"DejaVuSans-100\"/>\n      </defs>\n      <use xlink:href=\"#DejaVuSans-84\"/>\n      <use x=\"46.333984\" xlink:href=\"#DejaVuSans-114\"/>\n      <use x=\"87.447266\" xlink:href=\"#DejaVuSans-97\"/>\n      <use x=\"148.726562\" xlink:href=\"#DejaVuSans-105\"/>\n      <use x=\"176.509766\" xlink:href=\"#DejaVuSans-110\"/>\n      <use x=\"239.888672\" xlink:href=\"#DejaVuSans-32\"/>\n      <use x=\"271.675781\" xlink:href=\"#DejaVuSans-112\"/>\n      <use x=\"335.152344\" xlink:href=\"#DejaVuSans-114\"/>\n      <use x=\"374.015625\" xlink:href=\"#DejaVuSans-101\"/>\n      <use x=\"435.539062\" xlink:href=\"#DejaVuSans-100\"/>\n     </g>\n    </g>\n    <g id=\"line2d_23\">\n     <path d=\"M 66.570312 199.181406 \nL 86.570312 199.181406 \n\" style=\"fill:none;stroke:#0000ff;stroke-linecap:square;stroke-width:1.5;\"/>\n    </g>\n    <g id=\"line2d_24\"/>\n    <g id=\"text_17\">\n     <!-- Actual -->\n     <g transform=\"translate(94.570312 202.681406)scale(0.1 -0.1)\">\n      <use xlink:href=\"#DejaVuSans-65\"/>\n      <use x=\"66.658203\" xlink:href=\"#DejaVuSans-99\"/>\n      <use x=\"121.638672\" xlink:href=\"#DejaVuSans-116\"/>\n      <use x=\"160.847656\" xlink:href=\"#DejaVuSans-117\"/>\n      <use x=\"224.226562\" xlink:href=\"#DejaVuSans-97\"/>\n      <use x=\"285.505859\" xlink:href=\"#DejaVuSans-108\"/>\n     </g>\n    </g>\n    <g id=\"line2d_25\">\n     <path d=\"M 66.570312 213.859531 \nL 86.570312 213.859531 \n\" style=\"fill:none;stroke:#008000;stroke-linecap:square;stroke-width:1.5;\"/>\n    </g>\n    <g id=\"line2d_26\"/>\n    <g id=\"text_18\">\n     <!-- Test pred -->\n     <g transform=\"translate(94.570312 217.359531)scale(0.1 -0.1)\">\n      <defs>\n       <path d=\"M 44.28125 53.078125 \nL 44.28125 44.578125 \nQ 40.484375 46.53125 36.375 47.5 \nQ 32.28125 48.484375 27.875 48.484375 \nQ 21.1875 48.484375 17.84375 46.4375 \nQ 14.5 44.390625 14.5 40.28125 \nQ 14.5 37.15625 16.890625 35.375 \nQ 19.28125 33.59375 26.515625 31.984375 \nL 29.59375 31.296875 \nQ 39.15625 29.25 43.1875 25.515625 \nQ 47.21875 21.78125 47.21875 15.09375 \nQ 47.21875 7.46875 41.1875 3.015625 \nQ 35.15625 -1.421875 24.609375 -1.421875 \nQ 20.21875 -1.421875 15.453125 -0.5625 \nQ 10.6875 0.296875 5.421875 2 \nL 5.421875 11.28125 \nQ 10.40625 8.6875 15.234375 7.390625 \nQ 20.0625 6.109375 24.8125 6.109375 \nQ 31.15625 6.109375 34.5625 8.28125 \nQ 37.984375 10.453125 37.984375 14.40625 \nQ 37.984375 18.0625 35.515625 20.015625 \nQ 33.0625 21.96875 24.703125 23.78125 \nL 21.578125 24.515625 \nQ 13.234375 26.265625 9.515625 29.90625 \nQ 5.8125 33.546875 5.8125 39.890625 \nQ 5.8125 47.609375 11.28125 51.796875 \nQ 16.75 56 26.8125 56 \nQ 31.78125 56 36.171875 55.265625 \nQ 40.578125 54.546875 44.28125 53.078125 \nz\n\" id=\"DejaVuSans-115\"/>\n      </defs>\n      <use xlink:href=\"#DejaVuSans-84\"/>\n      <use x=\"44.083984\" xlink:href=\"#DejaVuSans-101\"/>\n      <use x=\"105.607422\" xlink:href=\"#DejaVuSans-115\"/>\n      <use x=\"157.707031\" xlink:href=\"#DejaVuSans-116\"/>\n      <use x=\"196.916016\" xlink:href=\"#DejaVuSans-32\"/>\n      <use x=\"228.703125\" xlink:href=\"#DejaVuSans-112\"/>\n      <use x=\"292.179688\" xlink:href=\"#DejaVuSans-114\"/>\n      <use x=\"331.042969\" xlink:href=\"#DejaVuSans-101\"/>\n      <use x=\"392.566406\" xlink:href=\"#DejaVuSans-100\"/>\n     </g>\n    </g>\n   </g>\n  </g>\n </g>\n <defs>\n  <clipPath id=\"p042abdb1ee\">\n   <rect height=\"217.44\" width=\"334.8\" x=\"57.570313\" y=\"10.999219\"/>\n  </clipPath>\n </defs>\n</svg>\n",
      "image/png": "[encoded data removed]"
     },
     "metadata": {
      "needs_background": "light"
     }
    }
   ],
   "metadata": {}
  }
 ],
 "metadata": {
  "orig_nbformat": 4,
  "language_info": {
   "name": "python",
   "version": "3.8.5",
   "mimetype": "text/x-python",
   "codemirror_mode": {
    "name": "ipython",
    "version": 3
   },
   "pygments_lexer": "ipython3",
   "nbconvert_exporter": "python",
   "file_extension": ".py"
  },
  "kernelspec": {
   "name": "python3",
   "display_name": "Python 3.8.5 64-bit ('base': conda)"
  },
  "interpreter": {
   "hash": "7b2db577e2e3c3d59c019c7bce89b93331fb3ae1c9a593654a8d90dfac1c6c30"
  }
 },
 "nbformat": 4,
 "nbformat_minor": 2
}