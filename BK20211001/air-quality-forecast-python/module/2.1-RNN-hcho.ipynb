{
 "cells": [
  {
   "cell_type": "code",
   "execution_count": 1,
   "source": [
    "import tensorflow as tf\n",
    "import pandas as pd\n",
    "import numpy as np\n",
    "import matplotlib.pyplot as plt\n",
    "%matplotlib inline\n",
    "tf.compat.v1.disable_eager_execution()\n",
    "tf1 = tf.compat.v1\n",
    "print(\"Tensorflow version: \",tf.__version__)\n",
    "import warnings\n",
    "warnings.filterwarnings('ignore', '.*do not.*', )"
   ],
   "outputs": [
    {
     "output_type": "stream",
     "name": "stdout",
     "text": [
      "Tensorflow version:  2.6.0\n"
     ]
    }
   ],
   "metadata": {}
  },
  {
   "cell_type": "code",
   "execution_count": 11,
   "source": [
    "dataset_name = \"q1\"\n",
    "product_name = \"hcho\"\n",
    "file_path = 'dataset/'+dataset_name+'.csv'\n",
    "data = pd.read_csv(file_path)\n",
    "data.head(8)"
   ],
   "outputs": [
    {
     "output_type": "execute_result",
     "data": {
      "text/plain": [
       "0.0008116600220091642"
      ]
     },
     "metadata": {},
     "execution_count": 11
    }
   ],
   "metadata": {}
  },
  {
   "cell_type": "code",
   "execution_count": 3,
   "source": [
    "num_periods = 7  # 7 day\n",
    "dataset_len = np.rint(np.rint(len(data[product_name])/10)-1)*10\n",
    "tmp = np.array(data[product_name])\n",
    "\n",
    "# Normalization: Chuan hoa du lieu => [0,1]\n",
    "print('===> Min max scaling')\n",
    "from sklearn import preprocessing as pp\n",
    "mms = pp.MinMaxScaler()\n",
    "data_mms = mms.fit_transform(tmp.reshape(-1,1))\n",
    "print(\"===> mms\", data_mms, \"\\nmin: \",data_mms.min(),\"\\nmean: \",data_mms.mean(),\"\\nmax: \",data_mms.max(),)\n",
    "\n",
    "\n",
    "df = tmp[:dataset_len.astype(int)+1]\n",
    "print(\"===> do dai dataset thuc te\", len(tmp),\"\\n do dai dataset thuc hien: (+1)\", dataset_len.astype(int))\n",
    "\n",
    "f_horizon = 1\n",
    "x_data = df[:(len(df)-1)]  # x: (ngay 1) den (ngay cuoi cung - 2)\n",
    "x_batches = x_data.reshape(-1, num_periods, 1)\n",
    "\n",
    "print(\"===> x data \", product_name,\": \\n\", x_data, \"\\n===> x batches: \\n\", x_batches,\n",
    "      \"\\n===> shape x batches\\n\", x_batches.shape, \"\\n\")\n",
    "\n",
    "y_data = df[1:(len(df)-1)+f_horizon]\n",
    "y_batches = y_data.reshape(-1, num_periods, 1)\n",
    "\n",
    "print(\"===> y data \", product_name,\": \\n\",  y_data, \"\\n===> y batches: \\n\", y_batches,\n",
    "      \"\\n===> shape y batches\\n\", y_batches.shape, \"\\n\")\n"
   ],
   "outputs": [
    {
     "output_type": "stream",
     "name": "stdout",
     "text": [
      "===> Min max scaling\n",
      "===> mms [[0.        ]\n",
      " [0.        ]\n",
      " [0.        ]\n",
      " ...\n",
      " [0.        ]\n",
      " [0.36301023]\n",
      " [0.        ]] \n",
      "min:  0.0 \n",
      "mean:  0.17171472892190193 \n",
      "max:  1.0\n",
      "===> do dai dataset thuc te 1199 \n",
      " do dai dataset thuc hien: (+1) 1190\n",
      "===> x data  hcho : \n",
      " [0. 0. 0. ... 0. 0. 0.] \n",
      "===> x batches: \n",
      " [[[0.        ]\n",
      "  [0.        ]\n",
      "  [0.        ]\n",
      "  ...\n",
      "  [0.        ]\n",
      "  [0.        ]\n",
      "  [0.        ]]\n",
      "\n",
      " [[0.        ]\n",
      "  [0.        ]\n",
      "  [0.        ]\n",
      "  ...\n",
      "  [0.        ]\n",
      "  [0.        ]\n",
      "  [0.        ]]\n",
      "\n",
      " [[0.00030049]\n",
      "  [0.00044563]\n",
      "  [0.00026044]\n",
      "  ...\n",
      "  [0.00013308]\n",
      "  [0.00050226]\n",
      "  [0.        ]]\n",
      "\n",
      " ...\n",
      "\n",
      " [[0.00017796]\n",
      "  [0.        ]\n",
      "  [0.        ]\n",
      "  ...\n",
      "  [0.00019234]\n",
      "  [0.        ]\n",
      "  [0.        ]]\n",
      "\n",
      " [[0.        ]\n",
      "  [0.        ]\n",
      "  [0.        ]\n",
      "  ...\n",
      "  [0.        ]\n",
      "  [0.        ]\n",
      "  [0.        ]]\n",
      "\n",
      " [[0.        ]\n",
      "  [0.        ]\n",
      "  [0.        ]\n",
      "  ...\n",
      "  [0.        ]\n",
      "  [0.        ]\n",
      "  [0.        ]]] \n",
      "===> shape x batches\n",
      " (170, 7, 1) \n",
      "\n",
      "===> y data  hcho : \n",
      " [0.         0.         0.         ... 0.         0.         0.00013188] \n",
      "===> y batches: \n",
      " [[[0.        ]\n",
      "  [0.        ]\n",
      "  [0.        ]\n",
      "  ...\n",
      "  [0.        ]\n",
      "  [0.        ]\n",
      "  [0.        ]]\n",
      "\n",
      " [[0.        ]\n",
      "  [0.        ]\n",
      "  [0.        ]\n",
      "  ...\n",
      "  [0.        ]\n",
      "  [0.        ]\n",
      "  [0.00030049]]\n",
      "\n",
      " [[0.00044563]\n",
      "  [0.00026044]\n",
      "  [0.0002718 ]\n",
      "  ...\n",
      "  [0.00050226]\n",
      "  [0.        ]\n",
      "  [0.0003118 ]]\n",
      "\n",
      " ...\n",
      "\n",
      " [[0.        ]\n",
      "  [0.        ]\n",
      "  [0.        ]\n",
      "  ...\n",
      "  [0.        ]\n",
      "  [0.        ]\n",
      "  [0.        ]]\n",
      "\n",
      " [[0.        ]\n",
      "  [0.        ]\n",
      "  [0.        ]\n",
      "  ...\n",
      "  [0.        ]\n",
      "  [0.        ]\n",
      "  [0.        ]]\n",
      "\n",
      " [[0.        ]\n",
      "  [0.        ]\n",
      "  [0.        ]\n",
      "  ...\n",
      "  [0.        ]\n",
      "  [0.        ]\n",
      "  [0.00013188]]] \n",
      "===> shape y batches\n",
      " (170, 7, 1) \n",
      "\n"
     ]
    }
   ],
   "metadata": {}
  },
  {
   "cell_type": "code",
   "execution_count": 4,
   "source": [
    "def test_data(series, forecast, num):\n",
    "    testX = df[-(num + forecast):][:num].reshape(-1, num_periods, 1)\n",
    "    testY = df[-(num):].reshape(-1, num_periods, 1)\n",
    "    return testX, testY\n",
    "    \n",
    "X_test, Y_test = test_data(df, f_horizon, num_periods * 2) # 2 periods\n",
    "print(X_test.shape)\n",
    "print(\"===> Y_test: \\n\",Y_test)\n"
   ],
   "outputs": [
    {
     "output_type": "stream",
     "name": "stdout",
     "text": [
      "(1, 7, 1)\n",
      "===> Y_test: \n",
      " [[[0.        ]\n",
      "  [0.        ]\n",
      "  [0.        ]\n",
      "  [0.        ]\n",
      "  [0.        ]\n",
      "  [0.        ]\n",
      "  [0.00013188]]]\n"
     ]
    }
   ],
   "metadata": {}
  },
  {
   "cell_type": "code",
   "execution_count": 5,
   "source": [
    "tf1.reset_default_graph()\n",
    "inputs = 1\n",
    "rnn_size = 100\n",
    "output = 1\n",
    "learning_rate=0.001\n",
    "dropout_keep_prob = tf1.placeholder(tf.float32)\n",
    "\n",
    "X = tf1.placeholder(tf.float32, [None, num_periods, 1])\n",
    "Y = tf1.placeholder(tf.float32, [None, num_periods, 1])\n",
    "\n",
    "rnn_cells=tf1.nn.rnn_cell.BasicRNNCell(num_units=rnn_size, activation=tf.nn.relu)\n",
    "rnn_output, states = tf1.nn.dynamic_rnn(rnn_cells, X, dtype=tf.float32)\n",
    "\n",
    "\n",
    "output=tf.reshape(rnn_output, [-1, rnn_size])\n",
    "logit=tf1.layers.dense(output, 1, name=\"softmax\")\n",
    "\n",
    "outputs=tf.reshape(logit, [-1, num_periods, 1])\n",
    "print(logit)\n",
    "\n",
    "loss = tf.reduce_sum(tf.square(outputs - Y))\n",
    "\n",
    "accuracy = tf.reduce_mean(tf.cast(tf.equal(tf.argmax(logit, 1), tf.cast(Y, tf.int64)), tf.float32))\n",
    "\n",
    "optimizer = tf1.train.AdamOptimizer(learning_rate=learning_rate)\n",
    "train_step=optimizer.minimize(loss)\n",
    "\n",
    "init=tf1.global_variables_initializer()\n",
    "\n",
    "print(\"===> loss: \", loss, \"\\n===> accuracy: \", accuracy , optimizer.minimize(loss) )"
   ],
   "outputs": [
    {
     "output_type": "stream",
     "name": "stdout",
     "text": [
      "WARNING:tensorflow:From <ipython-input-5-10049663a62d>:12: dynamic_rnn (from tensorflow.python.ops.rnn) is deprecated and will be removed in a future version.\n",
      "Instructions for updating:\n",
      "Please use `keras.layers.RNN(cell)`, which is equivalent to this API\n",
      "WARNING:tensorflow:From /Users/nguyenthanhphong/opt/anaconda3/lib/python3.8/site-packages/keras/layers/legacy_rnn/rnn_cell_impl.py:459: calling Zeros.__init__ (from tensorflow.python.ops.init_ops) with dtype is deprecated and will be removed in a future version.\n",
      "Instructions for updating:\n",
      "Call initializer instance with the dtype argument instead of passing it to the constructor\n"
     ]
    },
    {
     "output_type": "stream",
     "name": "stderr",
     "text": [
      "/Users/nguyenthanhphong/opt/anaconda3/lib/python3.8/site-packages/keras/layers/legacy_rnn/rnn_cell_impl.py:415: UserWarning: `tf.nn.rnn_cell.BasicRNNCell` is deprecated and will be removed in a future version. This class is equivalent as `tf.keras.layers.SimpleRNNCell`, and will be replaced by that in Tensorflow 2.0.\n",
      "  warnings.warn(\"`tf.nn.rnn_cell.BasicRNNCell` is deprecated and will be \"\n",
      "/Users/nguyenthanhphong/opt/anaconda3/lib/python3.8/site-packages/keras/engine/base_layer_v1.py:1684: UserWarning: `layer.add_variable` is deprecated and will be removed in a future version. Please use `layer.add_weight` method instead.\n",
      "  warnings.warn('`layer.add_variable` is deprecated and '\n"
     ]
    },
    {
     "output_type": "stream",
     "name": "stdout",
     "text": [
      "Tensor(\"softmax/BiasAdd:0\", shape=(None, 1), dtype=float32)\n"
     ]
    },
    {
     "output_type": "stream",
     "name": "stderr",
     "text": [
      "/Users/nguyenthanhphong/opt/anaconda3/lib/python3.8/site-packages/keras/legacy_tf_layers/core.py:236: UserWarning: `tf.layers.dense` is deprecated and will be removed in a future version. Please use `tf.keras.layers.Dense` instead.\n",
      "  warnings.warn('`tf.layers.dense` is deprecated and '\n",
      "/Users/nguyenthanhphong/opt/anaconda3/lib/python3.8/site-packages/keras/engine/base_layer_v1.py:1676: UserWarning: `layer.apply` is deprecated and will be removed in a future version. Please use `layer.__call__` method instead.\n",
      "  warnings.warn('`layer.apply` is deprecated and '\n"
     ]
    },
    {
     "output_type": "stream",
     "name": "stdout",
     "text": [
      "===> loss:  Tensor(\"Sum:0\", shape=(), dtype=float32) \n",
      "===> accuracy:  Tensor(\"Mean:0\", shape=(), dtype=float32) name: \"Adam_1\"\n",
      "op: \"NoOp\"\n",
      "input: \"^Adam_1/update_rnn/basic_rnn_cell/kernel/ResourceApplyAdam\"\n",
      "input: \"^Adam_1/update_rnn/basic_rnn_cell/bias/ResourceApplyAdam\"\n",
      "input: \"^Adam_1/update_softmax/kernel/ResourceApplyAdam\"\n",
      "input: \"^Adam_1/update_softmax/bias/ResourceApplyAdam\"\n",
      "input: \"^Adam_1/AssignVariableOp\"\n",
      "input: \"^Adam_1/AssignVariableOp_1\"\n",
      "\n"
     ]
    }
   ],
   "metadata": {}
  },
  {
   "cell_type": "code",
   "execution_count": 6,
   "source": [
    "epochs = 1000\n",
    "\n",
    "sess = tf1.Session()\n",
    "init = tf1.global_variables_initializer()\n",
    "sess.run(init)\n",
    "saver = tf1.train.Saver()\n",
    "\n",
    "for epoch in range(epochs):\n",
    "    train_dict = {X: x_batches, Y: y_batches, dropout_keep_prob:0.5}\n",
    "    sess.run(train_step, feed_dict=train_dict)\n",
    "    \n",
    "y_pred=sess.run(outputs, feed_dict={X: X_test})\n",
    "save_path = saver.save(sess, \"models/rnn/\"+dataset_name+\"/\"+product_name+\"/\"+product_name+\".ckpt\")"
   ],
   "outputs": [],
   "metadata": {}
  },
  {
   "cell_type": "code",
   "execution_count": 15,
   "source": [
    "plt.title(product_name.upper() + \" - Forecast vs Actual\", fontsize=14)\n",
    "plt.plot(pd.Series(np.ravel(Y_test)), \"bs-\", markersize=5, label=\"Actual\")\n",
    "plt.plot(pd.Series(np.ravel(y_pred)), \"ro-\", markersize=5, label=\"Forecast\")\n",
    "#plt.legend(loc=\"upper left\")\n",
    "plt.legend(loc=\"best\")\n",
    "plt.xlabel(\"Days\")\n",
    "plt.ylim([-0.002,0.002])\n",
    "plt.show()"
   ],
   "outputs": [
    {
     "output_type": "display_data",
     "data": {
      "text/plain": [
       "<Figure size 432x288 with 1 Axes>"
      ],
      "image/png": "[encoded data removed]"
     },
     "metadata": {
      "needs_background": "light"
     }
    }
   ],
   "metadata": {}
  },
  {
   "cell_type": "code",
   "execution_count": 8,
   "source": [
    "with tf1.Session() as sess:\n",
    "  # Restore variables from disk.\n",
    "    saver.restore(sess, \"models/rnn/\"+dataset_name+\"/\"+product_name+\"/\"+product_name+\".ckpt\")\n",
    "    predict=sess.run(outputs, feed_dict={X: \n",
    "    [[[1.4241785e-05],\n",
    "  [11.6847160e-05],\n",
    "  [2.0498410e-05],\n",
    "  [1.8807594e-05],\n",
    "  [1.1699350e-05],\n",
    "  [1.1699350e-05],\n",
    "  [1.1699350e-05]]]}) #nhập num_periods ngày quá khứ, dự đoán num_periods ngày tương lai\n",
    "print(predict)"
   ],
   "outputs": [
    {
     "output_type": "stream",
     "name": "stdout",
     "text": [
      "INFO:tensorflow:Restoring parameters from models/rnn/q1/hcho/hcho.ckpt\n",
      "[[[0.00012812]\n",
      "  [0.00014216]\n",
      "  [0.00011823]\n",
      "  [0.0001057 ]\n",
      "  [0.00010165]\n",
      "  [0.00013139]\n",
      "  [0.00012546]]]\n"
     ]
    }
   ],
   "metadata": {}
  },
  {
   "cell_type": "code",
   "execution_count": 9,
   "source": [
    "print(y_pred) #base on X_test"
   ],
   "outputs": [
    {
     "output_type": "stream",
     "name": "stdout",
     "text": [
      "[[[1.26091763e-04]\n",
      "  [1.21925259e-04]\n",
      "  [1.14104245e-04]\n",
      "  [1.04301726e-04]\n",
      "  [9.91774723e-05]\n",
      "  [1.29614142e-04]\n",
      "  [1.23306760e-04]]]\n"
     ]
    }
   ],
   "metadata": {}
  },
  {
   "cell_type": "code",
   "execution_count": null,
   "source": [],
   "outputs": [],
   "metadata": {}
  }
 ],
 "metadata": {
  "kernelspec": {
   "name": "python3",
   "display_name": "Python 3.8.5 64-bit ('base': conda)"
  },
  "language_info": {
   "codemirror_mode": {
    "name": "ipython",
    "version": 3
   },
   "file_extension": ".py",
   "mimetype": "text/x-python",
   "name": "python",
   "nbconvert_exporter": "python",
   "pygments_lexer": "ipython3",
   "version": "3.8.5"
  },
  "interpreter": {
   "hash": "7b2db577e2e3c3d59c019c7bce89b93331fb3ae1c9a593654a8d90dfac1c6c30"
  }
 },
 "nbformat": 4,
 "nbformat_minor": 2
}