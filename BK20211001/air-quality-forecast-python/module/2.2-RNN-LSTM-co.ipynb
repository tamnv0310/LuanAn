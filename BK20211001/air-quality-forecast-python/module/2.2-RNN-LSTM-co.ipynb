{
 "cells": [
  {
   "cell_type": "code",
   "execution_count": 1,
   "source": [
    "# Time Series Prediction with LSTM\n",
    "import numpy\n",
    "import matplotlib.pyplot as plt\n",
    "import pandas as pd\n",
    "import math\n",
    "from keras.models import Sequential\n",
    "from keras.layers import Dense\n",
    "from keras.layers import LSTM\n",
    "from sklearn.preprocessing import MinMaxScaler\n",
    "from sklearn.metrics import mean_squared_error\n",
    "\n",
    "from pickle import dump"
   ],
   "outputs": [],
   "metadata": {}
  },
  {
   "cell_type": "code",
   "execution_count": 2,
   "source": [
    "#convert an array of values into a dataset matrix\n",
    "def create_dataset(dataset, look_back=1):\n",
    " dataX, dataY = [], []\n",
    " for i in range(len(dataset)-look_back-1):\n",
    "  a = dataset[i:(i+look_back), 0]\n",
    "  dataX.append(a)\n",
    "  dataY.append(dataset[i + look_back, 0])\n",
    " return numpy.array(dataX), numpy.array(dataY)"
   ],
   "outputs": [],
   "metadata": {}
  },
  {
   "cell_type": "code",
   "execution_count": 3,
   "source": [
    "# fix random seed for reproducibility\n",
    "numpy.random.seed(7)"
   ],
   "outputs": [],
   "metadata": {}
  },
  {
   "cell_type": "code",
   "execution_count": 4,
   "source": [
    "dataset_name = \"q1\"\n",
    "product_name = \"co\"\n",
    "file_path = 'dataset/'+dataset_name+'.csv'\n",
    "dataframe = pd.read_csv(file_path)\n",
    "print(\"Dataframe: \\n\", dataframe)\n",
    "dataset = numpy.asarray(dataframe[product_name]).reshape(-1,1)\n",
    "print(\"Dataset: \\n\", dataset)\n"
   ],
   "outputs": [
    {
     "output_type": "stream",
     "name": "stdout",
     "text": [
      "Dataframe: \n",
      "             date dist        co       no2        o3  so2  ch4      hcho\n",
      "0     2018-04-30   q1  0.036519  0.000059  0.127509  0.0    0  0.000000\n",
      "1     2018-05-01   q1  0.035765  0.000053  0.128756  0.0    0  0.000000\n",
      "2     2018-05-02   q1  0.037218  0.000051  0.127053  0.0    0  0.000000\n",
      "3     2018-05-03   q1  0.000000  0.000000  0.120879  0.0    0  0.000000\n",
      "4     2018-05-04   q1  0.000000  0.000000  0.121712  0.0    0  0.000000\n",
      "...          ...  ...       ...       ...       ...  ...  ...       ...\n",
      "1194  2021-08-06   q1  0.000000  0.000000  0.120559  0.0    0  0.000000\n",
      "1195  2021-08-07   q1  0.020865  0.000000  0.119257  0.0    0  0.000000\n",
      "1196  2021-08-08   q1  0.025278  0.000000  0.118261  0.0    0  0.000000\n",
      "1197  2021-08-09   q1  0.000000  0.000000  0.120582  0.0    0  0.000295\n",
      "1198  2021-08-10   q1  0.026092  0.000000  0.120392  0.0    0  0.000000\n",
      "\n",
      "[1199 rows x 8 columns]\n",
      "Dataset: \n",
      " [[0.03651906]\n",
      " [0.03576465]\n",
      " [0.03721782]\n",
      " ...\n",
      " [0.0252783 ]\n",
      " [0.        ]\n",
      " [0.02609188]]\n"
     ]
    }
   ],
   "metadata": {}
  },
  {
   "cell_type": "code",
   "execution_count": 5,
   "source": [
    "# normalize the dataset\n",
    "scaler = MinMaxScaler(feature_range=(0, 1))\n",
    "dataset = scaler.fit_transform(dataset)\n",
    "print(\"Dataset after scale: \\n\", dataset)"
   ],
   "outputs": [
    {
     "output_type": "stream",
     "name": "stdout",
     "text": [
      "Dataset after scale: \n",
      " [[0.48726346]\n",
      " [0.47719755]\n",
      " [0.49658682]\n",
      " ...\n",
      " [0.33728116]\n",
      " [0.        ]\n",
      " [0.34813662]]\n"
     ]
    }
   ],
   "metadata": {}
  },
  {
   "cell_type": "code",
   "execution_count": 6,
   "source": [
    "# split into train and test sets\n",
    "train_size = int(len(dataset) * 0.9)\n",
    "test_size = len(dataset) - train_size\n",
    "train, test = dataset[0:train_size,:], dataset[train_size:len(dataset),:]"
   ],
   "outputs": [],
   "metadata": {}
  },
  {
   "cell_type": "code",
   "execution_count": 7,
   "source": [
    "# reshape into X=t and Y=t+1\n",
    "look_back = 1\n",
    "trainX, trainY = create_dataset(train, look_back)\n",
    "testX, testY = create_dataset(test, look_back)\n",
    "print(\"TrainX shape: \", trainX.shape)\n",
    "print(\"TrainY shape: \", trainY.shape)"
   ],
   "outputs": [
    {
     "output_type": "stream",
     "name": "stdout",
     "text": [
      "TrainX shape:  (1077, 1)\n",
      "TrainY shape:  (1077,)\n"
     ]
    }
   ],
   "metadata": {}
  },
  {
   "cell_type": "code",
   "execution_count": 8,
   "source": [
    "# reshape input to be [samples, time steps, features]\n",
    "trainX = numpy.reshape(trainX, (trainX.shape[0], 1, trainX.shape[1]))\n",
    "testX = numpy.reshape(testX, (testX.shape[0], 1, testX.shape[1]))"
   ],
   "outputs": [],
   "metadata": {}
  },
  {
   "cell_type": "code",
   "execution_count": 9,
   "source": [
    "# create and fit the LSTM network\n",
    "model = Sequential()\n",
    "model.add(LSTM(4, input_shape=(1, look_back)))\n",
    "model.add(Dense(1))\n",
    "model.compile(loss='mean_squared_error', optimizer='adam')\n",
    "print(model.summary())\n",
    "history = model.fit(trainX, trainY, epochs=100, batch_size=10, verbose=2,\n",
    "          validation_data=(testX, testY))\n",
    "\n",
    "score = model.evaluate(testX, testY, verbose=0)\n",
    "print('score: test score = ', score)\n",
    "\n",
    "# save the model\n",
    "model.save('models/rnn-lstm-'+product_name)\n",
    "# save the scaler\n",
    "dump(scaler, open('models/rnn-lstm-'+product_name+'/scaler.pkl', 'wb'))"
   ],
   "outputs": [
    {
     "output_type": "stream",
     "name": "stdout",
     "text": [
      "Model: \"sequential\"\n",
      "_________________________________________________________________\n",
      "Layer (type)                 Output Shape              Param #   \n",
      "=================================================================\n",
      "lstm (LSTM)                  (None, 4)                 96        \n",
      "_________________________________________________________________\n",
      "dense (Dense)                (None, 1)                 5         \n",
      "=================================================================\n",
      "Total params: 101\n",
      "Trainable params: 101\n",
      "Non-trainable params: 0\n",
      "_________________________________________________________________\n",
      "None\n",
      "Epoch 1/100\n",
      "108/108 - 3s - loss: 0.0994 - val_loss: 0.0425\n",
      "Epoch 2/100\n",
      "108/108 - 0s - loss: 0.0657 - val_loss: 0.0421\n",
      "Epoch 3/100\n",
      "108/108 - 0s - loss: 0.0643 - val_loss: 0.0423\n",
      "Epoch 4/100\n",
      "108/108 - 0s - loss: 0.0642 - val_loss: 0.0417\n",
      "Epoch 5/100\n",
      "108/108 - 0s - loss: 0.0642 - val_loss: 0.0423\n",
      "Epoch 6/100\n",
      "108/108 - 0s - loss: 0.0642 - val_loss: 0.0420\n",
      "Epoch 7/100\n",
      "108/108 - 0s - loss: 0.0641 - val_loss: 0.0415\n",
      "Epoch 8/100\n",
      "108/108 - 0s - loss: 0.0642 - val_loss: 0.0423\n",
      "Epoch 9/100\n",
      "108/108 - 0s - loss: 0.0641 - val_loss: 0.0414\n",
      "Epoch 10/100\n",
      "108/108 - 0s - loss: 0.0640 - val_loss: 0.0424\n",
      "Epoch 11/100\n",
      "108/108 - 0s - loss: 0.0640 - val_loss: 0.0409\n",
      "Epoch 12/100\n",
      "108/108 - 0s - loss: 0.0640 - val_loss: 0.0414\n",
      "Epoch 13/100\n",
      "108/108 - 0s - loss: 0.0639 - val_loss: 0.0421\n",
      "Epoch 14/100\n",
      "108/108 - 0s - loss: 0.0640 - val_loss: 0.0415\n",
      "Epoch 15/100\n",
      "108/108 - 0s - loss: 0.0639 - val_loss: 0.0409\n",
      "Epoch 16/100\n",
      "108/108 - 0s - loss: 0.0639 - val_loss: 0.0411\n",
      "Epoch 17/100\n",
      "108/108 - 0s - loss: 0.0638 - val_loss: 0.0410\n",
      "Epoch 18/100\n",
      "108/108 - 0s - loss: 0.0637 - val_loss: 0.0415\n",
      "Epoch 19/100\n",
      "108/108 - 0s - loss: 0.0638 - val_loss: 0.0414\n",
      "Epoch 20/100\n",
      "108/108 - 0s - loss: 0.0639 - val_loss: 0.0412\n",
      "Epoch 21/100\n",
      "108/108 - 0s - loss: 0.0637 - val_loss: 0.0416\n",
      "Epoch 22/100\n",
      "108/108 - 0s - loss: 0.0637 - val_loss: 0.0411\n",
      "Epoch 23/100\n",
      "108/108 - 0s - loss: 0.0637 - val_loss: 0.0408\n",
      "Epoch 24/100\n",
      "108/108 - 0s - loss: 0.0636 - val_loss: 0.0411\n",
      "Epoch 25/100\n",
      "108/108 - 0s - loss: 0.0636 - val_loss: 0.0421\n",
      "Epoch 26/100\n",
      "108/108 - 0s - loss: 0.0634 - val_loss: 0.0406\n",
      "Epoch 27/100\n",
      "108/108 - 0s - loss: 0.0635 - val_loss: 0.0410\n",
      "Epoch 28/100\n",
      "108/108 - 0s - loss: 0.0635 - val_loss: 0.0410\n",
      "Epoch 29/100\n",
      "108/108 - 0s - loss: 0.0634 - val_loss: 0.0421\n",
      "Epoch 30/100\n",
      "108/108 - 0s - loss: 0.0636 - val_loss: 0.0411\n",
      "Epoch 31/100\n",
      "108/108 - 0s - loss: 0.0633 - val_loss: 0.0412\n",
      "Epoch 32/100\n",
      "108/108 - 0s - loss: 0.0633 - val_loss: 0.0406\n",
      "Epoch 33/100\n",
      "108/108 - 0s - loss: 0.0633 - val_loss: 0.0410\n",
      "Epoch 34/100\n",
      "108/108 - 0s - loss: 0.0632 - val_loss: 0.0406\n",
      "Epoch 35/100\n",
      "108/108 - 0s - loss: 0.0632 - val_loss: 0.0404\n",
      "Epoch 36/100\n",
      "108/108 - 1s - loss: 0.0630 - val_loss: 0.0414\n",
      "Epoch 37/100\n",
      "108/108 - 0s - loss: 0.0632 - val_loss: 0.0407\n",
      "Epoch 38/100\n",
      "108/108 - 0s - loss: 0.0630 - val_loss: 0.0406\n",
      "Epoch 39/100\n",
      "108/108 - 1s - loss: 0.0630 - val_loss: 0.0402\n",
      "Epoch 40/100\n",
      "108/108 - 0s - loss: 0.0631 - val_loss: 0.0400\n",
      "Epoch 41/100\n",
      "108/108 - 0s - loss: 0.0629 - val_loss: 0.0407\n",
      "Epoch 42/100\n",
      "108/108 - 0s - loss: 0.0629 - val_loss: 0.0405\n",
      "Epoch 43/100\n",
      "108/108 - 1s - loss: 0.0627 - val_loss: 0.0415\n",
      "Epoch 44/100\n",
      "108/108 - 1s - loss: 0.0630 - val_loss: 0.0403\n",
      "Epoch 45/100\n",
      "108/108 - 0s - loss: 0.0628 - val_loss: 0.0404\n",
      "Epoch 46/100\n",
      "108/108 - 0s - loss: 0.0627 - val_loss: 0.0401\n",
      "Epoch 47/100\n",
      "108/108 - 0s - loss: 0.0626 - val_loss: 0.0407\n",
      "Epoch 48/100\n",
      "108/108 - 0s - loss: 0.0625 - val_loss: 0.0413\n",
      "Epoch 49/100\n",
      "108/108 - 0s - loss: 0.0626 - val_loss: 0.0401\n",
      "Epoch 50/100\n",
      "108/108 - 0s - loss: 0.0626 - val_loss: 0.0402\n",
      "Epoch 51/100\n",
      "108/108 - 0s - loss: 0.0624 - val_loss: 0.0401\n",
      "Epoch 52/100\n",
      "108/108 - 0s - loss: 0.0623 - val_loss: 0.0400\n",
      "Epoch 53/100\n",
      "108/108 - 0s - loss: 0.0623 - val_loss: 0.0406\n",
      "Epoch 54/100\n",
      "108/108 - 0s - loss: 0.0624 - val_loss: 0.0398\n",
      "Epoch 55/100\n",
      "108/108 - 0s - loss: 0.0622 - val_loss: 0.0405\n",
      "Epoch 56/100\n",
      "108/108 - 0s - loss: 0.0622 - val_loss: 0.0399\n",
      "Epoch 57/100\n",
      "108/108 - 0s - loss: 0.0621 - val_loss: 0.0401\n",
      "Epoch 58/100\n",
      "108/108 - 0s - loss: 0.0624 - val_loss: 0.0398\n",
      "Epoch 59/100\n",
      "108/108 - 0s - loss: 0.0621 - val_loss: 0.0403\n",
      "Epoch 60/100\n",
      "108/108 - 0s - loss: 0.0620 - val_loss: 0.0417\n",
      "Epoch 61/100\n",
      "108/108 - 0s - loss: 0.0619 - val_loss: 0.0397\n",
      "Epoch 62/100\n",
      "108/108 - 0s - loss: 0.0619 - val_loss: 0.0397\n",
      "Epoch 63/100\n",
      "108/108 - 0s - loss: 0.0618 - val_loss: 0.0398\n",
      "Epoch 64/100\n",
      "108/108 - 0s - loss: 0.0619 - val_loss: 0.0397\n",
      "Epoch 65/100\n",
      "108/108 - 0s - loss: 0.0618 - val_loss: 0.0397\n",
      "Epoch 66/100\n",
      "108/108 - 0s - loss: 0.0617 - val_loss: 0.0396\n",
      "Epoch 67/100\n",
      "108/108 - 0s - loss: 0.0617 - val_loss: 0.0394\n",
      "Epoch 68/100\n",
      "108/108 - 0s - loss: 0.0616 - val_loss: 0.0395\n",
      "Epoch 69/100\n",
      "108/108 - 0s - loss: 0.0617 - val_loss: 0.0397\n",
      "Epoch 70/100\n",
      "108/108 - 0s - loss: 0.0616 - val_loss: 0.0396\n",
      "Epoch 71/100\n",
      "108/108 - 0s - loss: 0.0615 - val_loss: 0.0398\n",
      "Epoch 72/100\n",
      "108/108 - 0s - loss: 0.0615 - val_loss: 0.0395\n",
      "Epoch 73/100\n",
      "108/108 - 0s - loss: 0.0615 - val_loss: 0.0397\n",
      "Epoch 74/100\n",
      "108/108 - 0s - loss: 0.0614 - val_loss: 0.0393\n",
      "Epoch 75/100\n",
      "108/108 - 0s - loss: 0.0615 - val_loss: 0.0395\n",
      "Epoch 76/100\n",
      "108/108 - 0s - loss: 0.0614 - val_loss: 0.0397\n",
      "Epoch 77/100\n",
      "108/108 - 0s - loss: 0.0614 - val_loss: 0.0393\n",
      "Epoch 78/100\n",
      "108/108 - 0s - loss: 0.0613 - val_loss: 0.0394\n",
      "Epoch 79/100\n",
      "108/108 - 0s - loss: 0.0613 - val_loss: 0.0393\n",
      "Epoch 80/100\n",
      "108/108 - 0s - loss: 0.0613 - val_loss: 0.0397\n",
      "Epoch 81/100\n",
      "108/108 - 0s - loss: 0.0613 - val_loss: 0.0393\n",
      "Epoch 82/100\n",
      "108/108 - 0s - loss: 0.0612 - val_loss: 0.0396\n",
      "Epoch 83/100\n",
      "108/108 - 0s - loss: 0.0611 - val_loss: 0.0394\n",
      "Epoch 84/100\n",
      "108/108 - 0s - loss: 0.0612 - val_loss: 0.0393\n",
      "Epoch 85/100\n",
      "108/108 - 0s - loss: 0.0615 - val_loss: 0.0392\n",
      "Epoch 86/100\n",
      "108/108 - 0s - loss: 0.0612 - val_loss: 0.0393\n",
      "Epoch 87/100\n",
      "108/108 - 0s - loss: 0.0611 - val_loss: 0.0393\n",
      "Epoch 88/100\n",
      "108/108 - 0s - loss: 0.0610 - val_loss: 0.0399\n",
      "Epoch 89/100\n",
      "108/108 - 0s - loss: 0.0611 - val_loss: 0.0393\n",
      "Epoch 90/100\n",
      "108/108 - 0s - loss: 0.0610 - val_loss: 0.0394\n",
      "Epoch 91/100\n",
      "108/108 - 0s - loss: 0.0611 - val_loss: 0.0392\n",
      "Epoch 92/100\n",
      "108/108 - 0s - loss: 0.0610 - val_loss: 0.0394\n",
      "Epoch 93/100\n",
      "108/108 - 0s - loss: 0.0609 - val_loss: 0.0393\n",
      "Epoch 94/100\n",
      "108/108 - 0s - loss: 0.0610 - val_loss: 0.0392\n",
      "Epoch 95/100\n",
      "108/108 - 0s - loss: 0.0612 - val_loss: 0.0395\n",
      "Epoch 96/100\n",
      "108/108 - 0s - loss: 0.0610 - val_loss: 0.0396\n",
      "Epoch 97/100\n",
      "108/108 - 0s - loss: 0.0609 - val_loss: 0.0397\n",
      "Epoch 98/100\n",
      "108/108 - 0s - loss: 0.0610 - val_loss: 0.0394\n",
      "Epoch 99/100\n",
      "108/108 - 0s - loss: 0.0608 - val_loss: 0.0399\n",
      "Epoch 100/100\n",
      "108/108 - 0s - loss: 0.0609 - val_loss: 0.0393\n",
      "score: test score =  0.039271119982004166\n"
     ]
    },
    {
     "output_type": "stream",
     "name": "stderr",
     "text": [
      "WARNING:absl:Found untraced functions such as lstm_cell_layer_call_fn, lstm_cell_layer_call_and_return_conditional_losses, lstm_cell_layer_call_fn, lstm_cell_layer_call_and_return_conditional_losses, lstm_cell_layer_call_and_return_conditional_losses while saving (showing 5 of 5). These functions will not be directly callable after loading.\n"
     ]
    },
    {
     "output_type": "stream",
     "name": "stdout",
     "text": [
      "INFO:tensorflow:Assets written to: models/rnn-lstm-co/assets\n"
     ]
    },
    {
     "output_type": "stream",
     "name": "stderr",
     "text": [
      "INFO:tensorflow:Assets written to: models/rnn-lstm-co/assets\n"
     ]
    }
   ],
   "metadata": {}
  },
  {
   "cell_type": "code",
   "execution_count": 10,
   "source": [
    "plt.plot(history.history['loss'])"
   ],
   "outputs": [
    {
     "output_type": "execute_result",
     "data": {
      "text/plain": [
       "[<matplotlib.lines.Line2D at 0x7fa7e135fdf0>]"
      ]
     },
     "metadata": {},
     "execution_count": 10
    },
    {
     "output_type": "display_data",
     "data": {
      "text/plain": [
       "<Figure size 432x288 with 1 Axes>"
      ],
      "image/svg+xml": "<?xml version=\"1.0\" encoding=\"utf-8\" standalone=\"no\"?>\n<!DOCTYPE svg PUBLIC \"-//W3C//DTD SVG 1.1//EN\"\n  \"http://www.w3.org/Graphics/SVG/1.1/DTD/svg11.dtd\">\n<!-- Created with matplotlib (https://matplotlib.org/) -->\n<svg height=\"248.518125pt\" version=\"1.1\" viewBox=\"0 0 384.828125 248.518125\" width=\"384.828125pt\" xmlns=\"http://www.w3.org/2000/svg\" xmlns:xlink=\"http://www.w3.org/1999/xlink\">\n <metadata>\n  <rdf:RDF xmlns:cc=\"http://creativecommons.org/ns#\" xmlns:dc=\"http://purl.org/dc/elements/1.1/\" xmlns:rdf=\"http://www.w3.org/1999/02/22-rdf-syntax-ns#\">\n   <cc:Work>\n    <dc:type rdf:resource=\"http://purl.org/dc/dcmitype/StillImage\"/>\n    <dc:date>2021-10-03T12:39:50.977589</dc:date>\n    <dc:format>image/svg+xml</dc:format>\n    <dc:creator>\n     <cc:Agent>\n      <dc:title>Matplotlib v3.3.2, https://matplotlib.org/</dc:title>\n     </cc:Agent>\n    </dc:creator>\n   </cc:Work>\n  </rdf:RDF>\n </metadata>\n <defs>\n  <style type=\"text/css\">*{stroke-linecap:butt;stroke-linejoin:round;}</style>\n </defs>\n <g id=\"figure_1\">\n  <g id=\"patch_1\">\n   <path d=\"M 0 248.518125 \nL 384.828125 248.518125 \nL 384.828125 0 \nL 0 0 \nz\n\" style=\"fill:none;\"/>\n  </g>\n  <g id=\"axes_1\">\n   <g id=\"patch_2\">\n    <path d=\"M 42.828125 224.64 \nL 377.628125 224.64 \nL 377.628125 7.2 \nL 42.828125 7.2 \nz\n\" style=\"fill:#ffffff;\"/>\n   </g>\n   <g id=\"matplotlib.axis_1\">\n    <g id=\"xtick_1\">\n     <g id=\"line2d_1\">\n      <defs>\n       <path d=\"M 0 0 \nL 0 3.5 \n\" id=\"me2a1247530\" style=\"stroke:#000000;stroke-width:0.8;\"/>\n      </defs>\n      <g>\n       <use style=\"stroke:#000000;stroke-width:0.8;\" x=\"58.046307\" xlink:href=\"#me2a1247530\" y=\"224.64\"/>\n      </g>\n     </g>\n     <g id=\"text_1\">\n      <!-- 0 -->\n      <g transform=\"translate(54.865057 239.238437)scale(0.1 -0.1)\">\n       <defs>\n        <path d=\"M 31.78125 66.40625 \nQ 24.171875 66.40625 20.328125 58.90625 \nQ 16.5 51.421875 16.5 36.375 \nQ 16.5 21.390625 20.328125 13.890625 \nQ 24.171875 6.390625 31.78125 6.390625 \nQ 39.453125 6.390625 43.28125 13.890625 \nQ 47.125 21.390625 47.125 36.375 \nQ 47.125 51.421875 43.28125 58.90625 \nQ 39.453125 66.40625 31.78125 66.40625 \nz\nM 31.78125 74.21875 \nQ 44.046875 74.21875 50.515625 64.515625 \nQ 56.984375 54.828125 56.984375 36.375 \nQ 56.984375 17.96875 50.515625 8.265625 \nQ 44.046875 -1.421875 31.78125 -1.421875 \nQ 19.53125 -1.421875 13.0625 8.265625 \nQ 6.59375 17.96875 6.59375 36.375 \nQ 6.59375 54.828125 13.0625 64.515625 \nQ 19.53125 74.21875 31.78125 74.21875 \nz\n\" id=\"DejaVuSans-48\"/>\n       </defs>\n       <use xlink:href=\"#DejaVuSans-48\"/>\n      </g>\n     </g>\n    </g>\n    <g id=\"xtick_2\">\n     <g id=\"line2d_2\">\n      <g>\n       <use style=\"stroke:#000000;stroke-width:0.8;\" x=\"119.53391\" xlink:href=\"#me2a1247530\" y=\"224.64\"/>\n      </g>\n     </g>\n     <g id=\"text_2\">\n      <!-- 20 -->\n      <g transform=\"translate(113.17141 239.238437)scale(0.1 -0.1)\">\n       <defs>\n        <path d=\"M 19.1875 8.296875 \nL 53.609375 8.296875 \nL 53.609375 0 \nL 7.328125 0 \nL 7.328125 8.296875 \nQ 12.9375 14.109375 22.625 23.890625 \nQ 32.328125 33.6875 34.8125 36.53125 \nQ 39.546875 41.84375 41.421875 45.53125 \nQ 43.3125 49.21875 43.3125 52.78125 \nQ 43.3125 58.59375 39.234375 62.25 \nQ 35.15625 65.921875 28.609375 65.921875 \nQ 23.96875 65.921875 18.8125 64.3125 \nQ 13.671875 62.703125 7.8125 59.421875 \nL 7.8125 69.390625 \nQ 13.765625 71.78125 18.9375 73 \nQ 24.125 74.21875 28.421875 74.21875 \nQ 39.75 74.21875 46.484375 68.546875 \nQ 53.21875 62.890625 53.21875 53.421875 \nQ 53.21875 48.921875 51.53125 44.890625 \nQ 49.859375 40.875 45.40625 35.40625 \nQ 44.1875 33.984375 37.640625 27.21875 \nQ 31.109375 20.453125 19.1875 8.296875 \nz\n\" id=\"DejaVuSans-50\"/>\n       </defs>\n       <use xlink:href=\"#DejaVuSans-50\"/>\n       <use x=\"63.623047\" xlink:href=\"#DejaVuSans-48\"/>\n      </g>\n     </g>\n    </g>\n    <g id=\"xtick_3\">\n     <g id=\"line2d_3\">\n      <g>\n       <use style=\"stroke:#000000;stroke-width:0.8;\" x=\"181.021513\" xlink:href=\"#me2a1247530\" y=\"224.64\"/>\n      </g>\n     </g>\n     <g id=\"text_3\">\n      <!-- 40 -->\n      <g transform=\"translate(174.659013 239.238437)scale(0.1 -0.1)\">\n       <defs>\n        <path d=\"M 37.796875 64.3125 \nL 12.890625 25.390625 \nL 37.796875 25.390625 \nz\nM 35.203125 72.90625 \nL 47.609375 72.90625 \nL 47.609375 25.390625 \nL 58.015625 25.390625 \nL 58.015625 17.1875 \nL 47.609375 17.1875 \nL 47.609375 0 \nL 37.796875 0 \nL 37.796875 17.1875 \nL 4.890625 17.1875 \nL 4.890625 26.703125 \nz\n\" id=\"DejaVuSans-52\"/>\n       </defs>\n       <use xlink:href=\"#DejaVuSans-52\"/>\n       <use x=\"63.623047\" xlink:href=\"#DejaVuSans-48\"/>\n      </g>\n     </g>\n    </g>\n    <g id=\"xtick_4\">\n     <g id=\"line2d_4\">\n      <g>\n       <use style=\"stroke:#000000;stroke-width:0.8;\" x=\"242.509117\" xlink:href=\"#me2a1247530\" y=\"224.64\"/>\n      </g>\n     </g>\n     <g id=\"text_4\">\n      <!-- 60 -->\n      <g transform=\"translate(236.146617 239.238437)scale(0.1 -0.1)\">\n       <defs>\n        <path d=\"M 33.015625 40.375 \nQ 26.375 40.375 22.484375 35.828125 \nQ 18.609375 31.296875 18.609375 23.390625 \nQ 18.609375 15.53125 22.484375 10.953125 \nQ 26.375 6.390625 33.015625 6.390625 \nQ 39.65625 6.390625 43.53125 10.953125 \nQ 47.40625 15.53125 47.40625 23.390625 \nQ 47.40625 31.296875 43.53125 35.828125 \nQ 39.65625 40.375 33.015625 40.375 \nz\nM 52.59375 71.296875 \nL 52.59375 62.3125 \nQ 48.875 64.0625 45.09375 64.984375 \nQ 41.3125 65.921875 37.59375 65.921875 \nQ 27.828125 65.921875 22.671875 59.328125 \nQ 17.53125 52.734375 16.796875 39.40625 \nQ 19.671875 43.65625 24.015625 45.921875 \nQ 28.375 48.1875 33.59375 48.1875 \nQ 44.578125 48.1875 50.953125 41.515625 \nQ 57.328125 34.859375 57.328125 23.390625 \nQ 57.328125 12.15625 50.6875 5.359375 \nQ 44.046875 -1.421875 33.015625 -1.421875 \nQ 20.359375 -1.421875 13.671875 8.265625 \nQ 6.984375 17.96875 6.984375 36.375 \nQ 6.984375 53.65625 15.1875 63.9375 \nQ 23.390625 74.21875 37.203125 74.21875 \nQ 40.921875 74.21875 44.703125 73.484375 \nQ 48.484375 72.75 52.59375 71.296875 \nz\n\" id=\"DejaVuSans-54\"/>\n       </defs>\n       <use xlink:href=\"#DejaVuSans-54\"/>\n       <use x=\"63.623047\" xlink:href=\"#DejaVuSans-48\"/>\n      </g>\n     </g>\n    </g>\n    <g id=\"xtick_5\">\n     <g id=\"line2d_5\">\n      <g>\n       <use style=\"stroke:#000000;stroke-width:0.8;\" x=\"303.99672\" xlink:href=\"#me2a1247530\" y=\"224.64\"/>\n      </g>\n     </g>\n     <g id=\"text_5\">\n      <!-- 80 -->\n      <g transform=\"translate(297.63422 239.238437)scale(0.1 -0.1)\">\n       <defs>\n        <path d=\"M 31.78125 34.625 \nQ 24.75 34.625 20.71875 30.859375 \nQ 16.703125 27.09375 16.703125 20.515625 \nQ 16.703125 13.921875 20.71875 10.15625 \nQ 24.75 6.390625 31.78125 6.390625 \nQ 38.8125 6.390625 42.859375 10.171875 \nQ 46.921875 13.96875 46.921875 20.515625 \nQ 46.921875 27.09375 42.890625 30.859375 \nQ 38.875 34.625 31.78125 34.625 \nz\nM 21.921875 38.8125 \nQ 15.578125 40.375 12.03125 44.71875 \nQ 8.5 49.078125 8.5 55.328125 \nQ 8.5 64.0625 14.71875 69.140625 \nQ 20.953125 74.21875 31.78125 74.21875 \nQ 42.671875 74.21875 48.875 69.140625 \nQ 55.078125 64.0625 55.078125 55.328125 \nQ 55.078125 49.078125 51.53125 44.71875 \nQ 48 40.375 41.703125 38.8125 \nQ 48.828125 37.15625 52.796875 32.3125 \nQ 56.78125 27.484375 56.78125 20.515625 \nQ 56.78125 9.90625 50.3125 4.234375 \nQ 43.84375 -1.421875 31.78125 -1.421875 \nQ 19.734375 -1.421875 13.25 4.234375 \nQ 6.78125 9.90625 6.78125 20.515625 \nQ 6.78125 27.484375 10.78125 32.3125 \nQ 14.796875 37.15625 21.921875 38.8125 \nz\nM 18.3125 54.390625 \nQ 18.3125 48.734375 21.84375 45.5625 \nQ 25.390625 42.390625 31.78125 42.390625 \nQ 38.140625 42.390625 41.71875 45.5625 \nQ 45.3125 48.734375 45.3125 54.390625 \nQ 45.3125 60.0625 41.71875 63.234375 \nQ 38.140625 66.40625 31.78125 66.40625 \nQ 25.390625 66.40625 21.84375 63.234375 \nQ 18.3125 60.0625 18.3125 54.390625 \nz\n\" id=\"DejaVuSans-56\"/>\n       </defs>\n       <use xlink:href=\"#DejaVuSans-56\"/>\n       <use x=\"63.623047\" xlink:href=\"#DejaVuSans-48\"/>\n      </g>\n     </g>\n    </g>\n    <g id=\"xtick_6\">\n     <g id=\"line2d_6\">\n      <g>\n       <use style=\"stroke:#000000;stroke-width:0.8;\" x=\"365.484323\" xlink:href=\"#me2a1247530\" y=\"224.64\"/>\n      </g>\n     </g>\n     <g id=\"text_6\">\n      <!-- 100 -->\n      <g transform=\"translate(355.940573 239.238437)scale(0.1 -0.1)\">\n       <defs>\n        <path d=\"M 12.40625 8.296875 \nL 28.515625 8.296875 \nL 28.515625 63.921875 \nL 10.984375 60.40625 \nL 10.984375 69.390625 \nL 28.421875 72.90625 \nL 38.28125 72.90625 \nL 38.28125 8.296875 \nL 54.390625 8.296875 \nL 54.390625 0 \nL 12.40625 0 \nz\n\" id=\"DejaVuSans-49\"/>\n       </defs>\n       <use xlink:href=\"#DejaVuSans-49\"/>\n       <use x=\"63.623047\" xlink:href=\"#DejaVuSans-48\"/>\n       <use x=\"127.246094\" xlink:href=\"#DejaVuSans-48\"/>\n      </g>\n     </g>\n    </g>\n   </g>\n   <g id=\"matplotlib.axis_2\">\n    <g id=\"ytick_1\">\n     <g id=\"line2d_7\">\n      <defs>\n       <path d=\"M 0 0 \nL -3.5 0 \n\" id=\"m9dcc18e92b\" style=\"stroke:#000000;stroke-width:0.8;\"/>\n      </defs>\n      <g>\n       <use style=\"stroke:#000000;stroke-width:0.8;\" x=\"42.828125\" xlink:href=\"#m9dcc18e92b\" y=\"218.666929\"/>\n      </g>\n     </g>\n     <g id=\"text_7\">\n      <!-- 0.060 -->\n      <g transform=\"translate(7.2 222.466148)scale(0.1 -0.1)\">\n       <defs>\n        <path d=\"M 10.6875 12.40625 \nL 21 12.40625 \nL 21 0 \nL 10.6875 0 \nz\n\" id=\"DejaVuSans-46\"/>\n       </defs>\n       <use xlink:href=\"#DejaVuSans-48\"/>\n       <use x=\"63.623047\" xlink:href=\"#DejaVuSans-46\"/>\n       <use x=\"95.410156\" xlink:href=\"#DejaVuSans-48\"/>\n       <use x=\"159.033203\" xlink:href=\"#DejaVuSans-54\"/>\n       <use x=\"222.65625\" xlink:href=\"#DejaVuSans-48\"/>\n      </g>\n     </g>\n    </g>\n    <g id=\"ytick_2\">\n     <g id=\"line2d_8\">\n      <g>\n       <use style=\"stroke:#000000;stroke-width:0.8;\" x=\"42.828125\" xlink:href=\"#m9dcc18e92b\" y=\"193.088809\"/>\n      </g>\n     </g>\n     <g id=\"text_8\">\n      <!-- 0.065 -->\n      <g transform=\"translate(7.2 196.888027)scale(0.1 -0.1)\">\n       <defs>\n        <path d=\"M 10.796875 72.90625 \nL 49.515625 72.90625 \nL 49.515625 64.59375 \nL 19.828125 64.59375 \nL 19.828125 46.734375 \nQ 21.96875 47.46875 24.109375 47.828125 \nQ 26.265625 48.1875 28.421875 48.1875 \nQ 40.625 48.1875 47.75 41.5 \nQ 54.890625 34.8125 54.890625 23.390625 \nQ 54.890625 11.625 47.5625 5.09375 \nQ 40.234375 -1.421875 26.90625 -1.421875 \nQ 22.3125 -1.421875 17.546875 -0.640625 \nQ 12.796875 0.140625 7.71875 1.703125 \nL 7.71875 11.625 \nQ 12.109375 9.234375 16.796875 8.0625 \nQ 21.484375 6.890625 26.703125 6.890625 \nQ 35.15625 6.890625 40.078125 11.328125 \nQ 45.015625 15.765625 45.015625 23.390625 \nQ 45.015625 31 40.078125 35.4375 \nQ 35.15625 39.890625 26.703125 39.890625 \nQ 22.75 39.890625 18.8125 39.015625 \nQ 14.890625 38.140625 10.796875 36.28125 \nz\n\" id=\"DejaVuSans-53\"/>\n       </defs>\n       <use xlink:href=\"#DejaVuSans-48\"/>\n       <use x=\"63.623047\" xlink:href=\"#DejaVuSans-46\"/>\n       <use x=\"95.410156\" xlink:href=\"#DejaVuSans-48\"/>\n       <use x=\"159.033203\" xlink:href=\"#DejaVuSans-54\"/>\n       <use x=\"222.65625\" xlink:href=\"#DejaVuSans-53\"/>\n      </g>\n     </g>\n    </g>\n    <g id=\"ytick_3\">\n     <g id=\"line2d_9\">\n      <g>\n       <use style=\"stroke:#000000;stroke-width:0.8;\" x=\"42.828125\" xlink:href=\"#m9dcc18e92b\" y=\"167.510688\"/>\n      </g>\n     </g>\n     <g id=\"text_9\">\n      <!-- 0.070 -->\n      <g transform=\"translate(7.2 171.309907)scale(0.1 -0.1)\">\n       <defs>\n        <path d=\"M 8.203125 72.90625 \nL 55.078125 72.90625 \nL 55.078125 68.703125 \nL 28.609375 0 \nL 18.3125 0 \nL 43.21875 64.59375 \nL 8.203125 64.59375 \nz\n\" id=\"DejaVuSans-55\"/>\n       </defs>\n       <use xlink:href=\"#DejaVuSans-48\"/>\n       <use x=\"63.623047\" xlink:href=\"#DejaVuSans-46\"/>\n       <use x=\"95.410156\" xlink:href=\"#DejaVuSans-48\"/>\n       <use x=\"159.033203\" xlink:href=\"#DejaVuSans-55\"/>\n       <use x=\"222.65625\" xlink:href=\"#DejaVuSans-48\"/>\n      </g>\n     </g>\n    </g>\n    <g id=\"ytick_4\">\n     <g id=\"line2d_10\">\n      <g>\n       <use style=\"stroke:#000000;stroke-width:0.8;\" x=\"42.828125\" xlink:href=\"#m9dcc18e92b\" y=\"141.932568\"/>\n      </g>\n     </g>\n     <g id=\"text_10\">\n      <!-- 0.075 -->\n      <g transform=\"translate(7.2 145.731786)scale(0.1 -0.1)\">\n       <use xlink:href=\"#DejaVuSans-48\"/>\n       <use x=\"63.623047\" xlink:href=\"#DejaVuSans-46\"/>\n       <use x=\"95.410156\" xlink:href=\"#DejaVuSans-48\"/>\n       <use x=\"159.033203\" xlink:href=\"#DejaVuSans-55\"/>\n       <use x=\"222.65625\" xlink:href=\"#DejaVuSans-53\"/>\n      </g>\n     </g>\n    </g>\n    <g id=\"ytick_5\">\n     <g id=\"line2d_11\">\n      <g>\n       <use style=\"stroke:#000000;stroke-width:0.8;\" x=\"42.828125\" xlink:href=\"#m9dcc18e92b\" y=\"116.354447\"/>\n      </g>\n     </g>\n     <g id=\"text_11\">\n      <!-- 0.080 -->\n      <g transform=\"translate(7.2 120.153666)scale(0.1 -0.1)\">\n       <use xlink:href=\"#DejaVuSans-48\"/>\n       <use x=\"63.623047\" xlink:href=\"#DejaVuSans-46\"/>\n       <use x=\"95.410156\" xlink:href=\"#DejaVuSans-48\"/>\n       <use x=\"159.033203\" xlink:href=\"#DejaVuSans-56\"/>\n       <use x=\"222.65625\" xlink:href=\"#DejaVuSans-48\"/>\n      </g>\n     </g>\n    </g>\n    <g id=\"ytick_6\">\n     <g id=\"line2d_12\">\n      <g>\n       <use style=\"stroke:#000000;stroke-width:0.8;\" x=\"42.828125\" xlink:href=\"#m9dcc18e92b\" y=\"90.776326\"/>\n      </g>\n     </g>\n     <g id=\"text_12\">\n      <!-- 0.085 -->\n      <g transform=\"translate(7.2 94.575545)scale(0.1 -0.1)\">\n       <use xlink:href=\"#DejaVuSans-48\"/>\n       <use x=\"63.623047\" xlink:href=\"#DejaVuSans-46\"/>\n       <use x=\"95.410156\" xlink:href=\"#DejaVuSans-48\"/>\n       <use x=\"159.033203\" xlink:href=\"#DejaVuSans-56\"/>\n       <use x=\"222.65625\" xlink:href=\"#DejaVuSans-53\"/>\n      </g>\n     </g>\n    </g>\n    <g id=\"ytick_7\">\n     <g id=\"line2d_13\">\n      <g>\n       <use style=\"stroke:#000000;stroke-width:0.8;\" x=\"42.828125\" xlink:href=\"#m9dcc18e92b\" y=\"65.198206\"/>\n      </g>\n     </g>\n     <g id=\"text_13\">\n      <!-- 0.090 -->\n      <g transform=\"translate(7.2 68.997425)scale(0.1 -0.1)\">\n       <defs>\n        <path d=\"M 10.984375 1.515625 \nL 10.984375 10.5 \nQ 14.703125 8.734375 18.5 7.8125 \nQ 22.3125 6.890625 25.984375 6.890625 \nQ 35.75 6.890625 40.890625 13.453125 \nQ 46.046875 20.015625 46.78125 33.40625 \nQ 43.953125 29.203125 39.59375 26.953125 \nQ 35.25 24.703125 29.984375 24.703125 \nQ 19.046875 24.703125 12.671875 31.3125 \nQ 6.296875 37.9375 6.296875 49.421875 \nQ 6.296875 60.640625 12.9375 67.421875 \nQ 19.578125 74.21875 30.609375 74.21875 \nQ 43.265625 74.21875 49.921875 64.515625 \nQ 56.59375 54.828125 56.59375 36.375 \nQ 56.59375 19.140625 48.40625 8.859375 \nQ 40.234375 -1.421875 26.421875 -1.421875 \nQ 22.703125 -1.421875 18.890625 -0.6875 \nQ 15.09375 0.046875 10.984375 1.515625 \nz\nM 30.609375 32.421875 \nQ 37.25 32.421875 41.125 36.953125 \nQ 45.015625 41.5 45.015625 49.421875 \nQ 45.015625 57.28125 41.125 61.84375 \nQ 37.25 66.40625 30.609375 66.40625 \nQ 23.96875 66.40625 20.09375 61.84375 \nQ 16.21875 57.28125 16.21875 49.421875 \nQ 16.21875 41.5 20.09375 36.953125 \nQ 23.96875 32.421875 30.609375 32.421875 \nz\n\" id=\"DejaVuSans-57\"/>\n       </defs>\n       <use xlink:href=\"#DejaVuSans-48\"/>\n       <use x=\"63.623047\" xlink:href=\"#DejaVuSans-46\"/>\n       <use x=\"95.410156\" xlink:href=\"#DejaVuSans-48\"/>\n       <use x=\"159.033203\" xlink:href=\"#DejaVuSans-57\"/>\n       <use x=\"222.65625\" xlink:href=\"#DejaVuSans-48\"/>\n      </g>\n     </g>\n    </g>\n    <g id=\"ytick_8\">\n     <g id=\"line2d_14\">\n      <g>\n       <use style=\"stroke:#000000;stroke-width:0.8;\" x=\"42.828125\" xlink:href=\"#m9dcc18e92b\" y=\"39.620085\"/>\n      </g>\n     </g>\n     <g id=\"text_14\">\n      <!-- 0.095 -->\n      <g transform=\"translate(7.2 43.419304)scale(0.1 -0.1)\">\n       <use xlink:href=\"#DejaVuSans-48\"/>\n       <use x=\"63.623047\" xlink:href=\"#DejaVuSans-46\"/>\n       <use x=\"95.410156\" xlink:href=\"#DejaVuSans-48\"/>\n       <use x=\"159.033203\" xlink:href=\"#DejaVuSans-57\"/>\n       <use x=\"222.65625\" xlink:href=\"#DejaVuSans-53\"/>\n      </g>\n     </g>\n    </g>\n    <g id=\"ytick_9\">\n     <g id=\"line2d_15\">\n      <g>\n       <use style=\"stroke:#000000;stroke-width:0.8;\" x=\"42.828125\" xlink:href=\"#m9dcc18e92b\" y=\"14.041965\"/>\n      </g>\n     </g>\n     <g id=\"text_15\">\n      <!-- 0.100 -->\n      <g transform=\"translate(7.2 17.841184)scale(0.1 -0.1)\">\n       <use xlink:href=\"#DejaVuSans-48\"/>\n       <use x=\"63.623047\" xlink:href=\"#DejaVuSans-46\"/>\n       <use x=\"95.410156\" xlink:href=\"#DejaVuSans-49\"/>\n       <use x=\"159.033203\" xlink:href=\"#DejaVuSans-48\"/>\n       <use x=\"222.65625\" xlink:href=\"#DejaVuSans-48\"/>\n      </g>\n     </g>\n    </g>\n   </g>\n   <g id=\"line2d_16\">\n    <path clip-path=\"url(#pc4a3265340)\" d=\"M 58.046307 17.083636 \nL 61.120687 189.63867 \nL 64.195067 196.5849 \nL 67.269447 197.184324 \nL 70.343827 197.356258 \nL 73.418208 197.387321 \nL 76.492588 197.484894 \nL 79.566968 197.36472 \nL 82.641348 197.816947 \nL 85.715728 198.321695 \nL 88.790108 198.255262 \nL 91.864489 198.391178 \nL 94.938869 198.586361 \nL 98.013249 198.18132 \nL 101.087629 198.748614 \nL 104.162009 198.596004 \nL 107.236389 199.033062 \nL 110.31077 199.523098 \nL 113.38515 199.299939 \nL 116.45953 198.727537 \nL 119.53391 199.835331 \nL 122.60829 199.939993 \nL 125.68267 199.82363 \nL 128.757051 200.264689 \nL 131.831431 200.392335 \nL 134.905811 201.154965 \nL 137.980191 200.683452 \nL 141.054571 200.750686 \nL 144.128951 201.501806 \nL 147.203332 200.325139 \nL 150.277712 201.530849 \nL 153.352092 201.687575 \nL 156.426472 201.872697 \nL 159.500852 202.126843 \nL 162.575232 202.242254 \nL 165.649613 203.073185 \nL 168.723993 202.550065 \nL 171.798373 203.2742 \nL 174.872753 203.299432 \nL 177.947133 202.789042 \nL 181.021513 203.894283 \nL 184.095894 204.042471 \nL 187.170274 204.633054 \nL 190.244654 203.56608 \nL 193.319034 204.316857 \nL 196.393414 204.949898 \nL 199.467794 205.31755 \nL 202.542175 205.848292 \nL 205.616555 205.429034 \nL 208.690935 205.444509 \nL 211.765315 206.530425 \nL 214.839695 206.813405 \nL 217.914075 206.893827 \nL 220.988456 206.188044 \nL 224.062836 207.330065 \nL 227.137216 207.423673 \nL 230.211596 207.992187 \nL 233.285976 206.58956 \nL 236.360356 208.068073 \nL 239.434737 208.362621 \nL 242.509117 208.793428 \nL 245.583497 208.847893 \nL 248.657877 209.296804 \nL 251.732257 208.838422 \nL 254.806637 209.531341 \nL 257.881018 209.894571 \nL 260.955398 209.96211 \nL 264.029778 210.307445 \nL 267.104158 210.125525 \nL 270.178538 210.406009 \nL 273.252918 211.118976 \nL 276.327299 210.98569 \nL 279.401679 211.008006 \nL 282.476059 211.720973 \nL 285.550439 211.075621 \nL 288.624819 211.459585 \nL 291.699199 211.433877 \nL 294.77358 212.142271 \nL 297.84796 212.096552 \nL 300.92234 211.761508 \nL 303.99672 211.768845 \nL 307.0711 212.700722 \nL 310.14548 212.807976 \nL 313.219861 212.608771 \nL 316.294241 210.895054 \nL 319.368621 212.29589 \nL 322.443001 212.940328 \nL 325.517381 213.613904 \nL 328.591761 212.910752 \nL 331.666142 213.504669 \nL 334.740522 213.182583 \nL 337.814902 213.561783 \nL 340.889282 213.925794 \nL 343.963662 213.601422 \nL 347.038042 212.72765 \nL 350.112423 213.592656 \nL 353.186803 214.117548 \nL 356.261183 213.619145 \nL 359.335563 214.756364 \nL 362.409943 214.015611 \n\" style=\"fill:none;stroke:#1f77b4;stroke-linecap:square;stroke-width:1.5;\"/>\n   </g>\n   <g id=\"patch_3\">\n    <path d=\"M 42.828125 224.64 \nL 42.828125 7.2 \n\" style=\"fill:none;stroke:#000000;stroke-linecap:square;stroke-linejoin:miter;stroke-width:0.8;\"/>\n   </g>\n   <g id=\"patch_4\">\n    <path d=\"M 377.628125 224.64 \nL 377.628125 7.2 \n\" style=\"fill:none;stroke:#000000;stroke-linecap:square;stroke-linejoin:miter;stroke-width:0.8;\"/>\n   </g>\n   <g id=\"patch_5\">\n    <path d=\"M 42.828125 224.64 \nL 377.628125 224.64 \n\" style=\"fill:none;stroke:#000000;stroke-linecap:square;stroke-linejoin:miter;stroke-width:0.8;\"/>\n   </g>\n   <g id=\"patch_6\">\n    <path d=\"M 42.828125 7.2 \nL 377.628125 7.2 \n\" style=\"fill:none;stroke:#000000;stroke-linecap:square;stroke-linejoin:miter;stroke-width:0.8;\"/>\n   </g>\n  </g>\n </g>\n <defs>\n  <clipPath id=\"pc4a3265340\">\n   <rect height=\"217.44\" width=\"334.8\" x=\"42.828125\" y=\"7.2\"/>\n  </clipPath>\n </defs>\n</svg>\n",
      "image/png": "[encoded data removed]"
     },
     "metadata": {
      "needs_background": "light"
     }
    }
   ],
   "metadata": {}
  },
  {
   "cell_type": "code",
   "execution_count": 11,
   "source": [
    "# make predictions\n",
    "trainPredict = model.predict(trainX)\n",
    "testPredict = model.predict(testX)"
   ],
   "outputs": [],
   "metadata": {}
  },
  {
   "cell_type": "code",
   "execution_count": 12,
   "source": [
    "# invert predictions\n",
    "trainPredict = scaler.inverse_transform(trainPredict)\n",
    "trainY = scaler.inverse_transform([trainY])\n",
    "testPredict = scaler.inverse_transform(testPredict)\n",
    "testY = scaler.inverse_transform([testY])"
   ],
   "outputs": [],
   "metadata": {}
  },
  {
   "cell_type": "code",
   "execution_count": 13,
   "source": [
    "test_Y = testY[0][len(testY[0])-31:len(testY[0])-1]\n",
    "test_Ypred = testPredict[len(testPredict)-31:len(testPredict)-1]\n",
    "plt.subplots(figsize=(10, 5))\n",
    "plt.title(product_name.upper() + \" - Forecast vs Actual\", fontsize=14)\n",
    "plt.plot(pd.Series(numpy.ravel(test_Y)), \"bs-\", markersize=3, label=\"Actual\")\n",
    "plt.plot(pd.Series(numpy.ravel(test_Ypred)), \"ro-\", markersize=3, label=\"Forecast\")\n",
    "plt.legend(loc=\"best\")\n",
    "plt.xlabel(\"Days\")\n",
    "plt.ylim([-0.2,0.2])\n",
    "plt.show()"
   ],
   "outputs": [
    {
     "output_type": "display_data",
     "data": {
      "text/plain": [
       "<Figure size 720x360 with 1 Axes>"
      ],
      "image/svg+xml": "<?xml version=\"1.0\" encoding=\"utf-8\" standalone=\"no\"?>\n<!DOCTYPE svg PUBLIC \"-//W3C//DTD SVG 1.1//EN\"\n  \"http://www.w3.org/Graphics/SVG/1.1/DTD/svg11.dtd\">\n<!-- Created with matplotlib (https://matplotlib.org/) -->\n<svg height=\"333.194062pt\" version=\"1.1\" viewBox=\"0 0 610.045312 333.194062\" width=\"610.045312pt\" xmlns=\"http://www.w3.org/2000/svg\" xmlns:xlink=\"http://www.w3.org/1999/xlink\">\n <metadata>\n  <rdf:RDF xmlns:cc=\"http://creativecommons.org/ns#\" xmlns:dc=\"http://purl.org/dc/elements/1.1/\" xmlns:rdf=\"http://www.w3.org/1999/02/22-rdf-syntax-ns#\">\n   <cc:Work>\n    <dc:type rdf:resource=\"http://purl.org/dc/dcmitype/StillImage\"/>\n    <dc:date>2021-10-03T12:39:52.892022</dc:date>\n    <dc:format>image/svg+xml</dc:format>\n    <dc:creator>\n     <cc:Agent>\n      <dc:title>Matplotlib v3.3.2, https://matplotlib.org/</dc:title>\n     </cc:Agent>\n    </dc:creator>\n   </cc:Work>\n  </rdf:RDF>\n </metadata>\n <defs>\n  <style type=\"text/css\">*{stroke-linecap:butt;stroke-linejoin:round;}</style>\n </defs>\n <g id=\"figure_1\">\n  <g id=\"patch_1\">\n   <path d=\"M 0 333.194062 \nL 610.045312 333.194062 \nL 610.045312 0 \nL 0 0 \nz\n\" style=\"fill:none;\"/>\n  </g>\n  <g id=\"axes_1\">\n   <g id=\"patch_2\">\n    <path d=\"M 44.845313 295.637812 \nL 602.845312 295.637812 \nL 602.845312 23.837813 \nL 44.845313 23.837813 \nz\n\" style=\"fill:#ffffff;\"/>\n   </g>\n   <g id=\"matplotlib.axis_1\">\n    <g id=\"xtick_1\">\n     <g id=\"line2d_1\">\n      <defs>\n       <path d=\"M 0 0 \nL 0 3.5 \n\" id=\"m1952c993e5\" style=\"stroke:#000000;stroke-width:0.8;\"/>\n      </defs>\n      <g>\n       <use style=\"stroke:#000000;stroke-width:0.8;\" x=\"70.208949\" xlink:href=\"#m1952c993e5\" y=\"295.637812\"/>\n      </g>\n     </g>\n     <g id=\"text_1\">\n      <!-- 0 -->\n      <g transform=\"translate(67.027699 310.23625)scale(0.1 -0.1)\">\n       <defs>\n        <path d=\"M 31.78125 66.40625 \nQ 24.171875 66.40625 20.328125 58.90625 \nQ 16.5 51.421875 16.5 36.375 \nQ 16.5 21.390625 20.328125 13.890625 \nQ 24.171875 6.390625 31.78125 6.390625 \nQ 39.453125 6.390625 43.28125 13.890625 \nQ 47.125 21.390625 47.125 36.375 \nQ 47.125 51.421875 43.28125 58.90625 \nQ 39.453125 66.40625 31.78125 66.40625 \nz\nM 31.78125 74.21875 \nQ 44.046875 74.21875 50.515625 64.515625 \nQ 56.984375 54.828125 56.984375 36.375 \nQ 56.984375 17.96875 50.515625 8.265625 \nQ 44.046875 -1.421875 31.78125 -1.421875 \nQ 19.53125 -1.421875 13.0625 8.265625 \nQ 6.59375 17.96875 6.59375 36.375 \nQ 6.59375 54.828125 13.0625 64.515625 \nQ 19.53125 74.21875 31.78125 74.21875 \nz\n\" id=\"DejaVuSans-48\"/>\n       </defs>\n       <use xlink:href=\"#DejaVuSans-48\"/>\n      </g>\n     </g>\n    </g>\n    <g id=\"xtick_2\">\n     <g id=\"line2d_2\">\n      <g>\n       <use style=\"stroke:#000000;stroke-width:0.8;\" x=\"157.669764\" xlink:href=\"#m1952c993e5\" y=\"295.637812\"/>\n      </g>\n     </g>\n     <g id=\"text_2\">\n      <!-- 5 -->\n      <g transform=\"translate(154.488514 310.23625)scale(0.1 -0.1)\">\n       <defs>\n        <path d=\"M 10.796875 72.90625 \nL 49.515625 72.90625 \nL 49.515625 64.59375 \nL 19.828125 64.59375 \nL 19.828125 46.734375 \nQ 21.96875 47.46875 24.109375 47.828125 \nQ 26.265625 48.1875 28.421875 48.1875 \nQ 40.625 48.1875 47.75 41.5 \nQ 54.890625 34.8125 54.890625 23.390625 \nQ 54.890625 11.625 47.5625 5.09375 \nQ 40.234375 -1.421875 26.90625 -1.421875 \nQ 22.3125 -1.421875 17.546875 -0.640625 \nQ 12.796875 0.140625 7.71875 1.703125 \nL 7.71875 11.625 \nQ 12.109375 9.234375 16.796875 8.0625 \nQ 21.484375 6.890625 26.703125 6.890625 \nQ 35.15625 6.890625 40.078125 11.328125 \nQ 45.015625 15.765625 45.015625 23.390625 \nQ 45.015625 31 40.078125 35.4375 \nQ 35.15625 39.890625 26.703125 39.890625 \nQ 22.75 39.890625 18.8125 39.015625 \nQ 14.890625 38.140625 10.796875 36.28125 \nz\n\" id=\"DejaVuSans-53\"/>\n       </defs>\n       <use xlink:href=\"#DejaVuSans-53\"/>\n      </g>\n     </g>\n    </g>\n    <g id=\"xtick_3\">\n     <g id=\"line2d_3\">\n      <g>\n       <use style=\"stroke:#000000;stroke-width:0.8;\" x=\"245.130579\" xlink:href=\"#m1952c993e5\" y=\"295.637812\"/>\n      </g>\n     </g>\n     <g id=\"text_3\">\n      <!-- 10 -->\n      <g transform=\"translate(238.768079 310.23625)scale(0.1 -0.1)\">\n       <defs>\n        <path d=\"M 12.40625 8.296875 \nL 28.515625 8.296875 \nL 28.515625 63.921875 \nL 10.984375 60.40625 \nL 10.984375 69.390625 \nL 28.421875 72.90625 \nL 38.28125 72.90625 \nL 38.28125 8.296875 \nL 54.390625 8.296875 \nL 54.390625 0 \nL 12.40625 0 \nz\n\" id=\"DejaVuSans-49\"/>\n       </defs>\n       <use xlink:href=\"#DejaVuSans-49\"/>\n       <use x=\"63.623047\" xlink:href=\"#DejaVuSans-48\"/>\n      </g>\n     </g>\n    </g>\n    <g id=\"xtick_4\">\n     <g id=\"line2d_4\">\n      <g>\n       <use style=\"stroke:#000000;stroke-width:0.8;\" x=\"332.591394\" xlink:href=\"#m1952c993e5\" y=\"295.637812\"/>\n      </g>\n     </g>\n     <g id=\"text_4\">\n      <!-- 15 -->\n      <g transform=\"translate(326.228894 310.23625)scale(0.1 -0.1)\">\n       <use xlink:href=\"#DejaVuSans-49\"/>\n       <use x=\"63.623047\" xlink:href=\"#DejaVuSans-53\"/>\n      </g>\n     </g>\n    </g>\n    <g id=\"xtick_5\">\n     <g id=\"line2d_5\">\n      <g>\n       <use style=\"stroke:#000000;stroke-width:0.8;\" x=\"420.052209\" xlink:href=\"#m1952c993e5\" y=\"295.637812\"/>\n      </g>\n     </g>\n     <g id=\"text_5\">\n      <!-- 20 -->\n      <g transform=\"translate(413.689709 310.23625)scale(0.1 -0.1)\">\n       <defs>\n        <path d=\"M 19.1875 8.296875 \nL 53.609375 8.296875 \nL 53.609375 0 \nL 7.328125 0 \nL 7.328125 8.296875 \nQ 12.9375 14.109375 22.625 23.890625 \nQ 32.328125 33.6875 34.8125 36.53125 \nQ 39.546875 41.84375 41.421875 45.53125 \nQ 43.3125 49.21875 43.3125 52.78125 \nQ 43.3125 58.59375 39.234375 62.25 \nQ 35.15625 65.921875 28.609375 65.921875 \nQ 23.96875 65.921875 18.8125 64.3125 \nQ 13.671875 62.703125 7.8125 59.421875 \nL 7.8125 69.390625 \nQ 13.765625 71.78125 18.9375 73 \nQ 24.125 74.21875 28.421875 74.21875 \nQ 39.75 74.21875 46.484375 68.546875 \nQ 53.21875 62.890625 53.21875 53.421875 \nQ 53.21875 48.921875 51.53125 44.890625 \nQ 49.859375 40.875 45.40625 35.40625 \nQ 44.1875 33.984375 37.640625 27.21875 \nQ 31.109375 20.453125 19.1875 8.296875 \nz\n\" id=\"DejaVuSans-50\"/>\n       </defs>\n       <use xlink:href=\"#DejaVuSans-50\"/>\n       <use x=\"63.623047\" xlink:href=\"#DejaVuSans-48\"/>\n      </g>\n     </g>\n    </g>\n    <g id=\"xtick_6\">\n     <g id=\"line2d_6\">\n      <g>\n       <use style=\"stroke:#000000;stroke-width:0.8;\" x=\"507.513024\" xlink:href=\"#m1952c993e5\" y=\"295.637812\"/>\n      </g>\n     </g>\n     <g id=\"text_6\">\n      <!-- 25 -->\n      <g transform=\"translate(501.150524 310.23625)scale(0.1 -0.1)\">\n       <use xlink:href=\"#DejaVuSans-50\"/>\n       <use x=\"63.623047\" xlink:href=\"#DejaVuSans-53\"/>\n      </g>\n     </g>\n    </g>\n    <g id=\"xtick_7\">\n     <g id=\"line2d_7\">\n      <g>\n       <use style=\"stroke:#000000;stroke-width:0.8;\" x=\"594.973839\" xlink:href=\"#m1952c993e5\" y=\"295.637812\"/>\n      </g>\n     </g>\n     <g id=\"text_7\">\n      <!-- 30 -->\n      <g transform=\"translate(588.611339 310.23625)scale(0.1 -0.1)\">\n       <defs>\n        <path d=\"M 40.578125 39.3125 \nQ 47.65625 37.796875 51.625 33 \nQ 55.609375 28.21875 55.609375 21.1875 \nQ 55.609375 10.40625 48.1875 4.484375 \nQ 40.765625 -1.421875 27.09375 -1.421875 \nQ 22.515625 -1.421875 17.65625 -0.515625 \nQ 12.796875 0.390625 7.625 2.203125 \nL 7.625 11.71875 \nQ 11.71875 9.328125 16.59375 8.109375 \nQ 21.484375 6.890625 26.8125 6.890625 \nQ 36.078125 6.890625 40.9375 10.546875 \nQ 45.796875 14.203125 45.796875 21.1875 \nQ 45.796875 27.640625 41.28125 31.265625 \nQ 36.765625 34.90625 28.71875 34.90625 \nL 20.21875 34.90625 \nL 20.21875 43.015625 \nL 29.109375 43.015625 \nQ 36.375 43.015625 40.234375 45.921875 \nQ 44.09375 48.828125 44.09375 54.296875 \nQ 44.09375 59.90625 40.109375 62.90625 \nQ 36.140625 65.921875 28.71875 65.921875 \nQ 24.65625 65.921875 20.015625 65.03125 \nQ 15.375 64.15625 9.8125 62.3125 \nL 9.8125 71.09375 \nQ 15.4375 72.65625 20.34375 73.4375 \nQ 25.25 74.21875 29.59375 74.21875 \nQ 40.828125 74.21875 47.359375 69.109375 \nQ 53.90625 64.015625 53.90625 55.328125 \nQ 53.90625 49.265625 50.4375 45.09375 \nQ 46.96875 40.921875 40.578125 39.3125 \nz\n\" id=\"DejaVuSans-51\"/>\n       </defs>\n       <use xlink:href=\"#DejaVuSans-51\"/>\n       <use x=\"63.623047\" xlink:href=\"#DejaVuSans-48\"/>\n      </g>\n     </g>\n    </g>\n    <g id=\"text_8\">\n     <!-- Days -->\n     <g transform=\"translate(311.367188 323.914375)scale(0.1 -0.1)\">\n      <defs>\n       <path d=\"M 19.671875 64.796875 \nL 19.671875 8.109375 \nL 31.59375 8.109375 \nQ 46.6875 8.109375 53.6875 14.9375 \nQ 60.6875 21.78125 60.6875 36.53125 \nQ 60.6875 51.171875 53.6875 57.984375 \nQ 46.6875 64.796875 31.59375 64.796875 \nz\nM 9.8125 72.90625 \nL 30.078125 72.90625 \nQ 51.265625 72.90625 61.171875 64.09375 \nQ 71.09375 55.28125 71.09375 36.53125 \nQ 71.09375 17.671875 61.125 8.828125 \nQ 51.171875 0 30.078125 0 \nL 9.8125 0 \nz\n\" id=\"DejaVuSans-68\"/>\n       <path d=\"M 34.28125 27.484375 \nQ 23.390625 27.484375 19.1875 25 \nQ 14.984375 22.515625 14.984375 16.5 \nQ 14.984375 11.71875 18.140625 8.90625 \nQ 21.296875 6.109375 26.703125 6.109375 \nQ 34.1875 6.109375 38.703125 11.40625 \nQ 43.21875 16.703125 43.21875 25.484375 \nL 43.21875 27.484375 \nz\nM 52.203125 31.203125 \nL 52.203125 0 \nL 43.21875 0 \nL 43.21875 8.296875 \nQ 40.140625 3.328125 35.546875 0.953125 \nQ 30.953125 -1.421875 24.3125 -1.421875 \nQ 15.921875 -1.421875 10.953125 3.296875 \nQ 6 8.015625 6 15.921875 \nQ 6 25.140625 12.171875 29.828125 \nQ 18.359375 34.515625 30.609375 34.515625 \nL 43.21875 34.515625 \nL 43.21875 35.40625 \nQ 43.21875 41.609375 39.140625 45 \nQ 35.0625 48.390625 27.6875 48.390625 \nQ 23 48.390625 18.546875 47.265625 \nQ 14.109375 46.140625 10.015625 43.890625 \nL 10.015625 52.203125 \nQ 14.9375 54.109375 19.578125 55.046875 \nQ 24.21875 56 28.609375 56 \nQ 40.484375 56 46.34375 49.84375 \nQ 52.203125 43.703125 52.203125 31.203125 \nz\n\" id=\"DejaVuSans-97\"/>\n       <path d=\"M 32.171875 -5.078125 \nQ 28.375 -14.84375 24.75 -17.8125 \nQ 21.140625 -20.796875 15.09375 -20.796875 \nL 7.90625 -20.796875 \nL 7.90625 -13.28125 \nL 13.1875 -13.28125 \nQ 16.890625 -13.28125 18.9375 -11.515625 \nQ 21 -9.765625 23.484375 -3.21875 \nL 25.09375 0.875 \nL 2.984375 54.6875 \nL 12.5 54.6875 \nL 29.59375 11.921875 \nL 46.6875 54.6875 \nL 56.203125 54.6875 \nz\n\" id=\"DejaVuSans-121\"/>\n       <path d=\"M 44.28125 53.078125 \nL 44.28125 44.578125 \nQ 40.484375 46.53125 36.375 47.5 \nQ 32.28125 48.484375 27.875 48.484375 \nQ 21.1875 48.484375 17.84375 46.4375 \nQ 14.5 44.390625 14.5 40.28125 \nQ 14.5 37.15625 16.890625 35.375 \nQ 19.28125 33.59375 26.515625 31.984375 \nL 29.59375 31.296875 \nQ 39.15625 29.25 43.1875 25.515625 \nQ 47.21875 21.78125 47.21875 15.09375 \nQ 47.21875 7.46875 41.1875 3.015625 \nQ 35.15625 -1.421875 24.609375 -1.421875 \nQ 20.21875 -1.421875 15.453125 -0.5625 \nQ 10.6875 0.296875 5.421875 2 \nL 5.421875 11.28125 \nQ 10.40625 8.6875 15.234375 7.390625 \nQ 20.0625 6.109375 24.8125 6.109375 \nQ 31.15625 6.109375 34.5625 8.28125 \nQ 37.984375 10.453125 37.984375 14.40625 \nQ 37.984375 18.0625 35.515625 20.015625 \nQ 33.0625 21.96875 24.703125 23.78125 \nL 21.578125 24.515625 \nQ 13.234375 26.265625 9.515625 29.90625 \nQ 5.8125 33.546875 5.8125 39.890625 \nQ 5.8125 47.609375 11.28125 51.796875 \nQ 16.75 56 26.8125 56 \nQ 31.78125 56 36.171875 55.265625 \nQ 40.578125 54.546875 44.28125 53.078125 \nz\n\" id=\"DejaVuSans-115\"/>\n      </defs>\n      <use xlink:href=\"#DejaVuSans-68\"/>\n      <use x=\"77.001953\" xlink:href=\"#DejaVuSans-97\"/>\n      <use x=\"138.28125\" xlink:href=\"#DejaVuSans-121\"/>\n      <use x=\"197.460938\" xlink:href=\"#DejaVuSans-115\"/>\n     </g>\n    </g>\n   </g>\n   <g id=\"matplotlib.axis_2\">\n    <g id=\"ytick_1\">\n     <g id=\"line2d_8\">\n      <defs>\n       <path d=\"M 0 0 \nL -3.5 0 \n\" id=\"m4385508c96\" style=\"stroke:#000000;stroke-width:0.8;\"/>\n      </defs>\n      <g>\n       <use style=\"stroke:#000000;stroke-width:0.8;\" x=\"44.845313\" xlink:href=\"#m4385508c96\" y=\"295.637812\"/>\n      </g>\n     </g>\n     <g id=\"text_9\">\n      <!-- −0.20 -->\n      <g transform=\"translate(7.2 299.437031)scale(0.1 -0.1)\">\n       <defs>\n        <path d=\"M 10.59375 35.5 \nL 73.1875 35.5 \nL 73.1875 27.203125 \nL 10.59375 27.203125 \nz\n\" id=\"DejaVuSans-8722\"/>\n        <path d=\"M 10.6875 12.40625 \nL 21 12.40625 \nL 21 0 \nL 10.6875 0 \nz\n\" id=\"DejaVuSans-46\"/>\n       </defs>\n       <use xlink:href=\"#DejaVuSans-8722\"/>\n       <use x=\"83.789062\" xlink:href=\"#DejaVuSans-48\"/>\n       <use x=\"147.412109\" xlink:href=\"#DejaVuSans-46\"/>\n       <use x=\"179.199219\" xlink:href=\"#DejaVuSans-50\"/>\n       <use x=\"242.822266\" xlink:href=\"#DejaVuSans-48\"/>\n      </g>\n     </g>\n    </g>\n    <g id=\"ytick_2\">\n     <g id=\"line2d_9\">\n      <g>\n       <use style=\"stroke:#000000;stroke-width:0.8;\" x=\"44.845313\" xlink:href=\"#m4385508c96\" y=\"261.662812\"/>\n      </g>\n     </g>\n     <g id=\"text_10\">\n      <!-- −0.15 -->\n      <g transform=\"translate(7.2 265.462031)scale(0.1 -0.1)\">\n       <use xlink:href=\"#DejaVuSans-8722\"/>\n       <use x=\"83.789062\" xlink:href=\"#DejaVuSans-48\"/>\n       <use x=\"147.412109\" xlink:href=\"#DejaVuSans-46\"/>\n       <use x=\"179.199219\" xlink:href=\"#DejaVuSans-49\"/>\n       <use x=\"242.822266\" xlink:href=\"#DejaVuSans-53\"/>\n      </g>\n     </g>\n    </g>\n    <g id=\"ytick_3\">\n     <g id=\"line2d_10\">\n      <g>\n       <use style=\"stroke:#000000;stroke-width:0.8;\" x=\"44.845313\" xlink:href=\"#m4385508c96\" y=\"227.687812\"/>\n      </g>\n     </g>\n     <g id=\"text_11\">\n      <!-- −0.10 -->\n      <g transform=\"translate(7.2 231.487031)scale(0.1 -0.1)\">\n       <use xlink:href=\"#DejaVuSans-8722\"/>\n       <use x=\"83.789062\" xlink:href=\"#DejaVuSans-48\"/>\n       <use x=\"147.412109\" xlink:href=\"#DejaVuSans-46\"/>\n       <use x=\"179.199219\" xlink:href=\"#DejaVuSans-49\"/>\n       <use x=\"242.822266\" xlink:href=\"#DejaVuSans-48\"/>\n      </g>\n     </g>\n    </g>\n    <g id=\"ytick_4\">\n     <g id=\"line2d_11\">\n      <g>\n       <use style=\"stroke:#000000;stroke-width:0.8;\" x=\"44.845313\" xlink:href=\"#m4385508c96\" y=\"193.712812\"/>\n      </g>\n     </g>\n     <g id=\"text_12\">\n      <!-- −0.05 -->\n      <g transform=\"translate(7.2 197.512031)scale(0.1 -0.1)\">\n       <use xlink:href=\"#DejaVuSans-8722\"/>\n       <use x=\"83.789062\" xlink:href=\"#DejaVuSans-48\"/>\n       <use x=\"147.412109\" xlink:href=\"#DejaVuSans-46\"/>\n       <use x=\"179.199219\" xlink:href=\"#DejaVuSans-48\"/>\n       <use x=\"242.822266\" xlink:href=\"#DejaVuSans-53\"/>\n      </g>\n     </g>\n    </g>\n    <g id=\"ytick_5\">\n     <g id=\"line2d_12\">\n      <g>\n       <use style=\"stroke:#000000;stroke-width:0.8;\" x=\"44.845313\" xlink:href=\"#m4385508c96\" y=\"159.737812\"/>\n      </g>\n     </g>\n     <g id=\"text_13\">\n      <!-- 0.00 -->\n      <g transform=\"translate(15.579688 163.537031)scale(0.1 -0.1)\">\n       <use xlink:href=\"#DejaVuSans-48\"/>\n       <use x=\"63.623047\" xlink:href=\"#DejaVuSans-46\"/>\n       <use x=\"95.410156\" xlink:href=\"#DejaVuSans-48\"/>\n       <use x=\"159.033203\" xlink:href=\"#DejaVuSans-48\"/>\n      </g>\n     </g>\n    </g>\n    <g id=\"ytick_6\">\n     <g id=\"line2d_13\">\n      <g>\n       <use style=\"stroke:#000000;stroke-width:0.8;\" x=\"44.845313\" xlink:href=\"#m4385508c96\" y=\"125.762812\"/>\n      </g>\n     </g>\n     <g id=\"text_14\">\n      <!-- 0.05 -->\n      <g transform=\"translate(15.579688 129.562031)scale(0.1 -0.1)\">\n       <use xlink:href=\"#DejaVuSans-48\"/>\n       <use x=\"63.623047\" xlink:href=\"#DejaVuSans-46\"/>\n       <use x=\"95.410156\" xlink:href=\"#DejaVuSans-48\"/>\n       <use x=\"159.033203\" xlink:href=\"#DejaVuSans-53\"/>\n      </g>\n     </g>\n    </g>\n    <g id=\"ytick_7\">\n     <g id=\"line2d_14\">\n      <g>\n       <use style=\"stroke:#000000;stroke-width:0.8;\" x=\"44.845313\" xlink:href=\"#m4385508c96\" y=\"91.787812\"/>\n      </g>\n     </g>\n     <g id=\"text_15\">\n      <!-- 0.10 -->\n      <g transform=\"translate(15.579688 95.587031)scale(0.1 -0.1)\">\n       <use xlink:href=\"#DejaVuSans-48\"/>\n       <use x=\"63.623047\" xlink:href=\"#DejaVuSans-46\"/>\n       <use x=\"95.410156\" xlink:href=\"#DejaVuSans-49\"/>\n       <use x=\"159.033203\" xlink:href=\"#DejaVuSans-48\"/>\n      </g>\n     </g>\n    </g>\n    <g id=\"ytick_8\">\n     <g id=\"line2d_15\">\n      <g>\n       <use style=\"stroke:#000000;stroke-width:0.8;\" x=\"44.845313\" xlink:href=\"#m4385508c96\" y=\"57.812812\"/>\n      </g>\n     </g>\n     <g id=\"text_16\">\n      <!-- 0.15 -->\n      <g transform=\"translate(15.579688 61.612031)scale(0.1 -0.1)\">\n       <use xlink:href=\"#DejaVuSans-48\"/>\n       <use x=\"63.623047\" xlink:href=\"#DejaVuSans-46\"/>\n       <use x=\"95.410156\" xlink:href=\"#DejaVuSans-49\"/>\n       <use x=\"159.033203\" xlink:href=\"#DejaVuSans-53\"/>\n      </g>\n     </g>\n    </g>\n    <g id=\"ytick_9\">\n     <g id=\"line2d_16\">\n      <g>\n       <use style=\"stroke:#000000;stroke-width:0.8;\" x=\"44.845313\" xlink:href=\"#m4385508c96\" y=\"23.837813\"/>\n      </g>\n     </g>\n     <g id=\"text_17\">\n      <!-- 0.20 -->\n      <g transform=\"translate(15.579688 27.637031)scale(0.1 -0.1)\">\n       <use xlink:href=\"#DejaVuSans-48\"/>\n       <use x=\"63.623047\" xlink:href=\"#DejaVuSans-46\"/>\n       <use x=\"95.410156\" xlink:href=\"#DejaVuSans-50\"/>\n       <use x=\"159.033203\" xlink:href=\"#DejaVuSans-48\"/>\n      </g>\n     </g>\n    </g>\n   </g>\n   <g id=\"line2d_17\">\n    <path clip-path=\"url(#p312084ac3c)\" d=\"M 70.208949 141.876811 \nL 87.701112 142.920676 \nL 105.193275 143.379796 \nL 122.685438 159.737812 \nL 140.177601 159.737812 \nL 157.669764 159.737812 \nL 175.161927 159.737812 \nL 192.65409 144.593 \nL 210.146253 145.675058 \nL 227.638416 145.149001 \nL 245.130579 159.737812 \nL 262.622742 141.866447 \nL 280.114905 159.737812 \nL 297.607068 159.737812 \nL 315.099231 159.737812 \nL 332.591394 142.302029 \nL 350.083557 142.88596 \nL 367.57572 144.797081 \nL 385.067883 159.737812 \nL 402.560046 159.737812 \nL 420.052209 159.737812 \nL 437.544372 141.488877 \nL 455.036535 141.45073 \nL 472.528698 143.3836 \nL 490.020861 141.036354 \nL 507.513024 142.351294 \nL 525.005187 140.344084 \nL 542.49735 159.737812 \nL 559.989513 145.559957 \nL 577.481676 142.56121 \n\" style=\"fill:none;stroke:#0000ff;stroke-linecap:square;stroke-width:1.5;\"/>\n    <defs>\n     <path d=\"M -1.5 1.5 \nL 1.5 1.5 \nL 1.5 -1.5 \nL -1.5 -1.5 \nz\n\" id=\"m582d77ad1f\" style=\"stroke:#0000ff;stroke-linejoin:miter;\"/>\n    </defs>\n    <g clip-path=\"url(#p312084ac3c)\">\n     <use style=\"fill:#0000ff;stroke:#0000ff;stroke-linejoin:miter;\" x=\"70.208949\" xlink:href=\"#m582d77ad1f\" y=\"141.876811\"/>\n     <use style=\"fill:#0000ff;stroke:#0000ff;stroke-linejoin:miter;\" x=\"87.701112\" xlink:href=\"#m582d77ad1f\" y=\"142.920676\"/>\n     <use style=\"fill:#0000ff;stroke:#0000ff;stroke-linejoin:miter;\" x=\"105.193275\" xlink:href=\"#m582d77ad1f\" y=\"143.379796\"/>\n     <use style=\"fill:#0000ff;stroke:#0000ff;stroke-linejoin:miter;\" x=\"122.685438\" xlink:href=\"#m582d77ad1f\" y=\"159.737812\"/>\n     <use style=\"fill:#0000ff;stroke:#0000ff;stroke-linejoin:miter;\" x=\"140.177601\" xlink:href=\"#m582d77ad1f\" y=\"159.737812\"/>\n     <use style=\"fill:#0000ff;stroke:#0000ff;stroke-linejoin:miter;\" x=\"157.669764\" xlink:href=\"#m582d77ad1f\" y=\"159.737812\"/>\n     <use style=\"fill:#0000ff;stroke:#0000ff;stroke-linejoin:miter;\" x=\"175.161927\" xlink:href=\"#m582d77ad1f\" y=\"159.737812\"/>\n     <use style=\"fill:#0000ff;stroke:#0000ff;stroke-linejoin:miter;\" x=\"192.65409\" xlink:href=\"#m582d77ad1f\" y=\"144.593\"/>\n     <use style=\"fill:#0000ff;stroke:#0000ff;stroke-linejoin:miter;\" x=\"210.146253\" xlink:href=\"#m582d77ad1f\" y=\"145.675058\"/>\n     <use style=\"fill:#0000ff;stroke:#0000ff;stroke-linejoin:miter;\" x=\"227.638416\" xlink:href=\"#m582d77ad1f\" y=\"145.149001\"/>\n     <use style=\"fill:#0000ff;stroke:#0000ff;stroke-linejoin:miter;\" x=\"245.130579\" xlink:href=\"#m582d77ad1f\" y=\"159.737812\"/>\n     <use style=\"fill:#0000ff;stroke:#0000ff;stroke-linejoin:miter;\" x=\"262.622742\" xlink:href=\"#m582d77ad1f\" y=\"141.866447\"/>\n     <use style=\"fill:#0000ff;stroke:#0000ff;stroke-linejoin:miter;\" x=\"280.114905\" xlink:href=\"#m582d77ad1f\" y=\"159.737812\"/>\n     <use style=\"fill:#0000ff;stroke:#0000ff;stroke-linejoin:miter;\" x=\"297.607068\" xlink:href=\"#m582d77ad1f\" y=\"159.737812\"/>\n     <use style=\"fill:#0000ff;stroke:#0000ff;stroke-linejoin:miter;\" x=\"315.099231\" xlink:href=\"#m582d77ad1f\" y=\"159.737812\"/>\n     <use style=\"fill:#0000ff;stroke:#0000ff;stroke-linejoin:miter;\" x=\"332.591394\" xlink:href=\"#m582d77ad1f\" y=\"142.302029\"/>\n     <use style=\"fill:#0000ff;stroke:#0000ff;stroke-linejoin:miter;\" x=\"350.083557\" xlink:href=\"#m582d77ad1f\" y=\"142.88596\"/>\n     <use style=\"fill:#0000ff;stroke:#0000ff;stroke-linejoin:miter;\" x=\"367.57572\" xlink:href=\"#m582d77ad1f\" y=\"144.797081\"/>\n     <use style=\"fill:#0000ff;stroke:#0000ff;stroke-linejoin:miter;\" x=\"385.067883\" xlink:href=\"#m582d77ad1f\" y=\"159.737812\"/>\n     <use style=\"fill:#0000ff;stroke:#0000ff;stroke-linejoin:miter;\" x=\"402.560046\" xlink:href=\"#m582d77ad1f\" y=\"159.737812\"/>\n     <use style=\"fill:#0000ff;stroke:#0000ff;stroke-linejoin:miter;\" x=\"420.052209\" xlink:href=\"#m582d77ad1f\" y=\"159.737812\"/>\n     <use style=\"fill:#0000ff;stroke:#0000ff;stroke-linejoin:miter;\" x=\"437.544372\" xlink:href=\"#m582d77ad1f\" y=\"141.488877\"/>\n     <use style=\"fill:#0000ff;stroke:#0000ff;stroke-linejoin:miter;\" x=\"455.036535\" xlink:href=\"#m582d77ad1f\" y=\"141.45073\"/>\n     <use style=\"fill:#0000ff;stroke:#0000ff;stroke-linejoin:miter;\" x=\"472.528698\" xlink:href=\"#m582d77ad1f\" y=\"143.3836\"/>\n     <use style=\"fill:#0000ff;stroke:#0000ff;stroke-linejoin:miter;\" x=\"490.020861\" xlink:href=\"#m582d77ad1f\" y=\"141.036354\"/>\n     <use style=\"fill:#0000ff;stroke:#0000ff;stroke-linejoin:miter;\" x=\"507.513024\" xlink:href=\"#m582d77ad1f\" y=\"142.351294\"/>\n     <use style=\"fill:#0000ff;stroke:#0000ff;stroke-linejoin:miter;\" x=\"525.005187\" xlink:href=\"#m582d77ad1f\" y=\"140.344084\"/>\n     <use style=\"fill:#0000ff;stroke:#0000ff;stroke-linejoin:miter;\" x=\"542.49735\" xlink:href=\"#m582d77ad1f\" y=\"159.737812\"/>\n     <use style=\"fill:#0000ff;stroke:#0000ff;stroke-linejoin:miter;\" x=\"559.989513\" xlink:href=\"#m582d77ad1f\" y=\"145.559957\"/>\n     <use style=\"fill:#0000ff;stroke:#0000ff;stroke-linejoin:miter;\" x=\"577.481676\" xlink:href=\"#m582d77ad1f\" y=\"142.56121\"/>\n    </g>\n   </g>\n   <g id=\"line2d_18\">\n    <path clip-path=\"url(#p312084ac3c)\" d=\"M 70.208949 148.400918 \nL 87.701112 147.47827 \nL 105.193275 147.952077 \nL 122.685438 148.14508 \nL 140.177601 148.400918 \nL 157.669764 148.400918 \nL 175.161927 148.400918 \nL 192.65409 148.400918 \nL 210.146253 148.608792 \nL 227.638416 148.964547 \nL 245.130579 148.798484 \nL 262.622742 148.400918 \nL 280.114905 147.473327 \nL 297.607068 148.400918 \nL 315.099231 148.400918 \nL 332.591394 148.400918 \nL 350.083557 147.677087 \nL 367.57572 147.937098 \nL 385.067883 148.680102 \nL 402.560046 148.400918 \nL 420.052209 148.400918 \nL 437.544372 148.400918 \nL 455.036535 147.290011 \nL 472.528698 147.271146 \nL 490.020861 148.14664 \nL 507.513024 147.06222 \nL 525.005187 147.699607 \nL 542.49735 146.696953 \nL 559.989513 148.400918 \nL 577.481676 148.929335 \n\" style=\"fill:none;stroke:#ff0000;stroke-linecap:square;stroke-width:1.5;\"/>\n    <defs>\n     <path d=\"M 0 1.5 \nC 0.397805 1.5 0.77937 1.341951 1.06066 1.06066 \nC 1.341951 0.77937 1.5 0.397805 1.5 0 \nC 1.5 -0.397805 1.341951 -0.77937 1.06066 -1.06066 \nC 0.77937 -1.341951 0.397805 -1.5 0 -1.5 \nC -0.397805 -1.5 -0.77937 -1.341951 -1.06066 -1.06066 \nC -1.341951 -0.77937 -1.5 -0.397805 -1.5 0 \nC -1.5 0.397805 -1.341951 0.77937 -1.06066 1.06066 \nC -0.77937 1.341951 -0.397805 1.5 0 1.5 \nz\n\" id=\"m4de2adcd46\" style=\"stroke:#ff0000;\"/>\n    </defs>\n    <g clip-path=\"url(#p312084ac3c)\">\n     <use style=\"fill:#ff0000;stroke:#ff0000;\" x=\"70.208949\" xlink:href=\"#m4de2adcd46\" y=\"148.400918\"/>\n     <use style=\"fill:#ff0000;stroke:#ff0000;\" x=\"87.701112\" xlink:href=\"#m4de2adcd46\" y=\"147.47827\"/>\n     <use style=\"fill:#ff0000;stroke:#ff0000;\" x=\"105.193275\" xlink:href=\"#m4de2adcd46\" y=\"147.952077\"/>\n     <use style=\"fill:#ff0000;stroke:#ff0000;\" x=\"122.685438\" xlink:href=\"#m4de2adcd46\" y=\"148.14508\"/>\n     <use style=\"fill:#ff0000;stroke:#ff0000;\" x=\"140.177601\" xlink:href=\"#m4de2adcd46\" y=\"148.400918\"/>\n     <use style=\"fill:#ff0000;stroke:#ff0000;\" x=\"157.669764\" xlink:href=\"#m4de2adcd46\" y=\"148.400918\"/>\n     <use style=\"fill:#ff0000;stroke:#ff0000;\" x=\"175.161927\" xlink:href=\"#m4de2adcd46\" y=\"148.400918\"/>\n     <use style=\"fill:#ff0000;stroke:#ff0000;\" x=\"192.65409\" xlink:href=\"#m4de2adcd46\" y=\"148.400918\"/>\n     <use style=\"fill:#ff0000;stroke:#ff0000;\" x=\"210.146253\" xlink:href=\"#m4de2adcd46\" y=\"148.608792\"/>\n     <use style=\"fill:#ff0000;stroke:#ff0000;\" x=\"227.638416\" xlink:href=\"#m4de2adcd46\" y=\"148.964547\"/>\n     <use style=\"fill:#ff0000;stroke:#ff0000;\" x=\"245.130579\" xlink:href=\"#m4de2adcd46\" y=\"148.798484\"/>\n     <use style=\"fill:#ff0000;stroke:#ff0000;\" x=\"262.622742\" xlink:href=\"#m4de2adcd46\" y=\"148.400918\"/>\n     <use style=\"fill:#ff0000;stroke:#ff0000;\" x=\"280.114905\" xlink:href=\"#m4de2adcd46\" y=\"147.473327\"/>\n     <use style=\"fill:#ff0000;stroke:#ff0000;\" x=\"297.607068\" xlink:href=\"#m4de2adcd46\" y=\"148.400918\"/>\n     <use style=\"fill:#ff0000;stroke:#ff0000;\" x=\"315.099231\" xlink:href=\"#m4de2adcd46\" y=\"148.400918\"/>\n     <use style=\"fill:#ff0000;stroke:#ff0000;\" x=\"332.591394\" xlink:href=\"#m4de2adcd46\" y=\"148.400918\"/>\n     <use style=\"fill:#ff0000;stroke:#ff0000;\" x=\"350.083557\" xlink:href=\"#m4de2adcd46\" y=\"147.677087\"/>\n     <use style=\"fill:#ff0000;stroke:#ff0000;\" x=\"367.57572\" xlink:href=\"#m4de2adcd46\" y=\"147.937098\"/>\n     <use style=\"fill:#ff0000;stroke:#ff0000;\" x=\"385.067883\" xlink:href=\"#m4de2adcd46\" y=\"148.680102\"/>\n     <use style=\"fill:#ff0000;stroke:#ff0000;\" x=\"402.560046\" xlink:href=\"#m4de2adcd46\" y=\"148.400918\"/>\n     <use style=\"fill:#ff0000;stroke:#ff0000;\" x=\"420.052209\" xlink:href=\"#m4de2adcd46\" y=\"148.400918\"/>\n     <use style=\"fill:#ff0000;stroke:#ff0000;\" x=\"437.544372\" xlink:href=\"#m4de2adcd46\" y=\"148.400918\"/>\n     <use style=\"fill:#ff0000;stroke:#ff0000;\" x=\"455.036535\" xlink:href=\"#m4de2adcd46\" y=\"147.290011\"/>\n     <use style=\"fill:#ff0000;stroke:#ff0000;\" x=\"472.528698\" xlink:href=\"#m4de2adcd46\" y=\"147.271146\"/>\n     <use style=\"fill:#ff0000;stroke:#ff0000;\" x=\"490.020861\" xlink:href=\"#m4de2adcd46\" y=\"148.14664\"/>\n     <use style=\"fill:#ff0000;stroke:#ff0000;\" x=\"507.513024\" xlink:href=\"#m4de2adcd46\" y=\"147.06222\"/>\n     <use style=\"fill:#ff0000;stroke:#ff0000;\" x=\"525.005187\" xlink:href=\"#m4de2adcd46\" y=\"147.699607\"/>\n     <use style=\"fill:#ff0000;stroke:#ff0000;\" x=\"542.49735\" xlink:href=\"#m4de2adcd46\" y=\"146.696953\"/>\n     <use style=\"fill:#ff0000;stroke:#ff0000;\" x=\"559.989513\" xlink:href=\"#m4de2adcd46\" y=\"148.400918\"/>\n     <use style=\"fill:#ff0000;stroke:#ff0000;\" x=\"577.481676\" xlink:href=\"#m4de2adcd46\" y=\"148.929335\"/>\n    </g>\n   </g>\n   <g id=\"patch_3\">\n    <path d=\"M 44.845313 295.637812 \nL 44.845313 23.837813 \n\" style=\"fill:none;stroke:#000000;stroke-linecap:square;stroke-linejoin:miter;stroke-width:0.8;\"/>\n   </g>\n   <g id=\"patch_4\">\n    <path d=\"M 602.845312 295.637812 \nL 602.845312 23.837813 \n\" style=\"fill:none;stroke:#000000;stroke-linecap:square;stroke-linejoin:miter;stroke-width:0.8;\"/>\n   </g>\n   <g id=\"patch_5\">\n    <path d=\"M 44.845313 295.637812 \nL 602.845312 295.637812 \n\" style=\"fill:none;stroke:#000000;stroke-linecap:square;stroke-linejoin:miter;stroke-width:0.8;\"/>\n   </g>\n   <g id=\"patch_6\">\n    <path d=\"M 44.845313 23.837813 \nL 602.845312 23.837813 \n\" style=\"fill:none;stroke:#000000;stroke-linecap:square;stroke-linejoin:miter;stroke-width:0.8;\"/>\n   </g>\n   <g id=\"text_18\">\n    <!-- CO - Forecast vs Actual -->\n    <g transform=\"translate(242.69125 17.837813)scale(0.14 -0.14)\">\n     <defs>\n      <path d=\"M 64.40625 67.28125 \nL 64.40625 56.890625 \nQ 59.421875 61.53125 53.78125 63.8125 \nQ 48.140625 66.109375 41.796875 66.109375 \nQ 29.296875 66.109375 22.65625 58.46875 \nQ 16.015625 50.828125 16.015625 36.375 \nQ 16.015625 21.96875 22.65625 14.328125 \nQ 29.296875 6.6875 41.796875 6.6875 \nQ 48.140625 6.6875 53.78125 8.984375 \nQ 59.421875 11.28125 64.40625 15.921875 \nL 64.40625 5.609375 \nQ 59.234375 2.09375 53.4375 0.328125 \nQ 47.65625 -1.421875 41.21875 -1.421875 \nQ 24.65625 -1.421875 15.125 8.703125 \nQ 5.609375 18.84375 5.609375 36.375 \nQ 5.609375 53.953125 15.125 64.078125 \nQ 24.65625 74.21875 41.21875 74.21875 \nQ 47.75 74.21875 53.53125 72.484375 \nQ 59.328125 70.75 64.40625 67.28125 \nz\n\" id=\"DejaVuSans-67\"/>\n      <path d=\"M 39.40625 66.21875 \nQ 28.65625 66.21875 22.328125 58.203125 \nQ 16.015625 50.203125 16.015625 36.375 \nQ 16.015625 22.609375 22.328125 14.59375 \nQ 28.65625 6.59375 39.40625 6.59375 \nQ 50.140625 6.59375 56.421875 14.59375 \nQ 62.703125 22.609375 62.703125 36.375 \nQ 62.703125 50.203125 56.421875 58.203125 \nQ 50.140625 66.21875 39.40625 66.21875 \nz\nM 39.40625 74.21875 \nQ 54.734375 74.21875 63.90625 63.9375 \nQ 73.09375 53.65625 73.09375 36.375 \nQ 73.09375 19.140625 63.90625 8.859375 \nQ 54.734375 -1.421875 39.40625 -1.421875 \nQ 24.03125 -1.421875 14.8125 8.828125 \nQ 5.609375 19.09375 5.609375 36.375 \nQ 5.609375 53.65625 14.8125 63.9375 \nQ 24.03125 74.21875 39.40625 74.21875 \nz\n\" id=\"DejaVuSans-79\"/>\n      <path id=\"DejaVuSans-32\"/>\n      <path d=\"M 4.890625 31.390625 \nL 31.203125 31.390625 \nL 31.203125 23.390625 \nL 4.890625 23.390625 \nz\n\" id=\"DejaVuSans-45\"/>\n      <path d=\"M 9.8125 72.90625 \nL 51.703125 72.90625 \nL 51.703125 64.59375 \nL 19.671875 64.59375 \nL 19.671875 43.109375 \nL 48.578125 43.109375 \nL 48.578125 34.8125 \nL 19.671875 34.8125 \nL 19.671875 0 \nL 9.8125 0 \nz\n\" id=\"DejaVuSans-70\"/>\n      <path d=\"M 30.609375 48.390625 \nQ 23.390625 48.390625 19.1875 42.75 \nQ 14.984375 37.109375 14.984375 27.296875 \nQ 14.984375 17.484375 19.15625 11.84375 \nQ 23.34375 6.203125 30.609375 6.203125 \nQ 37.796875 6.203125 41.984375 11.859375 \nQ 46.1875 17.53125 46.1875 27.296875 \nQ 46.1875 37.015625 41.984375 42.703125 \nQ 37.796875 48.390625 30.609375 48.390625 \nz\nM 30.609375 56 \nQ 42.328125 56 49.015625 48.375 \nQ 55.71875 40.765625 55.71875 27.296875 \nQ 55.71875 13.875 49.015625 6.21875 \nQ 42.328125 -1.421875 30.609375 -1.421875 \nQ 18.84375 -1.421875 12.171875 6.21875 \nQ 5.515625 13.875 5.515625 27.296875 \nQ 5.515625 40.765625 12.171875 48.375 \nQ 18.84375 56 30.609375 56 \nz\n\" id=\"DejaVuSans-111\"/>\n      <path d=\"M 41.109375 46.296875 \nQ 39.59375 47.171875 37.8125 47.578125 \nQ 36.03125 48 33.890625 48 \nQ 26.265625 48 22.1875 43.046875 \nQ 18.109375 38.09375 18.109375 28.8125 \nL 18.109375 0 \nL 9.078125 0 \nL 9.078125 54.6875 \nL 18.109375 54.6875 \nL 18.109375 46.1875 \nQ 20.953125 51.171875 25.484375 53.578125 \nQ 30.03125 56 36.53125 56 \nQ 37.453125 56 38.578125 55.875 \nQ 39.703125 55.765625 41.0625 55.515625 \nz\n\" id=\"DejaVuSans-114\"/>\n      <path d=\"M 56.203125 29.59375 \nL 56.203125 25.203125 \nL 14.890625 25.203125 \nQ 15.484375 15.921875 20.484375 11.0625 \nQ 25.484375 6.203125 34.421875 6.203125 \nQ 39.59375 6.203125 44.453125 7.46875 \nQ 49.3125 8.734375 54.109375 11.28125 \nL 54.109375 2.78125 \nQ 49.265625 0.734375 44.1875 -0.34375 \nQ 39.109375 -1.421875 33.890625 -1.421875 \nQ 20.796875 -1.421875 13.15625 6.1875 \nQ 5.515625 13.8125 5.515625 26.8125 \nQ 5.515625 40.234375 12.765625 48.109375 \nQ 20.015625 56 32.328125 56 \nQ 43.359375 56 49.78125 48.890625 \nQ 56.203125 41.796875 56.203125 29.59375 \nz\nM 47.21875 32.234375 \nQ 47.125 39.59375 43.09375 43.984375 \nQ 39.0625 48.390625 32.421875 48.390625 \nQ 24.90625 48.390625 20.390625 44.140625 \nQ 15.875 39.890625 15.1875 32.171875 \nz\n\" id=\"DejaVuSans-101\"/>\n      <path d=\"M 48.78125 52.59375 \nL 48.78125 44.1875 \nQ 44.96875 46.296875 41.140625 47.34375 \nQ 37.3125 48.390625 33.40625 48.390625 \nQ 24.65625 48.390625 19.8125 42.84375 \nQ 14.984375 37.3125 14.984375 27.296875 \nQ 14.984375 17.28125 19.8125 11.734375 \nQ 24.65625 6.203125 33.40625 6.203125 \nQ 37.3125 6.203125 41.140625 7.25 \nQ 44.96875 8.296875 48.78125 10.40625 \nL 48.78125 2.09375 \nQ 45.015625 0.34375 40.984375 -0.53125 \nQ 36.96875 -1.421875 32.421875 -1.421875 \nQ 20.0625 -1.421875 12.78125 6.34375 \nQ 5.515625 14.109375 5.515625 27.296875 \nQ 5.515625 40.671875 12.859375 48.328125 \nQ 20.21875 56 33.015625 56 \nQ 37.15625 56 41.109375 55.140625 \nQ 45.0625 54.296875 48.78125 52.59375 \nz\n\" id=\"DejaVuSans-99\"/>\n      <path d=\"M 18.3125 70.21875 \nL 18.3125 54.6875 \nL 36.8125 54.6875 \nL 36.8125 47.703125 \nL 18.3125 47.703125 \nL 18.3125 18.015625 \nQ 18.3125 11.328125 20.140625 9.421875 \nQ 21.96875 7.515625 27.59375 7.515625 \nL 36.8125 7.515625 \nL 36.8125 0 \nL 27.59375 0 \nQ 17.1875 0 13.234375 3.875 \nQ 9.28125 7.765625 9.28125 18.015625 \nL 9.28125 47.703125 \nL 2.6875 47.703125 \nL 2.6875 54.6875 \nL 9.28125 54.6875 \nL 9.28125 70.21875 \nz\n\" id=\"DejaVuSans-116\"/>\n      <path d=\"M 2.984375 54.6875 \nL 12.5 54.6875 \nL 29.59375 8.796875 \nL 46.6875 54.6875 \nL 56.203125 54.6875 \nL 35.6875 0 \nL 23.484375 0 \nz\n\" id=\"DejaVuSans-118\"/>\n      <path d=\"M 34.1875 63.1875 \nL 20.796875 26.90625 \nL 47.609375 26.90625 \nz\nM 28.609375 72.90625 \nL 39.796875 72.90625 \nL 67.578125 0 \nL 57.328125 0 \nL 50.6875 18.703125 \nL 17.828125 18.703125 \nL 11.1875 0 \nL 0.78125 0 \nz\n\" id=\"DejaVuSans-65\"/>\n      <path d=\"M 8.5 21.578125 \nL 8.5 54.6875 \nL 17.484375 54.6875 \nL 17.484375 21.921875 \nQ 17.484375 14.15625 20.5 10.265625 \nQ 23.53125 6.390625 29.59375 6.390625 \nQ 36.859375 6.390625 41.078125 11.03125 \nQ 45.3125 15.671875 45.3125 23.6875 \nL 45.3125 54.6875 \nL 54.296875 54.6875 \nL 54.296875 0 \nL 45.3125 0 \nL 45.3125 8.40625 \nQ 42.046875 3.421875 37.71875 1 \nQ 33.40625 -1.421875 27.6875 -1.421875 \nQ 18.265625 -1.421875 13.375 4.4375 \nQ 8.5 10.296875 8.5 21.578125 \nz\nM 31.109375 56 \nz\n\" id=\"DejaVuSans-117\"/>\n      <path d=\"M 9.421875 75.984375 \nL 18.40625 75.984375 \nL 18.40625 0 \nL 9.421875 0 \nz\n\" id=\"DejaVuSans-108\"/>\n     </defs>\n     <use xlink:href=\"#DejaVuSans-67\"/>\n     <use x=\"69.824219\" xlink:href=\"#DejaVuSans-79\"/>\n     <use x=\"148.535156\" xlink:href=\"#DejaVuSans-32\"/>\n     <use x=\"180.322266\" xlink:href=\"#DejaVuSans-45\"/>\n     <use x=\"216.40625\" xlink:href=\"#DejaVuSans-32\"/>\n     <use x=\"248.193359\" xlink:href=\"#DejaVuSans-70\"/>\n     <use x=\"302.087891\" xlink:href=\"#DejaVuSans-111\"/>\n     <use x=\"363.269531\" xlink:href=\"#DejaVuSans-114\"/>\n     <use x=\"402.132812\" xlink:href=\"#DejaVuSans-101\"/>\n     <use x=\"463.65625\" xlink:href=\"#DejaVuSans-99\"/>\n     <use x=\"518.636719\" xlink:href=\"#DejaVuSans-97\"/>\n     <use x=\"579.916016\" xlink:href=\"#DejaVuSans-115\"/>\n     <use x=\"632.015625\" xlink:href=\"#DejaVuSans-116\"/>\n     <use x=\"671.224609\" xlink:href=\"#DejaVuSans-32\"/>\n     <use x=\"703.011719\" xlink:href=\"#DejaVuSans-118\"/>\n     <use x=\"762.191406\" xlink:href=\"#DejaVuSans-115\"/>\n     <use x=\"814.291016\" xlink:href=\"#DejaVuSans-32\"/>\n     <use x=\"846.078125\" xlink:href=\"#DejaVuSans-65\"/>\n     <use x=\"912.736328\" xlink:href=\"#DejaVuSans-99\"/>\n     <use x=\"967.716797\" xlink:href=\"#DejaVuSans-116\"/>\n     <use x=\"1006.925781\" xlink:href=\"#DejaVuSans-117\"/>\n     <use x=\"1070.304688\" xlink:href=\"#DejaVuSans-97\"/>\n     <use x=\"1131.583984\" xlink:href=\"#DejaVuSans-108\"/>\n    </g>\n   </g>\n   <g id=\"legend_1\">\n    <g id=\"patch_7\">\n     <path d=\"M 521.542187 61.194062 \nL 595.845312 61.194062 \nQ 597.845312 61.194062 597.845312 59.194062 \nL 597.845312 30.837812 \nQ 597.845312 28.837812 595.845312 28.837812 \nL 521.542187 28.837812 \nQ 519.542187 28.837812 519.542187 30.837812 \nL 519.542187 59.194062 \nQ 519.542187 61.194062 521.542187 61.194062 \nz\n\" style=\"fill:#ffffff;opacity:0.8;stroke:#cccccc;stroke-linejoin:miter;\"/>\n    </g>\n    <g id=\"line2d_19\">\n     <path d=\"M 523.542187 36.93625 \nL 543.542187 36.93625 \n\" style=\"fill:none;stroke:#0000ff;stroke-linecap:square;stroke-width:1.5;\"/>\n    </g>\n    <g id=\"line2d_20\">\n     <g>\n      <use style=\"fill:#0000ff;stroke:#0000ff;stroke-linejoin:miter;\" x=\"533.542187\" xlink:href=\"#m582d77ad1f\" y=\"36.93625\"/>\n     </g>\n    </g>\n    <g id=\"text_19\">\n     <!-- Actual -->\n     <g transform=\"translate(551.542187 40.43625)scale(0.1 -0.1)\">\n      <use xlink:href=\"#DejaVuSans-65\"/>\n      <use x=\"66.658203\" xlink:href=\"#DejaVuSans-99\"/>\n      <use x=\"121.638672\" xlink:href=\"#DejaVuSans-116\"/>\n      <use x=\"160.847656\" xlink:href=\"#DejaVuSans-117\"/>\n      <use x=\"224.226562\" xlink:href=\"#DejaVuSans-97\"/>\n      <use x=\"285.505859\" xlink:href=\"#DejaVuSans-108\"/>\n     </g>\n    </g>\n    <g id=\"line2d_21\">\n     <path d=\"M 523.542187 51.614375 \nL 543.542187 51.614375 \n\" style=\"fill:none;stroke:#ff0000;stroke-linecap:square;stroke-width:1.5;\"/>\n    </g>\n    <g id=\"line2d_22\">\n     <g>\n      <use style=\"fill:#ff0000;stroke:#ff0000;\" x=\"533.542187\" xlink:href=\"#m4de2adcd46\" y=\"51.614375\"/>\n     </g>\n    </g>\n    <g id=\"text_20\">\n     <!-- Forecast -->\n     <g transform=\"translate(551.542187 55.114375)scale(0.1 -0.1)\">\n      <use xlink:href=\"#DejaVuSans-70\"/>\n      <use x=\"53.894531\" xlink:href=\"#DejaVuSans-111\"/>\n      <use x=\"115.076172\" xlink:href=\"#DejaVuSans-114\"/>\n      <use x=\"153.939453\" xlink:href=\"#DejaVuSans-101\"/>\n      <use x=\"215.462891\" xlink:href=\"#DejaVuSans-99\"/>\n      <use x=\"270.443359\" xlink:href=\"#DejaVuSans-97\"/>\n      <use x=\"331.722656\" xlink:href=\"#DejaVuSans-115\"/>\n      <use x=\"383.822266\" xlink:href=\"#DejaVuSans-116\"/>\n     </g>\n    </g>\n   </g>\n  </g>\n </g>\n <defs>\n  <clipPath id=\"p312084ac3c\">\n   <rect height=\"271.8\" width=\"558\" x=\"44.845313\" y=\"23.837813\"/>\n  </clipPath>\n </defs>\n</svg>\n",
      "image/png": "[encoded data removed]"
     },
     "metadata": {
      "needs_background": "light"
     }
    }
   ],
   "metadata": {}
  },
  {
   "cell_type": "code",
   "execution_count": 14,
   "source": [
    "# calculate root mean squared error\n",
    "trainScore = math.sqrt(mean_squared_error(trainY[0], trainPredict[:,0]))\n",
    "print('Train Score: %.8f RMSE' % (trainScore))\n",
    "testScore = math.sqrt(mean_squared_error(testY[0], testPredict[:,0]))\n",
    "print('Test Score: %.8f RMSE' % (testScore))"
   ],
   "outputs": [
    {
     "output_type": "stream",
     "name": "stdout",
     "text": [
      "Train Score: 0.01847104 RMSE\n",
      "Test Score: 0.01485225 RMSE\n"
     ]
    }
   ],
   "metadata": {}
  },
  {
   "cell_type": "code",
   "execution_count": 15,
   "source": [
    "# shift train predictions for plotting\n",
    "trainPredictPlot = numpy.empty_like(dataset)\n",
    "trainPredictPlot[:, :] = numpy.nan\n",
    "trainPredictPlot[look_back:len(trainPredict)+look_back, :] = trainPredict"
   ],
   "outputs": [],
   "metadata": {}
  },
  {
   "cell_type": "code",
   "execution_count": 16,
   "source": [
    "# shift test predictions for plotting\n",
    "testPredictPlot = numpy.empty_like(dataset)\n",
    "testPredictPlot[:, :] = numpy.nan\n",
    "testPredictPlot[len(trainPredict)+(look_back*2)+1:len(dataset)-1, :] = testPredict"
   ],
   "outputs": [],
   "metadata": {}
  },
  {
   "cell_type": "code",
   "execution_count": 17,
   "source": [
    "# plot baseline and predictions\n",
    "# plt.plot(scaler.inverse_transform(dataset),\"b-\", label=\"Actual\")\n",
    "# plt.plot(trainPredictPlot,\"y-\", label=\"Train pred\")\n",
    "# plt.plot(scaler.inverse_transform(testY)[0],\"b-\", label=\"Actual\")\n",
    "# plt.plot(testPredictPlot, \"g-\", label=\"Test pred\")\n",
    "# plt.legend(loc=\"best\")\n",
    "# plt.show()\n"
   ],
   "outputs": [],
   "metadata": {}
  }
 ],
 "metadata": {
  "orig_nbformat": 4,
  "language_info": {
   "name": "python",
   "version": "3.8.5",
   "mimetype": "text/x-python",
   "codemirror_mode": {
    "name": "ipython",
    "version": 3
   },
   "pygments_lexer": "ipython3",
   "nbconvert_exporter": "python",
   "file_extension": ".py"
  },
  "kernelspec": {
   "name": "python3",
   "display_name": "Python 3.8.5 64-bit ('base': conda)"
  },
  "interpreter": {
   "hash": "7b2db577e2e3c3d59c019c7bce89b93331fb3ae1c9a593654a8d90dfac1c6c30"
  }
 },
 "nbformat": 4,
 "nbformat_minor": 2
}