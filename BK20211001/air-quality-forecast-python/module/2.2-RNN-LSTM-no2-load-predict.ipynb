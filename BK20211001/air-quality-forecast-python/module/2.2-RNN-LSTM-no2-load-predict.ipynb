{
 "cells": [
  {
   "cell_type": "code",
   "execution_count": 1,
   "source": [
    "from tensorflow import keras\n",
    "from pickle import load\n",
    "import numpy\n",
    "\n",
    "# load the model\n",
    "reconstructed_model = keras.models.load_model('models/rnn-lstm-no2')\n",
    "\n",
    "# load the scaler: with fit_transformed by the dataset\n",
    "scaler = load(open('models/rnn-lstm-no2/scaler.pkl', 'rb'))\n",
    "\n",
    "_input2d = numpy.array([[0]])\n",
    "\n",
    "#transform input by saved scaler\n",
    "_input_scaled2d = scaler.transform(_input2d)\n",
    "\n",
    "#convert 2d to 3d array, the model is only accept the 3d array to input\n",
    "_input_scaled3d = _input_scaled2d[:, :, numpy.newaxis]\n",
    "#print(_input_scaled3d)\n",
    "\n",
    "#make the prediction use saced model (the reconstructed_model)\n",
    "pred = reconstructed_model.predict(_input_scaled3d)\n",
    "pred = scaler.inverse_transform(pred)\n",
    "\n",
    "print(\"Prediction after inverse transform (micro mol/m2): \", pred)"
   ],
   "outputs": [
    {
     "output_type": "stream",
     "name": "stdout",
     "text": [
      "Prediction after inverse transform (micro mol/m2):  [[1.7258608e-05]]\n"
     ]
    }
   ],
   "metadata": {}
  }
 ],
 "metadata": {
  "orig_nbformat": 4,
  "language_info": {
   "name": "python",
   "version": "3.8.5",
   "mimetype": "text/x-python",
   "codemirror_mode": {
    "name": "ipython",
    "version": 3
   },
   "pygments_lexer": "ipython3",
   "nbconvert_exporter": "python",
   "file_extension": ".py"
  },
  "kernelspec": {
   "name": "python3",
   "display_name": "Python 3.8.5 64-bit ('base': conda)"
  },
  "interpreter": {
   "hash": "7b2db577e2e3c3d59c019c7bce89b93331fb3ae1c9a593654a8d90dfac1c6c30"
  }
 },
 "nbformat": 4,
 "nbformat_minor": 2
}