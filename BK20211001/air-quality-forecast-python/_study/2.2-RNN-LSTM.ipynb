{
 "cells": [
  {
   "cell_type": "code",
   "execution_count": 25,
   "source": [
    "# Time Series Prediction with LSTM\n",
    "# LSTM for international airline passengers problem with regression framing\n",
    "# https://machinelearningmastery.com/time-series-prediction-lstm-recurrent-neural-networks-python-keras/\n",
    "#!wget https://raw.githubusercontent.com/lazyprogrammer/machine_learning_examples/master/airline/international-airline-passengers.csv\n",
    "import numpy\n",
    "import matplotlib.pyplot as plt\n",
    "from pandas import read_csv\n",
    "import math\n",
    "from keras.models import Sequential\n",
    "from keras.layers import Dense\n",
    "from keras.layers import LSTM\n",
    "from sklearn.preprocessing import MinMaxScaler\n",
    "from sklearn.metrics import mean_squared_error\n",
    "from sklearn.metrics import accuracy_score"
   ],
   "outputs": [],
   "metadata": {}
  },
  {
   "cell_type": "code",
   "execution_count": 26,
   "source": [
    "#convert an array of values into a dataset matrix\n",
    "def create_dataset(dataset, look_back=1):\n",
    " dataX, dataY = [], []\n",
    " for i in range(len(dataset)-look_back-1):\n",
    "  a = dataset[i:(i+look_back), 0]\n",
    "  dataX.append(a)\n",
    "  dataY.append(dataset[i + look_back, 0])\n",
    " return numpy.array(dataX), numpy.array(dataY)"
   ],
   "outputs": [],
   "metadata": {}
  },
  {
   "cell_type": "code",
   "execution_count": 27,
   "source": [
    "# fix random seed for reproducibility\n",
    "numpy.random.seed(7)"
   ],
   "outputs": [],
   "metadata": {}
  },
  {
   "cell_type": "code",
   "execution_count": 28,
   "source": [
    "# load the dataset\n",
    "dataframe = read_csv('dataset/international-airline-passengers.csv', usecols=[1], engine='python', skipfooter=0)\n",
    "dataset = dataframe.values\n",
    "dataset = dataset.astype('float32')"
   ],
   "outputs": [],
   "metadata": {}
  },
  {
   "cell_type": "code",
   "execution_count": 29,
   "source": [
    "# normalize the dataset\n",
    "scaler = MinMaxScaler(feature_range=(0, 1))\n",
    "dataset = scaler.fit_transform(dataset)"
   ],
   "outputs": [],
   "metadata": {}
  },
  {
   "cell_type": "code",
   "execution_count": 30,
   "source": [
    "# split into train and test sets\n",
    "train_size = int(len(dataset) * 0.67)\n",
    "test_size = len(dataset) - train_size\n",
    "train, test = dataset[0:train_size,:], dataset[train_size:len(dataset),:]"
   ],
   "outputs": [],
   "metadata": {}
  },
  {
   "cell_type": "code",
   "execution_count": 31,
   "source": [
    "# reshape into X=t and Y=t+1\n",
    "look_back = 1\n",
    "trainX, trainY = create_dataset(train, look_back)\n",
    "testX, testY = create_dataset(test, look_back)"
   ],
   "outputs": [],
   "metadata": {}
  },
  {
   "cell_type": "code",
   "execution_count": 32,
   "source": [
    "# reshape input to be [samples, time steps, features]\n",
    "trainX = numpy.reshape(trainX, (trainX.shape[0], 1, trainX.shape[1]))\n",
    "testX = numpy.reshape(testX, (testX.shape[0], 1, testX.shape[1]))"
   ],
   "outputs": [],
   "metadata": {}
  },
  {
   "cell_type": "code",
   "execution_count": 33,
   "source": [
    "# create and fit the LSTM network\n",
    "model = Sequential()\n",
    "model.add(LSTM(4, input_shape=(1, look_back)))\n",
    "model.add(Dense(1))\n",
    "model.compile(loss='mean_squared_error', optimizer='adam',\n",
    "    metrics=['accuracy'])\n",
    "model.fit(trainX, trainY, epochs=100, batch_size=1, verbose=2,\n",
    "          validation_data=(testX, testY))\n",
    "\n",
    "score = model.evaluate(testX, testY, verbose=0)\n",
    "print('Test score:', score)"
   ],
   "outputs": [
    {
     "output_type": "stream",
     "name": "stdout",
     "text": [
      "Epoch 1/100\n",
      "94/94 - 2s - loss: 0.0419 - val_loss: 0.2403\n",
      "Epoch 2/100\n",
      "94/94 - 0s - loss: 0.0203 - val_loss: 0.1671\n",
      "Epoch 3/100\n",
      "94/94 - 0s - loss: 0.0158 - val_loss: 0.1393\n",
      "Epoch 4/100\n",
      "94/94 - 0s - loss: 0.0145 - val_loss: 0.1258\n",
      "Epoch 5/100\n",
      "94/94 - 0s - loss: 0.0134 - val_loss: 0.1155\n",
      "Epoch 6/100\n",
      "94/94 - 0s - loss: 0.0124 - val_loss: 0.1047\n",
      "Epoch 7/100\n",
      "94/94 - 0s - loss: 0.0112 - val_loss: 0.0955\n",
      "Epoch 8/100\n",
      "94/94 - 0s - loss: 0.0102 - val_loss: 0.0842\n",
      "Epoch 9/100\n",
      "94/94 - 0s - loss: 0.0090 - val_loss: 0.0696\n",
      "Epoch 10/100\n",
      "94/94 - 0s - loss: 0.0078 - val_loss: 0.0564\n",
      "Epoch 11/100\n",
      "94/94 - 0s - loss: 0.0066 - val_loss: 0.0487\n",
      "Epoch 12/100\n",
      "94/94 - 0s - loss: 0.0057 - val_loss: 0.0391\n",
      "Epoch 13/100\n",
      "94/94 - 0s - loss: 0.0047 - val_loss: 0.0318\n",
      "Epoch 14/100\n",
      "94/94 - 0s - loss: 0.0040 - val_loss: 0.0263\n",
      "Epoch 15/100\n",
      "94/94 - 0s - loss: 0.0034 - val_loss: 0.0201\n",
      "Epoch 16/100\n",
      "94/94 - 0s - loss: 0.0030 - val_loss: 0.0180\n",
      "Epoch 17/100\n",
      "94/94 - 0s - loss: 0.0027 - val_loss: 0.0138\n",
      "Epoch 18/100\n",
      "94/94 - 0s - loss: 0.0023 - val_loss: 0.0130\n",
      "Epoch 19/100\n",
      "94/94 - 0s - loss: 0.0023 - val_loss: 0.0107\n",
      "Epoch 20/100\n",
      "94/94 - 0s - loss: 0.0021 - val_loss: 0.0094\n",
      "Epoch 21/100\n",
      "94/94 - 0s - loss: 0.0021 - val_loss: 0.0091\n",
      "Epoch 22/100\n",
      "94/94 - 0s - loss: 0.0021 - val_loss: 0.0086\n",
      "Epoch 23/100\n",
      "94/94 - 0s - loss: 0.0020 - val_loss: 0.0094\n",
      "Epoch 24/100\n",
      "94/94 - 0s - loss: 0.0020 - val_loss: 0.0085\n",
      "Epoch 25/100\n",
      "94/94 - 0s - loss: 0.0021 - val_loss: 0.0084\n",
      "Epoch 26/100\n",
      "94/94 - 0s - loss: 0.0020 - val_loss: 0.0084\n",
      "Epoch 27/100\n",
      "94/94 - 0s - loss: 0.0021 - val_loss: 0.0083\n",
      "Epoch 28/100\n",
      "94/94 - 0s - loss: 0.0020 - val_loss: 0.0089\n",
      "Epoch 29/100\n",
      "94/94 - 0s - loss: 0.0020 - val_loss: 0.0086\n",
      "Epoch 30/100\n",
      "94/94 - 0s - loss: 0.0020 - val_loss: 0.0084\n",
      "Epoch 31/100\n",
      "94/94 - 0s - loss: 0.0020 - val_loss: 0.0084\n",
      "Epoch 32/100\n",
      "94/94 - 0s - loss: 0.0020 - val_loss: 0.0088\n",
      "Epoch 33/100\n",
      "94/94 - 0s - loss: 0.0020 - val_loss: 0.0085\n",
      "Epoch 34/100\n",
      "94/94 - 0s - loss: 0.0020 - val_loss: 0.0088\n",
      "Epoch 35/100\n",
      "94/94 - 0s - loss: 0.0020 - val_loss: 0.0091\n",
      "Epoch 36/100\n",
      "94/94 - 0s - loss: 0.0020 - val_loss: 0.0089\n",
      "Epoch 37/100\n",
      "94/94 - 0s - loss: 0.0020 - val_loss: 0.0088\n",
      "Epoch 38/100\n",
      "94/94 - 0s - loss: 0.0020 - val_loss: 0.0082\n",
      "Epoch 39/100\n",
      "94/94 - 0s - loss: 0.0021 - val_loss: 0.0082\n",
      "Epoch 40/100\n",
      "94/94 - 0s - loss: 0.0021 - val_loss: 0.0085\n",
      "Epoch 41/100\n",
      "94/94 - 0s - loss: 0.0020 - val_loss: 0.0082\n",
      "Epoch 42/100\n",
      "94/94 - 0s - loss: 0.0021 - val_loss: 0.0081\n",
      "Epoch 43/100\n",
      "94/94 - 0s - loss: 0.0022 - val_loss: 0.0088\n",
      "Epoch 44/100\n",
      "94/94 - 0s - loss: 0.0022 - val_loss: 0.0096\n",
      "Epoch 45/100\n",
      "94/94 - 0s - loss: 0.0020 - val_loss: 0.0088\n",
      "Epoch 46/100\n",
      "94/94 - 0s - loss: 0.0021 - val_loss: 0.0087\n",
      "Epoch 47/100\n",
      "94/94 - 0s - loss: 0.0020 - val_loss: 0.0084\n",
      "Epoch 48/100\n",
      "94/94 - 0s - loss: 0.0020 - val_loss: 0.0091\n",
      "Epoch 49/100\n",
      "94/94 - 0s - loss: 0.0020 - val_loss: 0.0092\n",
      "Epoch 50/100\n",
      "94/94 - 0s - loss: 0.0020 - val_loss: 0.0087\n",
      "Epoch 51/100\n",
      "94/94 - 0s - loss: 0.0021 - val_loss: 0.0088\n",
      "Epoch 52/100\n",
      "94/94 - 0s - loss: 0.0020 - val_loss: 0.0084\n",
      "Epoch 53/100\n",
      "94/94 - 0s - loss: 0.0020 - val_loss: 0.0085\n",
      "Epoch 54/100\n",
      "94/94 - 0s - loss: 0.0020 - val_loss: 0.0087\n",
      "Epoch 55/100\n",
      "94/94 - 0s - loss: 0.0020 - val_loss: 0.0087\n",
      "Epoch 56/100\n",
      "94/94 - 0s - loss: 0.0020 - val_loss: 0.0098\n",
      "Epoch 57/100\n",
      "94/94 - 0s - loss: 0.0021 - val_loss: 0.0089\n",
      "Epoch 58/100\n",
      "94/94 - 0s - loss: 0.0020 - val_loss: 0.0099\n",
      "Epoch 59/100\n",
      "94/94 - 0s - loss: 0.0021 - val_loss: 0.0092\n",
      "Epoch 60/100\n",
      "94/94 - 0s - loss: 0.0020 - val_loss: 0.0084\n",
      "Epoch 61/100\n",
      "94/94 - 0s - loss: 0.0020 - val_loss: 0.0089\n",
      "Epoch 62/100\n",
      "94/94 - 0s - loss: 0.0020 - val_loss: 0.0087\n",
      "Epoch 63/100\n",
      "94/94 - 0s - loss: 0.0020 - val_loss: 0.0088\n",
      "Epoch 64/100\n",
      "94/94 - 0s - loss: 0.0021 - val_loss: 0.0083\n",
      "Epoch 65/100\n",
      "94/94 - 0s - loss: 0.0020 - val_loss: 0.0084\n",
      "Epoch 66/100\n",
      "94/94 - 0s - loss: 0.0020 - val_loss: 0.0099\n",
      "Epoch 67/100\n",
      "94/94 - 0s - loss: 0.0021 - val_loss: 0.0092\n",
      "Epoch 68/100\n",
      "94/94 - 0s - loss: 0.0020 - val_loss: 0.0085\n",
      "Epoch 69/100\n",
      "94/94 - 0s - loss: 0.0021 - val_loss: 0.0083\n",
      "Epoch 70/100\n",
      "94/94 - 0s - loss: 0.0020 - val_loss: 0.0091\n",
      "Epoch 71/100\n",
      "94/94 - 0s - loss: 0.0020 - val_loss: 0.0087\n",
      "Epoch 72/100\n",
      "94/94 - 0s - loss: 0.0020 - val_loss: 0.0090\n",
      "Epoch 73/100\n",
      "94/94 - 0s - loss: 0.0021 - val_loss: 0.0107\n",
      "Epoch 74/100\n",
      "94/94 - 0s - loss: 0.0022 - val_loss: 0.0090\n",
      "Epoch 75/100\n",
      "94/94 - 0s - loss: 0.0021 - val_loss: 0.0097\n",
      "Epoch 76/100\n",
      "94/94 - 0s - loss: 0.0020 - val_loss: 0.0089\n",
      "Epoch 77/100\n",
      "94/94 - 0s - loss: 0.0020 - val_loss: 0.0087\n",
      "Epoch 78/100\n",
      "94/94 - 0s - loss: 0.0020 - val_loss: 0.0102\n",
      "Epoch 79/100\n",
      "94/94 - 0s - loss: 0.0020 - val_loss: 0.0089\n",
      "Epoch 80/100\n",
      "94/94 - 0s - loss: 0.0020 - val_loss: 0.0092\n",
      "Epoch 81/100\n",
      "94/94 - 0s - loss: 0.0020 - val_loss: 0.0107\n",
      "Epoch 82/100\n",
      "94/94 - 0s - loss: 0.0021 - val_loss: 0.0093\n",
      "Epoch 83/100\n",
      "94/94 - 0s - loss: 0.0021 - val_loss: 0.0087\n",
      "Epoch 84/100\n",
      "94/94 - 0s - loss: 0.0020 - val_loss: 0.0089\n",
      "Epoch 85/100\n",
      "94/94 - 0s - loss: 0.0020 - val_loss: 0.0083\n",
      "Epoch 86/100\n",
      "94/94 - 0s - loss: 0.0021 - val_loss: 0.0089\n",
      "Epoch 87/100\n",
      "94/94 - 0s - loss: 0.0020 - val_loss: 0.0082\n",
      "Epoch 88/100\n",
      "94/94 - 0s - loss: 0.0020 - val_loss: 0.0086\n",
      "Epoch 89/100\n",
      "94/94 - 0s - loss: 0.0020 - val_loss: 0.0085\n",
      "Epoch 90/100\n",
      "94/94 - 0s - loss: 0.0020 - val_loss: 0.0092\n",
      "Epoch 91/100\n",
      "94/94 - 0s - loss: 0.0020 - val_loss: 0.0093\n",
      "Epoch 92/100\n",
      "94/94 - 0s - loss: 0.0020 - val_loss: 0.0084\n",
      "Epoch 93/100\n",
      "94/94 - 0s - loss: 0.0021 - val_loss: 0.0092\n",
      "Epoch 94/100\n",
      "94/94 - 0s - loss: 0.0020 - val_loss: 0.0089\n",
      "Epoch 95/100\n",
      "94/94 - 0s - loss: 0.0020 - val_loss: 0.0093\n",
      "Epoch 96/100\n",
      "94/94 - 0s - loss: 0.0020 - val_loss: 0.0091\n",
      "Epoch 97/100\n",
      "94/94 - 0s - loss: 0.0020 - val_loss: 0.0090\n",
      "Epoch 98/100\n",
      "94/94 - 0s - loss: 0.0020 - val_loss: 0.0096\n",
      "Epoch 99/100\n",
      "94/94 - 0s - loss: 0.0020 - val_loss: 0.0085\n",
      "Epoch 100/100\n",
      "94/94 - 0s - loss: 0.0020 - val_loss: 0.0087\n",
      "Test score: 0.008679559454321861\n"
     ]
    }
   ],
   "metadata": {}
  },
  {
   "cell_type": "code",
   "execution_count": 34,
   "source": [
    "# make predictions\n",
    "trainPredict = model.predict(trainX)\n",
    "testPredict = model.predict(testX)"
   ],
   "outputs": [],
   "metadata": {}
  },
  {
   "cell_type": "code",
   "execution_count": 35,
   "source": [
    "# invert predictions\n",
    "trainPredict = scaler.inverse_transform(trainPredict)\n",
    "trainY = scaler.inverse_transform([trainY])\n",
    "testPredict = scaler.inverse_transform(testPredict)\n",
    "testY = scaler.inverse_transform([testY])"
   ],
   "outputs": [],
   "metadata": {}
  },
  {
   "cell_type": "code",
   "execution_count": 36,
   "source": [
    "# calculate root mean squared error\n",
    "trainScore = math.sqrt(mean_squared_error(trainY[0], trainPredict[:,0]))\n",
    "print('Train Score: %.2f RMSE' % (trainScore))\n",
    "testScore = math.sqrt(mean_squared_error(testY[0], testPredict[:,0]))\n",
    "print('Test Score: %.2f RMSE' % (testScore))\n",
    "#print(testY[0], testPredict[:,0])\n",
    "#accScore = accuracy_score(testY[0], testPredict[:,0])\n",
    "#print('Test Accuracy: %.2f' % (accScore))\n",
    "#y_pred = [0, 2, 1, 3]\n",
    "#y_true = [0, 2, 1, 1]\n",
    "#print(\"Accuracy Score:\" ,accuracy_score(numpy.array(testY[0]), numpy.array(testPredict[:,0]))*100, \"%\")\n",
    "#print(\"Accuracy Score:\" ,accuracy_score(y_pred, y_true)*100, \"%\")"
   ],
   "outputs": [
    {
     "output_type": "stream",
     "name": "stdout",
     "text": [
      "Train Score: 22.86 RMSE\n",
      "Test Score: 48.26 RMSE\n"
     ]
    }
   ],
   "metadata": {}
  },
  {
   "cell_type": "code",
   "execution_count": 37,
   "source": [
    "# shift train predictions for plotting\n",
    "trainPredictPlot = numpy.empty_like(dataset)\n",
    "trainPredictPlot[:, :] = numpy.nan\n",
    "trainPredictPlot[look_back:len(trainPredict)+look_back, :] = trainPredict"
   ],
   "outputs": [],
   "metadata": {}
  },
  {
   "cell_type": "code",
   "execution_count": 38,
   "source": [
    "# shift test predictions for plotting\n",
    "testPredictPlot = numpy.empty_like(dataset)\n",
    "testPredictPlot[:, :] = numpy.nan\n",
    "testPredictPlot[len(trainPredict)+(look_back*2)+1:len(dataset)-1, :] = testPredict"
   ],
   "outputs": [],
   "metadata": {}
  },
  {
   "cell_type": "code",
   "execution_count": 39,
   "source": [
    "# plot baseline and predictions\n",
    "plt.plot(scaler.inverse_transform(dataset),\"b-\", label=\"Actual\")\n",
    "plt.plot(trainPredictPlot,\"y-\", label=\"Train pred\")\n",
    "plt.plot(testPredictPlot, \"r-\", label=\"Test pred\")\n",
    "plt.legend(loc=\"best\")\n",
    "plt.show()"
   ],
   "outputs": [
    {
     "output_type": "display_data",
     "data": {
      "text/plain": [
       "<Figure size 432x288 with 1 Axes>"
      ],
      "image/png": "[encoded data removed]"
     },
     "metadata": {
      "needs_background": "light"
     }
    }
   ],
   "metadata": {}
  }
 ],
 "metadata": {
  "orig_nbformat": 4,
  "language_info": {
   "name": "python",
   "version": "3.8.5",
   "mimetype": "text/x-python",
   "codemirror_mode": {
    "name": "ipython",
    "version": 3
   },
   "pygments_lexer": "ipython3",
   "nbconvert_exporter": "python",
   "file_extension": ".py"
  },
  "kernelspec": {
   "name": "python3",
   "display_name": "Python 3.8.5 64-bit ('base': conda)"
  },
  "interpreter": {
   "hash": "7b2db577e2e3c3d59c019c7bce89b93331fb3ae1c9a593654a8d90dfac1c6c30"
  }
 },
 "nbformat": 4,
 "nbformat_minor": 2
}